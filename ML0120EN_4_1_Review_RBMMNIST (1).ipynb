{
  "cells": [
    {
      "cell_type": "markdown",
      "metadata": {
        "id": "9nAeW20lcNlK"
      },
      "source": [
        "<a href=\"https://www.skills.network/?utm_medium=Exinfluencer&utm_source=Exinfluencer&utm_content=000026UJ&utm_term=10006555&utm_id=NA-SkillsNetwork-Channel-SkillsNetworkCoursesIBMDeveloperSkillsNetworkDL0120ENSkillsNetwork20629446-2022-01-01\"><img src=\"https://cf-courses-data.s3.us.cloud-object-storage.appdomain.cloud/IBM-DL0120ENedX/labs/Template%20for%20Instructional%20Hands-on%20Labs/images/IDSNlogo.png\" width=\"400px\" align=\"center\"></a>\n",
        "\n",
        "<h1 align=\"center\"><font size=\"5\">RESTRICTED BOLTZMANN MACHINES</font></h1>\n"
      ]
    },
    {
      "cell_type": "markdown",
      "metadata": {
        "id": "Wge9h8XVcNlL"
      },
      "source": [
        "Estimated time needed: **25** minutes\n"
      ]
    },
    {
      "cell_type": "markdown",
      "metadata": {
        "id": "jq5LiGrQcNlL"
      },
      "source": [
        "<h3>Introduction</h3>\n",
        "<b>Restricted Boltzmann Machine (RBM):</b>  RBMs are shallow neural nets that learn to reconstruct data by themselves in an unsupervised fashion.  \n",
        "\n",
        "<h4>Why are RBMs important?</h4>\n",
        "An RBM are a basic form of autoencoder.  It can automatically extract <b>meaningful</b> features from a given input.\n",
        "\n",
        "<h4>How does it work?</h4>\n",
        "RBM is a 2 layer neural network. Simply, RBM takes the inputs and translates those into a set of binary values that represents them in the hidden layer. Then, these numbers can be translated back to reconstruct the inputs. Through several forward and backward passes, the RBM will be trained, and a trained RBM can reveal which features are the most important ones when detecting patterns.   \n",
        "\n",
        "<h4>What are the applications of an RBM?</h4>\n",
        "RBM is useful for <a href='http://www.cs.utoronto.ca/~hinton/absps/netflixICML.pdf?utm_medium=Exinfluencer&utm_source=Exinfluencer&utm_content=000026UJ&utm_term=10006555&utm_id=NA-SkillsNetwork-Channel-SkillsNetworkCoursesIBMDeveloperSkillsNetworkDL0120ENSkillsNetwork20629446-2022-01-01'>  Collaborative Filtering</a>, dimensionality reduction, classification, regression, feature learning, topic modeling and even <b>Deep Belief Networks</b>.\n",
        "\n",
        "<h4>Is RBM a generative or Discriminative model?</h4>\n",
        "RBM is a generative model. Let me explain it by first, see what is different between discriminative and generative models: \n",
        "\n",
        "<b>Discriminative:</b> Consider a classification problem where we want to learn to distinguish between Sedan cars (y = 1) and SUV cars (y = 0), based on some features of cars. Given a training set, an algorithm like logistic regression tries to find a straight line, or <i>decision boundary</i>, that separates the suv and sedan.\n",
        "\n",
        "<b>Generative:</b> looking at cars, we can build a model of what Sedan cars look like. Then, looking at SUVs, we can build a separate model of what SUV cars look like. Finally, to classify a new car, we can match the new car against the Sedan model, and match it against the SUV model, to see whether the new car looks more like the SUV or Sedan.\n",
        "\n",
        "Generative Models specify a probability distribution over a dataset of input vectors. We can carry out both supervised and unsupervised tasks with generative models:\n",
        "\n",
        "<ul>\n",
        "    <li>In an unsupervised task, we try to form a model for $P(x)$, where $P$ is the probability given $x$ as an input vector.</li>\n",
        "    <li>In the supervised task, we first form a model for $P(x|y)$, where $P$ is the probability of $x$ given $y$(the label for $x$). For example, if $y = 0$ indicates that a car is an SUV, and $y = 1$ indicates that a car is a sedan, then $p(x|y = 0)$ models the distribution of SUV features, and $p(x|y = 1)$ models the distribution of sedan features. If we manage to find $P(x|y)$ and $P(y)$, then we can use <b>Bayes rule</b> to estimate $P(y|x)$, because:   \n",
        "        $$p(y|x) = \\frac{p(x|y)p(y)}{p(x)}$$</li>\n",
        "</ul>\n",
        "Now the question is, can we build a generative model, and then use it to create synthetic data by directly sampling from the modeled probability distributions? Lets see. \n"
      ]
    },
    {
      "cell_type": "markdown",
      "metadata": {
        "id": "u_PWiy-ScNlM"
      },
      "source": [
        "<h2>Table of Contents</h2>\n",
        "<ol>\n",
        "    <li><a href=\"https://#ref1\">Initialization</a></li>\n",
        "    <li><a href=\"https://#ref2\">RBM layers</a></li>\n",
        "    <li><a href=\"https://#ref3\">What RBM can do after training?</a></li>\n",
        "    <li><a href=\"https://#ref4\">How to train the model?</a></li>\n",
        "    <li><a href=\"https://#ref5\">Learned features</a></li>\n",
        "</ol>\n",
        "<p></p>\n",
        "</div>\n",
        "<br>\n",
        "\n",
        "<hr>\n"
      ]
    },
    {
      "cell_type": "markdown",
      "metadata": {
        "id": "7rTiJ-hPcNlM"
      },
      "source": [
        "<a id=\"ref1\"></a>\n",
        "\n",
        "<h3>Initialization</h3>\n",
        "\n",
        "First, we have to load the utility file which contains different utility functions that are not connected\n",
        "in any way to the networks presented in the tutorials, but rather help in\n",
        "processing the outputs into a more understandable way.\n"
      ]
    },
    {
      "cell_type": "code",
      "execution_count": 1,
      "metadata": {
        "id": "f75JRgIUcNlN"
      },
      "outputs": [],
      "source": [
        "import urllib.request\n",
        "with urllib.request.urlopen(\"https://cf-courses-data.s3.us.cloud-object-storage.appdomain.cloud/IBMDeveloperSkillsNetwork-DL0120EN-SkillsNetwork/labs/Week4/data/utils.py\") as url:\n",
        "    response = url.read()\n",
        "target = open('utils.py', 'w')\n",
        "target.write(response.decode('utf-8'))\n",
        "target.close()"
      ]
    },
    {
      "cell_type": "markdown",
      "metadata": {
        "id": "aMmG_hQocNlN"
      },
      "source": [
        "<h2>Installing TensorFlow </h2>\n",
        "\n",
        "We will installing TensorFlow version 2.2.0 and its required prerequistes.  Also installing pillow\\...\n"
      ]
    },
    {
      "cell_type": "code",
      "execution_count": 2,
      "metadata": {
        "colab": {
          "base_uri": "https://localhost:8080/",
          "height": 1000
        },
        "id": "VJvn5dBFcNlN",
        "outputId": "f9bb2843-8c66-4026-e89f-61972b58a511"
      },
      "outputs": [
        {
          "output_type": "stream",
          "name": "stdout",
          "text": [
            "Looking in indexes: https://pypi.org/simple, https://us-python.pkg.dev/colab-wheels/public/simple/\n",
            "Collecting grpcio==1.24.3\n",
            "  Downloading grpcio-1.24.3-cp37-cp37m-manylinux2010_x86_64.whl (2.2 MB)\n",
            "\u001b[K     |████████████████████████████████| 2.2 MB 5.0 MB/s \n",
            "\u001b[?25hRequirement already satisfied: six>=1.5.2 in /usr/local/lib/python3.7/dist-packages (from grpcio==1.24.3) (1.15.0)\n",
            "Installing collected packages: grpcio\n",
            "  Attempting uninstall: grpcio\n",
            "    Found existing installation: grpcio 1.47.0\n",
            "    Uninstalling grpcio-1.47.0:\n",
            "      Successfully uninstalled grpcio-1.47.0\n",
            "Successfully installed grpcio-1.24.3\n",
            "Looking in indexes: https://pypi.org/simple, https://us-python.pkg.dev/colab-wheels/public/simple/\n",
            "Collecting tensorflow==2.2.0\n",
            "  Downloading tensorflow-2.2.0-cp37-cp37m-manylinux2010_x86_64.whl (516.2 MB)\n",
            "\u001b[K     |████████████████████████████████| 516.2 MB 4.2 kB/s \n",
            "\u001b[?25hRequirement already satisfied: keras-preprocessing>=1.1.0 in /usr/local/lib/python3.7/dist-packages (from tensorflow==2.2.0) (1.1.2)\n",
            "Requirement already satisfied: wrapt>=1.11.1 in /usr/local/lib/python3.7/dist-packages (from tensorflow==2.2.0) (1.14.1)\n",
            "Requirement already satisfied: protobuf>=3.8.0 in /usr/local/lib/python3.7/dist-packages (from tensorflow==2.2.0) (3.17.3)\n",
            "Collecting tensorboard<2.3.0,>=2.2.0\n",
            "  Downloading tensorboard-2.2.2-py3-none-any.whl (3.0 MB)\n",
            "\u001b[K     |████████████████████████████████| 3.0 MB 39.7 MB/s \n",
            "\u001b[?25hRequirement already satisfied: wheel>=0.26 in /usr/local/lib/python3.7/dist-packages (from tensorflow==2.2.0) (0.37.1)\n",
            "Requirement already satisfied: grpcio>=1.8.6 in /usr/local/lib/python3.7/dist-packages (from tensorflow==2.2.0) (1.24.3)\n",
            "Requirement already satisfied: opt-einsum>=2.3.2 in /usr/local/lib/python3.7/dist-packages (from tensorflow==2.2.0) (3.3.0)\n",
            "Requirement already satisfied: termcolor>=1.1.0 in /usr/local/lib/python3.7/dist-packages (from tensorflow==2.2.0) (1.1.0)\n",
            "Collecting h5py<2.11.0,>=2.10.0\n",
            "  Downloading h5py-2.10.0-cp37-cp37m-manylinux1_x86_64.whl (2.9 MB)\n",
            "\u001b[K     |████████████████████████████████| 2.9 MB 46.4 MB/s \n",
            "\u001b[?25hRequirement already satisfied: absl-py>=0.7.0 in /usr/local/lib/python3.7/dist-packages (from tensorflow==2.2.0) (1.2.0)\n",
            "Collecting gast==0.3.3\n",
            "  Downloading gast-0.3.3-py2.py3-none-any.whl (9.7 kB)\n",
            "Requirement already satisfied: numpy<2.0,>=1.16.0 in /usr/local/lib/python3.7/dist-packages (from tensorflow==2.2.0) (1.21.6)\n",
            "Collecting scipy==1.4.1\n",
            "  Downloading scipy-1.4.1-cp37-cp37m-manylinux1_x86_64.whl (26.1 MB)\n",
            "\u001b[K     |████████████████████████████████| 26.1 MB 1.4 MB/s \n",
            "\u001b[?25hRequirement already satisfied: google-pasta>=0.1.8 in /usr/local/lib/python3.7/dist-packages (from tensorflow==2.2.0) (0.2.0)\n",
            "Requirement already satisfied: astunparse==1.6.3 in /usr/local/lib/python3.7/dist-packages (from tensorflow==2.2.0) (1.6.3)\n",
            "Requirement already satisfied: six>=1.12.0 in /usr/local/lib/python3.7/dist-packages (from tensorflow==2.2.0) (1.15.0)\n",
            "Collecting tensorflow-estimator<2.3.0,>=2.2.0\n",
            "  Downloading tensorflow_estimator-2.2.0-py2.py3-none-any.whl (454 kB)\n",
            "\u001b[K     |████████████████████████████████| 454 kB 41.0 MB/s \n",
            "\u001b[?25hRequirement already satisfied: tensorboard-plugin-wit>=1.6.0 in /usr/local/lib/python3.7/dist-packages (from tensorboard<2.3.0,>=2.2.0->tensorflow==2.2.0) (1.8.1)\n",
            "Requirement already satisfied: google-auth-oauthlib<0.5,>=0.4.1 in /usr/local/lib/python3.7/dist-packages (from tensorboard<2.3.0,>=2.2.0->tensorflow==2.2.0) (0.4.6)\n",
            "Requirement already satisfied: setuptools>=41.0.0 in /usr/local/lib/python3.7/dist-packages (from tensorboard<2.3.0,>=2.2.0->tensorflow==2.2.0) (57.4.0)\n",
            "Requirement already satisfied: markdown>=2.6.8 in /usr/local/lib/python3.7/dist-packages (from tensorboard<2.3.0,>=2.2.0->tensorflow==2.2.0) (3.4.1)\n",
            "Requirement already satisfied: werkzeug>=0.11.15 in /usr/local/lib/python3.7/dist-packages (from tensorboard<2.3.0,>=2.2.0->tensorflow==2.2.0) (1.0.1)\n",
            "Requirement already satisfied: requests<3,>=2.21.0 in /usr/local/lib/python3.7/dist-packages (from tensorboard<2.3.0,>=2.2.0->tensorflow==2.2.0) (2.23.0)\n",
            "Requirement already satisfied: google-auth<2,>=1.6.3 in /usr/local/lib/python3.7/dist-packages (from tensorboard<2.3.0,>=2.2.0->tensorflow==2.2.0) (1.35.0)\n",
            "Requirement already satisfied: rsa<5,>=3.1.4 in /usr/local/lib/python3.7/dist-packages (from google-auth<2,>=1.6.3->tensorboard<2.3.0,>=2.2.0->tensorflow==2.2.0) (4.9)\n",
            "Requirement already satisfied: cachetools<5.0,>=2.0.0 in /usr/local/lib/python3.7/dist-packages (from google-auth<2,>=1.6.3->tensorboard<2.3.0,>=2.2.0->tensorflow==2.2.0) (4.2.4)\n",
            "Requirement already satisfied: pyasn1-modules>=0.2.1 in /usr/local/lib/python3.7/dist-packages (from google-auth<2,>=1.6.3->tensorboard<2.3.0,>=2.2.0->tensorflow==2.2.0) (0.2.8)\n",
            "Requirement already satisfied: requests-oauthlib>=0.7.0 in /usr/local/lib/python3.7/dist-packages (from google-auth-oauthlib<0.5,>=0.4.1->tensorboard<2.3.0,>=2.2.0->tensorflow==2.2.0) (1.3.1)\n",
            "Requirement already satisfied: importlib-metadata>=4.4 in /usr/local/lib/python3.7/dist-packages (from markdown>=2.6.8->tensorboard<2.3.0,>=2.2.0->tensorflow==2.2.0) (4.12.0)\n",
            "Requirement already satisfied: zipp>=0.5 in /usr/local/lib/python3.7/dist-packages (from importlib-metadata>=4.4->markdown>=2.6.8->tensorboard<2.3.0,>=2.2.0->tensorflow==2.2.0) (3.8.1)\n",
            "Requirement already satisfied: typing-extensions>=3.6.4 in /usr/local/lib/python3.7/dist-packages (from importlib-metadata>=4.4->markdown>=2.6.8->tensorboard<2.3.0,>=2.2.0->tensorflow==2.2.0) (4.1.1)\n",
            "Requirement already satisfied: pyasn1<0.5.0,>=0.4.6 in /usr/local/lib/python3.7/dist-packages (from pyasn1-modules>=0.2.1->google-auth<2,>=1.6.3->tensorboard<2.3.0,>=2.2.0->tensorflow==2.2.0) (0.4.8)\n",
            "Requirement already satisfied: urllib3!=1.25.0,!=1.25.1,<1.26,>=1.21.1 in /usr/local/lib/python3.7/dist-packages (from requests<3,>=2.21.0->tensorboard<2.3.0,>=2.2.0->tensorflow==2.2.0) (1.24.3)\n",
            "Requirement already satisfied: idna<3,>=2.5 in /usr/local/lib/python3.7/dist-packages (from requests<3,>=2.21.0->tensorboard<2.3.0,>=2.2.0->tensorflow==2.2.0) (2.10)\n",
            "Requirement already satisfied: chardet<4,>=3.0.2 in /usr/local/lib/python3.7/dist-packages (from requests<3,>=2.21.0->tensorboard<2.3.0,>=2.2.0->tensorflow==2.2.0) (3.0.4)\n",
            "Requirement already satisfied: certifi>=2017.4.17 in /usr/local/lib/python3.7/dist-packages (from requests<3,>=2.21.0->tensorboard<2.3.0,>=2.2.0->tensorflow==2.2.0) (2022.6.15)\n",
            "Requirement already satisfied: oauthlib>=3.0.0 in /usr/local/lib/python3.7/dist-packages (from requests-oauthlib>=0.7.0->google-auth-oauthlib<0.5,>=0.4.1->tensorboard<2.3.0,>=2.2.0->tensorflow==2.2.0) (3.2.0)\n",
            "Installing collected packages: tensorflow-estimator, tensorboard, scipy, h5py, gast, tensorflow\n",
            "  Attempting uninstall: tensorflow-estimator\n",
            "    Found existing installation: tensorflow-estimator 2.8.0\n",
            "    Uninstalling tensorflow-estimator-2.8.0:\n",
            "      Successfully uninstalled tensorflow-estimator-2.8.0\n",
            "  Attempting uninstall: tensorboard\n",
            "    Found existing installation: tensorboard 2.8.0\n",
            "    Uninstalling tensorboard-2.8.0:\n",
            "      Successfully uninstalled tensorboard-2.8.0\n",
            "  Attempting uninstall: scipy\n",
            "    Found existing installation: scipy 1.7.3\n",
            "    Uninstalling scipy-1.7.3:\n",
            "      Successfully uninstalled scipy-1.7.3\n",
            "  Attempting uninstall: h5py\n",
            "    Found existing installation: h5py 3.1.0\n",
            "    Uninstalling h5py-3.1.0:\n",
            "      Successfully uninstalled h5py-3.1.0\n",
            "  Attempting uninstall: gast\n",
            "    Found existing installation: gast 0.5.3\n",
            "    Uninstalling gast-0.5.3:\n",
            "      Successfully uninstalled gast-0.5.3\n",
            "  Attempting uninstall: tensorflow\n",
            "    Found existing installation: tensorflow 2.8.2+zzzcolab20220719082949\n",
            "    Uninstalling tensorflow-2.8.2+zzzcolab20220719082949:\n",
            "      Successfully uninstalled tensorflow-2.8.2+zzzcolab20220719082949\n",
            "\u001b[31mERROR: pip's dependency resolver does not currently take into account all the packages that are installed. This behaviour is the source of the following dependency conflicts.\n",
            "pymc3 3.11.5 requires scipy<1.8.0,>=1.7.3, but you have scipy 1.4.1 which is incompatible.\n",
            "jaxlib 0.3.14+cuda11.cudnn805 requires scipy>=1.5, but you have scipy 1.4.1 which is incompatible.\n",
            "jax 0.3.14 requires scipy>=1.5, but you have scipy 1.4.1 which is incompatible.\n",
            "albumentations 0.1.12 requires imgaug<0.2.7,>=0.2.5, but you have imgaug 0.2.9 which is incompatible.\u001b[0m\n",
            "Successfully installed gast-0.3.3 h5py-2.10.0 scipy-1.4.1 tensorboard-2.2.2 tensorflow-2.2.0 tensorflow-estimator-2.2.0\n",
            "Looking in indexes: https://pypi.org/simple, https://us-python.pkg.dev/colab-wheels/public/simple/\n",
            "Collecting pillow==8.1.0\n",
            "  Downloading Pillow-8.1.0-cp37-cp37m-manylinux1_x86_64.whl (2.2 MB)\n",
            "\u001b[K     |████████████████████████████████| 2.2 MB 5.0 MB/s \n",
            "\u001b[?25hInstalling collected packages: pillow\n",
            "  Attempting uninstall: pillow\n",
            "    Found existing installation: Pillow 7.1.2\n",
            "    Uninstalling Pillow-7.1.2:\n",
            "      Successfully uninstalled Pillow-7.1.2\n",
            "\u001b[31mERROR: pip's dependency resolver does not currently take into account all the packages that are installed. This behaviour is the source of the following dependency conflicts.\n",
            "albumentations 0.1.12 requires imgaug<0.2.7,>=0.2.5, but you have imgaug 0.2.9 which is incompatible.\u001b[0m\n",
            "Successfully installed pillow-8.1.0\n"
          ]
        },
        {
          "output_type": "display_data",
          "data": {
            "application/vnd.colab-display-data+json": {
              "pip_warning": {
                "packages": [
                  "PIL"
                ]
              }
            }
          },
          "metadata": {}
        }
      ],
      "source": [
        "!pip install grpcio==1.24.3\n",
        "!pip install tensorflow==2.2.0\n",
        "!pip install pillow==8.1.0"
      ]
    },
    {
      "cell_type": "markdown",
      "metadata": {
        "id": "pN5_UQYCcNlO"
      },
      "source": [
        "<b>Notice:</b> This notebook has been created with TensorFlow version 2.2, and might not work with other versions. Therefore we check:\n"
      ]
    },
    {
      "cell_type": "code",
      "execution_count": 3,
      "metadata": {
        "id": "BXiezCDxcNlO"
      },
      "outputs": [],
      "source": [
        "import tensorflow as tf\n",
        "from IPython.display import Markdown, display\n",
        "\n",
        "def printmd(string):\n",
        "    display(Markdown('# <span style=\"color:red\">'+string+'</span>'))\n",
        "\n",
        "\n",
        "if not tf.__version__ == '2.2.0':\n",
        "    printmd('<<<<<!!!!! ERROR !!!! please upgrade to TensorFlow 2.2.0, or restart your Kernel (Kernel->Restart & Clear Output)>>>>>')"
      ]
    },
    {
      "cell_type": "markdown",
      "metadata": {
        "id": "XQS8XlX2cNlO"
      },
      "source": [
        "Now, we load in all the packages that we use to create the net including the TensorFlow package:\n"
      ]
    },
    {
      "cell_type": "code",
      "execution_count": 1,
      "metadata": {
        "id": "3rfb-GYWcNlO"
      },
      "outputs": [],
      "source": [
        "import tensorflow as tf\n",
        "import numpy as np\n",
        "\n",
        "from PIL import Image\n",
        "from utils import tile_raster_images\n",
        "import matplotlib.pyplot as plt\n",
        "%matplotlib inline"
      ]
    },
    {
      "cell_type": "markdown",
      "metadata": {
        "id": "nDcQQkBJcNlO"
      },
      "source": [
        "<hr>\n"
      ]
    },
    {
      "cell_type": "markdown",
      "metadata": {
        "id": "4qRzYCoJcNlP"
      },
      "source": [
        "<a id=\"ref2\"></a>\n",
        "\n",
        "<h3>RBM layers</h3>\n",
        "\n",
        "An RBM has two layers. The first layer of the RBM is called the <b>visible</b> (or input layer). Imagine that our toy example, has only vectors with 7 values, so the visible layer must have $V=7$ input nodes.\n",
        "The second layer is the <b>hidden</b> layer, which has $H$ neurons in our case. Each hidden node takes on values of either 0 or 1 (i.e., $h_i = 1$ or $h_i$ = 0), with a probability that is a logistic function of the inputs it receives from the other $V$ visible units, called for example, $p(h_i = 1)$. For our toy sample, we'll use 2 nodes in the hidden layer, so $H = 2$.\n",
        "\n",
        "<center><img src=\"https://ibm.box.com/shared/static/eu26opvcefgls6vnwuo29uwp0nudmokh.png\" alt=\"RBM Model\" style=\"width: 400px;\"></center>\n"
      ]
    },
    {
      "cell_type": "markdown",
      "metadata": {
        "id": "lKfdEk2GcNlP"
      },
      "source": [
        "Each node in the first layer also has a <b>bias</b>. We will denote the bias as $v\\_{bias}$, and this single value is shared among the $V$ visible units.\n",
        "\n",
        "The <b>bias</b> of the second is defined similarly as $h\\_{bias}$, and this single value among the $H$ hidden units.\n"
      ]
    },
    {
      "cell_type": "code",
      "execution_count": 2,
      "metadata": {
        "id": "Oz2DIG9ncNlP"
      },
      "outputs": [],
      "source": [
        "v_bias = tf.Variable(tf.zeros([7]), tf.float32)\n",
        "h_bias = tf.Variable(tf.zeros([2]), tf.float32)"
      ]
    },
    {
      "cell_type": "markdown",
      "metadata": {
        "id": "wcEFgw3RcNlP"
      },
      "source": [
        "We have to define weights among the input layer and hidden layer nodes. In the weight matrix, the number of rows are equal to the input nodes, and the number of columns are equal to the output nodes. We define a tensor $\\mathbf{W}$ of shape = (7,2), where the number of visible neurons = 7, and the number of hidden neurons = 2.\n"
      ]
    },
    {
      "cell_type": "code",
      "execution_count": 3,
      "metadata": {
        "id": "1LsLgGSTcNlP"
      },
      "outputs": [],
      "source": [
        "W = tf.constant(np.random.normal(loc=0.0, scale=1.0, size=(7, 2)).astype(np.float32))"
      ]
    },
    {
      "cell_type": "markdown",
      "metadata": {
        "id": "PlpU7TZIcNlP"
      },
      "source": [
        "<hr>\n"
      ]
    },
    {
      "cell_type": "markdown",
      "metadata": {
        "id": "x0WZwypPcNlP"
      },
      "source": [
        "<a id=\"ref3\"></a>\n",
        "\n",
        "<h3>What RBM can do after training?</h3>\n",
        "Think of RBM as a model that has been trained based on images of a dataset of many SUV and sedan cars. Also, imagine that the RBM network has only two hidden nodes, where one node encodes the weight and, and the other encodes the size.  \n",
        "In a sense, the different configurations represent different cars, where one is an SUV and the other is Sedan.  In a training process, through many forward and backward passes, the RBM adjust its weights to send a stronger signal to either the SUV node (0, 1) or the sedan node (1, 0) in the hidden layer, given the pixels of images. Now, given an SUV in hidden layer, which distribution of pixels should we expect? RBM can give you 2 things. First, it encodes your images in hidden layer. Second, it gives you the probability of observing a case, given some hidden values.\n",
        "\n",
        "<h3>The Inference Process</h3>\n",
        "\n",
        "RBM has two phases:\n",
        "\n",
        "<ul>\n",
        "    <li>Forward Pass</li>  \n",
        "    <li>Backward Pass or Reconstruction</li>\n",
        "</ul>\n",
        "\n",
        "<b>Phase 1) Forward pass:</b>\n",
        "\n",
        "Input one training sample (one image) $\\mathbf{x}$ through all visible nodes, and pass it to all hidden nodes. Processing happens in each node in the hidden layer. This computation begins by making stochastic decisions about whether to transmit that input or not (i.e. to determine the state of each hidden layer).  First, the probability vector is computed using the input feature vector $\\mathbf{x}$, the weight matrix $\\mathbf{W}$, and the bias term $h\\_{bias}$, as\n",
        "\n",
        "$$p({h_j}|\\mathbf x)= \\sigma( \\sum\\_{i=1}^V W\\_{ij} x_i + h\\_{bias} )$$,\n",
        "\n",
        "where $\\sigma(z) = (1+e^{-z})^{-1}$ is the logistic function.\n",
        "\n",
        "So, what does $p({h_j})$ represent? It is the <b>probability distribution</b> of the hidden units. That is, RBM uses inputs $x_i$ to make predictions about hidden node activations. For example, imagine that the hidden node activation values are \\[0.51 0.84] for the first training item. It tells you that the conditional probability for each hidden neuron for Phase 1 is:\n",
        "\n",
        "$$p(h\\_{1} = 1|\\mathbf{v}) = 0.51$$\n",
        "$$p(h\\_{2} = 1|\\mathbf{v}) = 0.84$$\n",
        "\n",
        "As a result, for each row in the training set, vector of probabilities is generated.  In TensorFlow, this is referred to as a `tensor` with a shape of (1,2).\n",
        "\n",
        "We then turn unit $j$ with probability $p(h\\_{j}|\\mathbf{v})$, and turn it off with probability $1 - p(h\\_{j}|\\mathbf{v})$ by generating a uniform random number vector $\\mathbf{\\xi}$, and comparing it to the activation probability as\n",
        "\n",
        "<center>If $\\xi_j>p(h_{j}|\\mathbf{v})$, then $h_j=1$, else $h_j=0$.</center>\n",
        "\n",
        "Therefore, the conditional probability of a configuration of $\\mathbf{h}$ given $\\mathbf{v}$ (for a training sample) is:\n",
        "\n",
        "$$p(\\mathbf{h} \\mid \\mathbf{v}) = \\prod\\_{j=1}^H p(h_j \\mid \\mathbf{v})$$\n",
        "\n",
        "where $H$ is the number of hidden units.\n"
      ]
    },
    {
      "cell_type": "markdown",
      "metadata": {
        "id": "14tNIyOKcNlP"
      },
      "source": [
        "Before we go further, let's look at a toy example for one case out of all input. Assume that we have a trained RBM, and a very simple input vector, such as \\[1.0, 0.0, 0.0, 1.0, 0.0, 0.0, 0.0].\\\n",
        "Let's see what the output of forward pass would look like:\n"
      ]
    },
    {
      "cell_type": "code",
      "execution_count": 4,
      "metadata": {
        "colab": {
          "base_uri": "https://localhost:8080/"
        },
        "id": "fY3eo4l7cNlQ",
        "outputId": "a07fbfc1-056e-411b-cb7e-b5cf8b3f69b1"
      },
      "outputs": [
        {
          "output_type": "stream",
          "name": "stdout",
          "text": [
            "Input:  tf.Tensor([[1. 0. 0. 1. 0. 0. 0.]], shape=(1, 7), dtype=float32)\n",
            "hb:  tf.Tensor([0.1 0.1], shape=(2,), dtype=float32)\n",
            "w:  tf.Tensor(\n",
            "[[ 1.4146911  -0.6598151 ]\n",
            " [ 0.05814274  0.07110614]\n",
            " [ 2.218743   -0.81657195]\n",
            " [ 0.40581304 -0.6795586 ]\n",
            " [-0.23255557 -0.41915697]\n",
            " [-1.3655187  -1.6524962 ]\n",
            " [-0.5111311   0.73667055]], shape=(7, 2), dtype=float32)\n",
            "p(h|v):  tf.Tensor([[0.8721947  0.22454505]], shape=(1, 2), dtype=float32)\n",
            "h0 states: tf.Tensor([[1. 0.]], shape=(1, 2), dtype=float32)\n"
          ]
        }
      ],
      "source": [
        "X = tf.constant([[1.0, 0.0, 0.0, 1.0, 0.0, 0.0, 0.0]], tf.float32)\n",
        "\n",
        "v_state = X\n",
        "print (\"Input: \", v_state)\n",
        "\n",
        "h_bias = tf.constant([0.1, 0.1])\n",
        "print (\"hb: \", h_bias)\n",
        "print (\"w: \", W)\n",
        "\n",
        "# Calculate the probabilities of turning the hidden units on:\n",
        "h_prob = tf.nn.sigmoid(tf.matmul(v_state, W) + h_bias)  #probabilities of the hidden units\n",
        "print (\"p(h|v): \", h_prob)\n",
        "\n",
        "# Draw samples from the distribution:\n",
        "h_state = tf.nn.relu(tf.sign(h_prob - tf.random.uniform(tf.shape(h_prob)))) #states\n",
        "print (\"h0 states:\", h_state)"
      ]
    },
    {
      "cell_type": "markdown",
      "metadata": {
        "id": "yei51-cbcNlQ"
      },
      "source": [
        "<b>Phase 2) Backward Pass (Reconstruction):</b>\n",
        "The RBM reconstructs data by making several forward and backward passes between the visible and hidden layers.\n",
        "\n",
        "So, in the second phase (i.e. reconstruction phase), the samples from the hidden layer (i.e. $\\mathbf h$) becomes the input in the backward pass. The same weight matrix and visible layer biases are used to passed to the sigmoid function. The reproduced output is a reconstruction which is an approximation of the original input.\n"
      ]
    },
    {
      "cell_type": "code",
      "execution_count": 5,
      "metadata": {
        "colab": {
          "base_uri": "https://localhost:8080/"
        },
        "id": "Jp0v3FKGcNlQ",
        "outputId": "d2a75962-4405-4870-b0aa-d060aff4bd52"
      },
      "outputs": [
        {
          "output_type": "stream",
          "name": "stdout",
          "text": [
            "b:  tf.Tensor([0.1 0.2 0.1 0.1 0.1 0.2 0.1], shape=(7,), dtype=float32)\n",
            "p(vi∣h):  tf.Tensor(\n",
            "[[0.81975543 0.56417966 0.91041744 0.6238245  0.46690956 0.23766595\n",
            "  0.39864096]], shape=(1, 7), dtype=float32)\n",
            "v probability states:  tf.Tensor([[0. 0. 1. 0. 0. 0. 0.]], shape=(1, 7), dtype=float32)\n"
          ]
        }
      ],
      "source": [
        "vb = tf.constant([0.1, 0.2, 0.1, 0.1, 0.1, 0.2, 0.1])\n",
        "print (\"b: \", vb)\n",
        "v_prob = tf.nn.sigmoid(tf.matmul(h_state, tf.transpose(W)) + vb)\n",
        "print (\"p(vi∣h): \", v_prob)\n",
        "v_state = tf.nn.relu(tf.sign(v_prob - tf.random.uniform(tf.shape(v_prob))))\n",
        "print (\"v probability states: \", v_state)"
      ]
    },
    {
      "cell_type": "markdown",
      "metadata": {
        "id": "gpvMXTKRcNlQ"
      },
      "source": [
        "RBM learns a probability distribution over the input, and then, after being trained, the RBM can generate new samples from the learned probability distribution. As you know, <b>probability distribution</b>, is a mathematical function that provides the probabilities of occurrence of different possible outcomes in an experiment.\n",
        "\n",
        "The (conditional) probability distribution over the visible units v is given by\n",
        "\n",
        "$$p(\\mathbf{v} \\mid \\mathbf{h}) = \\prod\\_{i=1}^V p(v_i \\mid \\mathbf{h}),$$\n",
        "\n",
        "where,\n",
        "\n",
        "$$p(v_i \\mid \\mathbf{h}) = \\sigma\\left(\\sum\\_{j=1}^H W\\_{ji} h_j + v\\_{bias} \\right)$$\n",
        "\n",
        "so, given current state of hidden units and weights, what is the probability of generating \\[1. 0. 0. 1. 0. 0. 0.] in reconstruction phase, based on the above <b>probability distribution</b> function?\n"
      ]
    },
    {
      "cell_type": "code",
      "execution_count": 6,
      "metadata": {
        "colab": {
          "base_uri": "https://localhost:8080/"
        },
        "id": "J_zjjGQjcNlQ",
        "outputId": "1fe1d7ed-d0d2-4c2d-a7fe-b13651f244d5"
      },
      "outputs": [
        {
          "output_type": "stream",
          "name": "stdout",
          "text": [
            "input X: [[1. 0. 0. 1. 0. 0. 0.]]\n",
            "probablity vector: [0.81975543 0.56417966 0.91041744 0.6238245  0.46690956 0.23766595\n",
            " 0.39864096]\n",
            "probability of generating X:  0.004879303\n"
          ]
        }
      ],
      "source": [
        "inp = X\n",
        "print(\"input X:\" , inp.numpy())\n",
        "\n",
        "print(\"probablity vector:\" , v_prob[0].numpy())\n",
        "v_probability = 1\n",
        "\n",
        "for elm, p in zip(inp[0],v_prob[0]) :\n",
        "    if elm ==1:\n",
        "        v_probability *= p\n",
        "    else:\n",
        "        v_probability *= (1-p)\n",
        "\n",
        "print(\"probability of generating X: \" , v_probability.numpy())"
      ]
    },
    {
      "cell_type": "markdown",
      "metadata": {
        "id": "59k1Ig3hcNlQ"
      },
      "source": [
        "How similar are vectors $\\mathbf{x}$ and $\\mathbf{v}$? Of course, the reconstructed values most likely will not look anything like the input vector, because our network has not been trained yet. Our objective is to train the model in such a way that the input vector and reconstructed vector to be same. Therefore, based on how different the input values look to the ones that we just reconstructed, the weights are adjusted.\n"
      ]
    },
    {
      "cell_type": "markdown",
      "metadata": {
        "id": "EXD4fJJmcNlR"
      },
      "source": [
        "<hr>\n"
      ]
    },
    {
      "cell_type": "markdown",
      "metadata": {
        "id": "cFPiWF4GcNlR"
      },
      "source": [
        "<h2>MNIST</h2>\n"
      ]
    },
    {
      "cell_type": "markdown",
      "metadata": {
        "id": "if1lUSRxcNlR"
      },
      "source": [
        "We will be using the MNIST dataset to practice the usage of RBMs. The following cell loads the MNIST dataset.\n"
      ]
    },
    {
      "cell_type": "code",
      "execution_count": 7,
      "metadata": {
        "id": "6aVaCEj8cNlR"
      },
      "outputs": [],
      "source": [
        "#loading training and test data\n",
        "mnist = tf.keras.datasets.mnist\n",
        "(trX, trY), (teX, teY) = mnist.load_data()\n",
        "\n",
        "# showing an example of the Flatten class and operation\n",
        "from tensorflow.keras.layers import Flatten\n",
        "flatten = Flatten(dtype='float32')\n",
        "trX = flatten(trX/255.0)\n",
        "trY = flatten(trY/255.0)"
      ]
    },
    {
      "cell_type": "markdown",
      "metadata": {
        "id": "tjKT53rhcNlR"
      },
      "source": [
        "Lets look at the dimension of the images.\n"
      ]
    },
    {
      "cell_type": "markdown",
      "metadata": {
        "id": "dQAzLfApcNlR"
      },
      "source": [
        "MNIST images have 784 pixels, so the visible layer must have 784 input nodes.  For our case, we'll use 50 nodes in the hidden layer, so i = 50.\n"
      ]
    },
    {
      "cell_type": "code",
      "execution_count": 8,
      "metadata": {
        "collapsed": true,
        "jupyter": {
          "outputs_hidden": true
        },
        "id": "F2Hhv7g4cNlR"
      },
      "outputs": [],
      "source": [
        "vb = tf.Variable(tf.zeros([784]), tf.float32)\n",
        "hb = tf.Variable(tf.zeros([50]), tf.float32)"
      ]
    },
    {
      "cell_type": "markdown",
      "metadata": {
        "id": "jp7lwEaYcNlR"
      },
      "source": [
        "Let $\\mathbf W$ be the Tensor of 784x50 (784 - number of visible neurons, 50 - number of hidden neurons) that represents weights between the neurons.\n"
      ]
    },
    {
      "cell_type": "code",
      "execution_count": 9,
      "metadata": {
        "collapsed": true,
        "jupyter": {
          "outputs_hidden": true
        },
        "id": "edsHJ_TncNlR"
      },
      "outputs": [],
      "source": [
        "W = tf.Variable(tf.zeros([784,50]), tf.float32)"
      ]
    },
    {
      "cell_type": "markdown",
      "metadata": {
        "id": "0iZ4xWbXcNlS"
      },
      "source": [
        "Lets define the visible layer:\n"
      ]
    },
    {
      "cell_type": "code",
      "execution_count": 10,
      "metadata": {
        "colab": {
          "base_uri": "https://localhost:8080/"
        },
        "id": "aQ-IncvDcNlS",
        "outputId": "4320e4a9-647e-4f27-fb1c-db3baee3b857"
      },
      "outputs": [
        {
          "output_type": "execute_result",
          "data": {
            "text/plain": [
              "<tf.Tensor: shape=(1, 50), dtype=float32, numpy=\n",
              "array([[0., 0., 0., 0., 0., 0., 0., 0., 0., 0., 0., 0., 0., 0., 0., 0.,\n",
              "        0., 0., 0., 0., 0., 0., 0., 0., 0., 0., 0., 0., 0., 0., 0., 0.,\n",
              "        0., 0., 0., 0., 0., 0., 0., 0., 0., 0., 0., 0., 0., 0., 0., 0.,\n",
              "        0., 0.]], dtype=float32)>"
            ]
          },
          "metadata": {},
          "execution_count": 10
        }
      ],
      "source": [
        "v0_state = tf.Variable(tf.zeros([784]), tf.float32)\n",
        "\n",
        "#testing to see if the matrix product works\n",
        "tf.matmul( [v0_state], W)"
      ]
    },
    {
      "cell_type": "markdown",
      "metadata": {
        "id": "yxU6-jCfcNlS"
      },
      "source": [
        "Now, we can define hidden layer:\n"
      ]
    },
    {
      "cell_type": "code",
      "execution_count": 11,
      "metadata": {
        "colab": {
          "base_uri": "https://localhost:8080/"
        },
        "id": "g1nTH6pacNlS",
        "outputId": "bcd31937-d2be-41f9-abaf-4db57354d717"
      },
      "outputs": [
        {
          "output_type": "stream",
          "name": "stdout",
          "text": [
            "h0_state shape:  tf.Tensor([ 1 50], shape=(2,), dtype=int32)\n",
            "first 15 hidden states:  tf.Tensor([1. 0. 0. 0. 0. 0. 1. 0. 0. 0. 0. 1. 0. 0. 0.], shape=(15,), dtype=float32)\n"
          ]
        }
      ],
      "source": [
        "#computing the hidden nodes probability vector and checking shape\n",
        "h0_prob = tf.nn.sigmoid(tf.matmul([v0_state], W) + hb)  #probabilities of the hidden units\n",
        "print(\"h0_state shape: \" , tf.shape(h0_prob))\n",
        "\n",
        "#defining a function to return only the generated hidden states \n",
        "def hidden_layer(v0_state, W, hb):\n",
        "    h0_prob = tf.nn.sigmoid(tf.matmul([v0_state], W) + hb)  #probabilities of the hidden units\n",
        "    h0_state = tf.nn.relu(tf.sign(h0_prob - tf.random.uniform(tf.shape(h0_prob)))) #sample_h_given_X\n",
        "    return h0_state\n",
        "\n",
        "\n",
        "h0_state = hidden_layer(v0_state, W, hb)\n",
        "print(\"first 15 hidden states: \", h0_state[0][0:15])"
      ]
    },
    {
      "cell_type": "markdown",
      "metadata": {
        "id": "cgxX0ll1cNlS"
      },
      "source": [
        "Now, we define reconstruction part:\n"
      ]
    },
    {
      "cell_type": "code",
      "execution_count": 12,
      "metadata": {
        "colab": {
          "base_uri": "https://localhost:8080/"
        },
        "id": "vGyRuoFMcNlS",
        "outputId": "aea5d558-f53f-4ef6-a8be-b4d30db0b5d8"
      },
      "outputs": [
        {
          "output_type": "stream",
          "name": "stdout",
          "text": [
            "hidden state shape:  (1, 50)\n",
            "v0 state shape:   (784,)\n",
            "v1 state shape:   (784,)\n"
          ]
        }
      ],
      "source": [
        "def reconstructed_output(h0_state, W, vb):\n",
        "    v1_prob = tf.nn.sigmoid(tf.matmul(h0_state, tf.transpose(W)) + vb) \n",
        "    v1_state = tf.nn.relu(tf.sign(v1_prob - tf.random.uniform(tf.shape(v1_prob)))) #sample_v_given_h\n",
        "    return v1_state[0]\n",
        "\n",
        "v1_state = reconstructed_output(h0_state, W, vb)\n",
        "print(\"hidden state shape: \", h0_state.shape)\n",
        "print(\"v0 state shape:  \", v0_state.shape)\n",
        "print(\"v1 state shape:  \", v1_state.shape)"
      ]
    },
    {
      "cell_type": "markdown",
      "metadata": {
        "id": "DMHmiUDjcNlS"
      },
      "source": [
        "<h3>What is the objective function?</h3>\n",
        "\n",
        "<b>Goal</b>: Maximize the likelihood of our data being drawn from that distribution\n",
        "\n",
        "<b>Calculate error:</b>\\\n",
        "In each epoch, we compute the \"error\" as a sum of the squared difference between step 1 and step n,\n",
        "e.g the error shows the difference between the data and its reconstruction.\n",
        "\n",
        "<b>Note:</b> tf.reduce_mean computes the mean of elements across dimensions of a tensor.\n"
      ]
    },
    {
      "cell_type": "code",
      "execution_count": 13,
      "metadata": {
        "colab": {
          "base_uri": "https://localhost:8080/"
        },
        "id": "KzQ4lqaAcNlS",
        "outputId": "ca8514a8-ccf4-45bf-8875-6a408fc642c1"
      },
      "outputs": [
        {
          "output_type": "stream",
          "name": "stdout",
          "text": [
            "error 0.50765306\n"
          ]
        }
      ],
      "source": [
        "def error(v0_state, v1_state):\n",
        "    return tf.reduce_mean(tf.square(v0_state - v1_state))\n",
        "\n",
        "err = tf.reduce_mean(tf.square(v0_state - v1_state))\n",
        "print(\"error\" , err.numpy())"
      ]
    },
    {
      "cell_type": "markdown",
      "metadata": {
        "id": "FwQXc_TvcNlT"
      },
      "source": [
        "<a id=\"ref4\"></a>\n",
        "\n",
        "<h3>Training the Model</h3>\n",
        "<b>Warning...</b> The following part is math-heavy, but you can skip it if you just want to run the cells in the next section.\n",
        "\n",
        "As mentioned, we want to give a high probability to the input data we train on. So, in order to train an RBM, we have to maximize the product of probabilities assigned to all rows $\\mathbf{v}$ (images) in the training set $\\mathbf{V}$ (a matrix, where each row of it is treated as a visible vector $\\mathbf{v}$)\n",
        "\n",
        "$$\\arg \\max_W \\prod\\_{\\mathbf{v}\\in\\mathbf{V}\\_T} p(\\mathbf{v})$$\n",
        "\n",
        "which is equivalent to maximizing the expectation of the log probability, given as\n",
        "\n",
        "$$\\arg\\max_W\\left\\[ \\mathbb{E} \\left(\\prod\\_{\\mathbf v\\in \\mathbf V}\\text{log} \\left(p(\\mathbf v)\\right) \\right) \\right].$$\n",
        "\n",
        "So, we have to update the weights $W\\_{ij}$  to increase $p(\\mathbf{v})$ for all $\\mathbf{v}$ in our training data during training. So we have to calculate the derivative:\n",
        "\n",
        "$$\\frac{\\partial \\log p(\\mathbf v)}{\\partial W\\_{ij}}$$\n",
        "\n",
        "This cannot be easily done by typical <b>gradient descent (SGD)</b>, so we can use another approach, which has 2 steps:\n",
        "\n",
        "<ol>\n",
        "    <li>Gibbs Sampling</li>\n",
        "    <li>Contrastive Divergence</li>\n",
        "</ol>    \n",
        "\n",
        "<h3>Gibbs Sampling</h3>   \n",
        "\n",
        "<h4>Gibbs Sampling Step 1</h4> \n",
        "Given an input vector $\\mathbf{v}$, we are using $p(\\mathbf{h}|\\mathbf{v})$ to predict the hidden values $\\mathbf{h}$. \n",
        "  $$p({h_j}|\\mathbf v)= \\sigma\\left(\\sum_{i=1}^V W_{ij} v_i + h_{bias} \\right)$$\n",
        "The samples are generated from this distribution by generating the uniform random variate vector $\\mathbf{\\xi} \\sim U[0,1]$ of length $H$ and comparing to the computed probabilities as\n",
        "\n",
        "<center>If $\\xi_j>p(h_{j}|\\mathbf{v})$, then $h_j=1$, else $h_j=0$.</center>\n",
        "\n",
        "<h4>Gibbs Sampling Step 2</h4> \n",
        "Then, knowing the hidden values, we use $p(\\mathbf v| \\mathbf h)$ for reconstructing of new input values v. \n",
        "\n",
        "$$p({v_i}|\\mathbf h)= \\sigma\\left(\\sum\\_{j=1}^H W^{T}*{ij} h_j + v*{bias} \\right)$$\n",
        "\n",
        "The samples are generated from this distribution by generating a uniform random variate vector $\\mathbf{\\xi} \\sim U\\[0,1]$ of length $V$ and comparing to the computed probabilities as\n",
        "\n",
        "<center>If $\\xi_i>p(v_{i}|\\mathbf{h})$, then $v_i=1$, else $v_i=0$.</center>\n",
        "\n",
        "Let vectors $\\mathbf v_k$ and $\\mathbf h_k$ be for the $k$th iteration.  In general, the $kth$ state is generrated as:\n",
        "\n",
        "<b>Iteration</b> $k$:\n",
        "\n",
        "$$\\mathbf v\\_{k-1} \\Rightarrow p(\\mathbf h\\_{k-1}|\\mathbf v\\_{k-1})\\Rightarrow \\mathbf h\\_{k-1}\\Rightarrow p(\\mathbf v\\_{k}|\\mathbf h\\_{k-1})\\Rightarrow \\mathbf v_k$$\n",
        "\n",
        "<h3>Contrastive Divergence (CD-k)</h3>\n",
        "The update of the weight matrix is done during the Contrastive Divergence step. \n",
        "\n",
        "Vectors v0 and vk are used to calculate the activation probabilities for hidden values h0 and hk. The difference between the outer products of those probabilities with input vectors v0 and vk results in the update matrix:\n",
        "\n",
        "$$\\Delta \\mathbf W_k =\\mathbf v_k \\otimes \\mathbf h_k - \\mathbf v\\_{k-1} \\otimes \\mathbf h\\_{k-1}$$\n",
        "\n",
        "Contrastive Divergence is actually matrix of values that is computed and used to adjust values of the $\\mathbf W$ matrix. Changing $\\mathbf W$ incrementally leads to training of the  $\\mathbf W$ values. Then, on each step (epoch), $\\mathbf W$ is updated using the following:\n",
        "\n",
        "$$\\mathbf W_k = \\mathbf W\\_{k-1} + \\alpha \\* \\Delta \\mathbf W_k$$\n",
        "\n",
        "Reconstruction steps:\n",
        "\n",
        "<ul>\n",
        "    <li> Get one data point from data set, like <i>x</i>, and pass it through the following steps:</li>\n",
        "\n",
        "<b>Iteration</b> $k=1$:\n",
        "\n",
        "Sampling (starting with input image)\n",
        "$$\\mathbf x = \\mathbf v\\_0 \\Rightarrow p(\\mathbf h\\_0|\\mathbf v\\_0)\\Rightarrow \\mathbf h\\_0 \\Rightarrow p(\\mathbf v\\_1|\\mathbf h\\_0)\\Rightarrow \\mathbf v\\_1$$\\\n",
        "followed by the CD-k step\n",
        "$$\\Delta \\mathbf W\\_1 =\\mathbf v\\_1 \\otimes \\mathbf h\\_1 - \\mathbf v\\_{0} \\otimes \\mathbf h\\_{0}$$\\\n",
        "$$\\mathbf W\\_1 = \\mathbf W\\_{0} + \\alpha \\* \\Delta \\mathbf W\\_1$$\n",
        "\n",
        "<li> $\\mathbf v_1$ is the reconstruction of $\\mathbf x$ sent to the next iteration).</li>\n",
        "\n",
        "<b>Iteration</b> $k=2$:\n",
        "\n",
        "Sampling (starting with $\\mathbf v\\_1$)\n",
        "\n",
        "$$\\mathbf v\\_1 \\Rightarrow p(\\mathbf h\\_1|\\mathbf v\\_1)\\Rightarrow \\mathbf h\\_1\\Rightarrow p(\\mathbf v\\_2|\\mathbf h\\_1)\\Rightarrow \\mathbf v\\_2$$\n",
        "\n",
        "followed by the CD-k step\n",
        "$$\\Delta \\mathbf W\\_2 =\\mathbf v\\_2 \\otimes \\mathbf h\\_2 - \\mathbf v\\_{1} \\otimes \\mathbf h\\_{1}$$\\\n",
        "$$\\mathbf W\\_2 = \\mathbf W\\_{1} + \\alpha \\* \\Delta \\mathbf W\\_2$$\n",
        "\n",
        "<li> $\\mathbf v_2$ is the reconstruction of $\\mathbf v_1$ sent to the next iteration).</li>    \n",
        "\n",
        "<b>Iteration</b> $k=K$:\n",
        "\n",
        "Sampling (starting with $\\mathbf v\\_{K-1}$)\n",
        "\n",
        "$$\\mathbf v\\_{K-1} \\Rightarrow p(\\mathbf h\\_{K-1}|\\mathbf v\\_{K-1})\\Rightarrow \\mathbf h\\_{K-1}\\Rightarrow p(\\mathbf v_K|\\mathbf h\\_{K-1})\\Rightarrow \\mathbf v_K$$\n",
        "\n",
        "followed by the CD-k step\n",
        "$$\\Delta \\mathbf W_K =\\mathbf v_K \\otimes \\mathbf h_K - \\mathbf v\\_{K-1} \\otimes \\mathbf h\\_{K-1}$$\\\n",
        "$$\\mathbf W_K = \\mathbf W\\_{K-1} + \\alpha \\* \\Delta \\mathbf W_K$$\n",
        "\n",
        "<b>What is $\\alpha$?</b>\\\n",
        "Here, alpha is some small step size, and is also known as the \"learning rate\".\n"
      ]
    },
    {
      "cell_type": "markdown",
      "metadata": {
        "id": "_Rl8xV8DcNlT"
      },
      "source": [
        "$K$ is adjustable, and good performance can be achieved with $K=1$, so that we just take one set of sampling steps per image.\n"
      ]
    },
    {
      "cell_type": "code",
      "execution_count": 14,
      "metadata": {
        "id": "KjobjP-FcNlT"
      },
      "outputs": [],
      "source": [
        "h1_prob = tf.nn.sigmoid(tf.matmul([v1_state], W) + hb)\n",
        "h1_state = tf.nn.relu(tf.sign(h1_prob - tf.random.uniform(tf.shape(h1_prob)))) #sample_h_given_X"
      ]
    },
    {
      "cell_type": "markdown",
      "metadata": {
        "id": "vS-vvfebcNlT"
      },
      "source": [
        "Lets look at the error of the first run:\n"
      ]
    },
    {
      "cell_type": "code",
      "execution_count": 18,
      "metadata": {
        "colab": {
          "base_uri": "https://localhost:8080/"
        },
        "id": "NjS5sw--cNlT",
        "outputId": "652c7609-f6c3-42b0-ef2e-ad5cc7f8eea3"
      },
      "outputs": [
        {
          "output_type": "stream",
          "name": "stdout",
          "text": [
            "error:  tf.Tensor(0.49362245, shape=(), dtype=float32)\n"
          ]
        }
      ],
      "source": [
        "print(\"error: \", error(v0_state, v1_state))"
      ]
    },
    {
      "cell_type": "code",
      "execution_count": 15,
      "metadata": {
        "colab": {
          "base_uri": "https://localhost:8080/"
        },
        "id": "fCxMPs2TcNlT",
        "outputId": "73273f6e-346c-47c7-92c8-bb46ff322456"
      },
      "outputs": [
        {
          "output_type": "stream",
          "name": "stdout",
          "text": [
            "Epoch: 0 batch #: 1  of 300 sample #: 199 reconstruction error: 0.179795\n",
            "Epoch: 0 batch #: 2  of 300 sample #: 199 reconstruction error: 0.200988\n",
            "Epoch: 0 batch #: 3  of 300 sample #: 199 reconstruction error: 0.127467\n",
            "Epoch: 0 batch #: 4  of 300 sample #: 199 reconstruction error: 0.130783\n",
            "Epoch: 0 batch #: 5  of 300 sample #: 199 reconstruction error: 0.119271\n",
            "Epoch: 0 batch #: 6  of 300 sample #: 199 reconstruction error: 0.167821\n",
            "Epoch: 0 batch #: 7  of 300 sample #: 199 reconstruction error: 0.098838\n",
            "Epoch: 0 batch #: 8  of 300 sample #: 199 reconstruction error: 0.115832\n",
            "Epoch: 0 batch #: 9  of 300 sample #: 199 reconstruction error: 0.084926\n",
            "Epoch: 0 batch #: 10  of 300 sample #: 199 reconstruction error: 0.169113\n",
            "Epoch: 0 batch #: 11  of 300 sample #: 199 reconstruction error: 0.098679\n",
            "Epoch: 0 batch #: 12  of 300 sample #: 199 reconstruction error: 0.130778\n",
            "Epoch: 0 batch #: 13  of 300 sample #: 199 reconstruction error: 0.065274\n",
            "Epoch: 0 batch #: 14  of 300 sample #: 199 reconstruction error: 0.098426\n",
            "Epoch: 0 batch #: 15  of 300 sample #: 199 reconstruction error: 0.101921\n",
            "Epoch: 0 batch #: 16  of 300 sample #: 199 reconstruction error: 0.103741\n",
            "Epoch: 0 batch #: 17  of 300 sample #: 199 reconstruction error: 0.075213\n",
            "Epoch: 0 batch #: 18  of 300 sample #: 199 reconstruction error: 0.122971\n",
            "Epoch: 0 batch #: 19  of 300 sample #: 199 reconstruction error: 0.126140\n",
            "Epoch: 0 batch #: 20  of 300 sample #: 199 reconstruction error: 0.082668\n",
            "Epoch: 0 batch #: 21  of 300 sample #: 199 reconstruction error: 0.086297\n",
            "Epoch: 0 batch #: 22  of 300 sample #: 199 reconstruction error: 0.082136\n",
            "Epoch: 0 batch #: 23  of 300 sample #: 199 reconstruction error: 0.127541\n",
            "Epoch: 0 batch #: 24  of 300 sample #: 199 reconstruction error: 0.130862\n",
            "Epoch: 0 batch #: 25  of 300 sample #: 199 reconstruction error: 0.094147\n",
            "Epoch: 0 batch #: 26  of 300 sample #: 199 reconstruction error: 0.088147\n",
            "Epoch: 0 batch #: 27  of 300 sample #: 199 reconstruction error: 0.097904\n",
            "Epoch: 0 batch #: 28  of 300 sample #: 199 reconstruction error: 0.081474\n",
            "Epoch: 0 batch #: 29  of 300 sample #: 199 reconstruction error: 0.099110\n",
            "Epoch: 0 batch #: 30  of 300 sample #: 199 reconstruction error: 0.077829\n",
            "Epoch: 0 batch #: 31  of 300 sample #: 199 reconstruction error: 0.100382\n",
            "Epoch: 0 batch #: 32  of 300 sample #: 199 reconstruction error: 0.110771\n",
            "Epoch: 0 batch #: 33  of 300 sample #: 199 reconstruction error: 0.055556\n",
            "Epoch: 0 batch #: 34  of 300 sample #: 199 reconstruction error: 0.080547\n",
            "Epoch: 0 batch #: 35  of 300 sample #: 199 reconstruction error: 0.092847\n",
            "Epoch: 0 batch #: 36  of 300 sample #: 199 reconstruction error: 0.087085\n",
            "Epoch: 0 batch #: 37  of 300 sample #: 199 reconstruction error: 0.067400\n",
            "Epoch: 0 batch #: 38  of 300 sample #: 199 reconstruction error: 0.074024\n",
            "Epoch: 0 batch #: 39  of 300 sample #: 199 reconstruction error: 0.115366\n",
            "Epoch: 0 batch #: 40  of 300 sample #: 199 reconstruction error: 0.111164\n",
            "Epoch: 0 batch #: 41  of 300 sample #: 199 reconstruction error: 0.061751\n",
            "Epoch: 0 batch #: 42  of 300 sample #: 199 reconstruction error: 0.062378\n",
            "Epoch: 0 batch #: 43  of 300 sample #: 199 reconstruction error: 0.144341\n",
            "Epoch: 0 batch #: 44  of 300 sample #: 199 reconstruction error: 0.076472\n",
            "Epoch: 0 batch #: 45  of 300 sample #: 199 reconstruction error: 0.065364\n",
            "Epoch: 0 batch #: 46  of 300 sample #: 199 reconstruction error: 0.036478\n",
            "Epoch: 0 batch #: 47  of 300 sample #: 199 reconstruction error: 0.045902\n",
            "Epoch: 0 batch #: 48  of 300 sample #: 199 reconstruction error: 0.030548\n",
            "Epoch: 0 batch #: 49  of 300 sample #: 199 reconstruction error: 0.135427\n",
            "Epoch: 0 batch #: 50  of 300 sample #: 199 reconstruction error: 0.051368\n",
            "Epoch: 0 batch #: 51  of 300 sample #: 199 reconstruction error: 0.061245\n",
            "Epoch: 0 batch #: 52  of 300 sample #: 199 reconstruction error: 0.029243\n",
            "Epoch: 0 batch #: 53  of 300 sample #: 199 reconstruction error: 0.101290\n",
            "Epoch: 0 batch #: 54  of 300 sample #: 199 reconstruction error: 0.052324\n",
            "Epoch: 0 batch #: 55  of 300 sample #: 199 reconstruction error: 0.116057\n",
            "Epoch: 0 batch #: 56  of 300 sample #: 199 reconstruction error: 0.043485\n",
            "Epoch: 0 batch #: 57  of 300 sample #: 199 reconstruction error: 0.042177\n",
            "Epoch: 0 batch #: 58  of 300 sample #: 199 reconstruction error: 0.067604\n",
            "Epoch: 0 batch #: 59  of 300 sample #: 199 reconstruction error: 0.052970\n",
            "Epoch: 0 batch #: 60  of 300 sample #: 199 reconstruction error: 0.098341\n",
            "Epoch: 0 batch #: 61  of 300 sample #: 199 reconstruction error: 0.075120\n",
            "Epoch: 0 batch #: 62  of 300 sample #: 199 reconstruction error: 0.089472\n",
            "Epoch: 0 batch #: 63  of 300 sample #: 199 reconstruction error: 0.067596\n",
            "Epoch: 0 batch #: 64  of 300 sample #: 199 reconstruction error: 0.086813\n",
            "Epoch: 0 batch #: 65  of 300 sample #: 199 reconstruction error: 0.088571\n",
            "Epoch: 0 batch #: 66  of 300 sample #: 199 reconstruction error: 0.074336\n",
            "Epoch: 0 batch #: 67  of 300 sample #: 199 reconstruction error: 0.051956\n",
            "Epoch: 0 batch #: 68  of 300 sample #: 199 reconstruction error: 0.067325\n",
            "Epoch: 0 batch #: 69  of 300 sample #: 199 reconstruction error: 0.087349\n",
            "Epoch: 0 batch #: 70  of 300 sample #: 199 reconstruction error: 0.073909\n",
            "Epoch: 0 batch #: 71  of 300 sample #: 199 reconstruction error: 0.085654\n",
            "Epoch: 0 batch #: 72  of 300 sample #: 199 reconstruction error: 0.072155\n",
            "Epoch: 0 batch #: 73  of 300 sample #: 199 reconstruction error: 0.085998\n",
            "Epoch: 0 batch #: 74  of 300 sample #: 199 reconstruction error: 0.101662\n",
            "Epoch: 0 batch #: 75  of 300 sample #: 199 reconstruction error: 0.031891\n",
            "Epoch: 0 batch #: 76  of 300 sample #: 199 reconstruction error: 0.074590\n",
            "Epoch: 0 batch #: 77  of 300 sample #: 199 reconstruction error: 0.104225\n",
            "Epoch: 0 batch #: 78  of 300 sample #: 199 reconstruction error: 0.099607\n",
            "Epoch: 0 batch #: 79  of 300 sample #: 199 reconstruction error: 0.123378\n",
            "Epoch: 0 batch #: 80  of 300 sample #: 199 reconstruction error: 0.025989\n",
            "Epoch: 0 batch #: 81  of 300 sample #: 199 reconstruction error: 0.046262\n",
            "Epoch: 0 batch #: 82  of 300 sample #: 199 reconstruction error: 0.043862\n",
            "Epoch: 0 batch #: 83  of 300 sample #: 199 reconstruction error: 0.072703\n",
            "Epoch: 0 batch #: 84  of 300 sample #: 199 reconstruction error: 0.077553\n",
            "Epoch: 0 batch #: 85  of 300 sample #: 199 reconstruction error: 0.048254\n",
            "Epoch: 0 batch #: 86  of 300 sample #: 199 reconstruction error: 0.082748\n",
            "Epoch: 0 batch #: 87  of 300 sample #: 199 reconstruction error: 0.073259\n",
            "Epoch: 0 batch #: 88  of 300 sample #: 199 reconstruction error: 0.027556\n",
            "Epoch: 0 batch #: 89  of 300 sample #: 199 reconstruction error: 0.055387\n",
            "Epoch: 0 batch #: 90  of 300 sample #: 199 reconstruction error: 0.080307\n",
            "Epoch: 0 batch #: 91  of 300 sample #: 199 reconstruction error: 0.069444\n",
            "Epoch: 0 batch #: 92  of 300 sample #: 199 reconstruction error: 0.062367\n",
            "Epoch: 0 batch #: 93  of 300 sample #: 199 reconstruction error: 0.103663\n",
            "Epoch: 0 batch #: 94  of 300 sample #: 199 reconstruction error: 0.120923\n",
            "Epoch: 0 batch #: 95  of 300 sample #: 199 reconstruction error: 0.059188\n",
            "Epoch: 0 batch #: 96  of 300 sample #: 199 reconstruction error: 0.050499\n",
            "Epoch: 0 batch #: 97  of 300 sample #: 199 reconstruction error: 0.105535\n",
            "Epoch: 0 batch #: 98  of 300 sample #: 199 reconstruction error: 0.104755\n",
            "Epoch: 0 batch #: 99  of 300 sample #: 199 reconstruction error: 0.070371\n",
            "Epoch: 0 batch #: 100  of 300 sample #: 199 reconstruction error: 0.110483\n",
            "Epoch: 0 batch #: 101  of 300 sample #: 199 reconstruction error: 0.069315\n",
            "Epoch: 0 batch #: 102  of 300 sample #: 199 reconstruction error: 0.067156\n",
            "Epoch: 0 batch #: 103  of 300 sample #: 199 reconstruction error: 0.077859\n",
            "Epoch: 0 batch #: 104  of 300 sample #: 199 reconstruction error: 0.068952\n",
            "Epoch: 0 batch #: 105  of 300 sample #: 199 reconstruction error: 0.066989\n",
            "Epoch: 0 batch #: 106  of 300 sample #: 199 reconstruction error: 0.122974\n",
            "Epoch: 0 batch #: 107  of 300 sample #: 199 reconstruction error: 0.139113\n",
            "Epoch: 0 batch #: 108  of 300 sample #: 199 reconstruction error: 0.055421\n",
            "Epoch: 0 batch #: 109  of 300 sample #: 199 reconstruction error: 0.130853\n",
            "Epoch: 0 batch #: 110  of 300 sample #: 199 reconstruction error: 0.061588\n",
            "Epoch: 0 batch #: 111  of 300 sample #: 199 reconstruction error: 0.108565\n",
            "Epoch: 0 batch #: 112  of 300 sample #: 199 reconstruction error: 0.047168\n",
            "Epoch: 0 batch #: 113  of 300 sample #: 199 reconstruction error: 0.075179\n",
            "Epoch: 0 batch #: 114  of 300 sample #: 199 reconstruction error: 0.074429\n",
            "Epoch: 0 batch #: 115  of 300 sample #: 199 reconstruction error: 0.063092\n",
            "Epoch: 0 batch #: 116  of 300 sample #: 199 reconstruction error: 0.056668\n",
            "Epoch: 0 batch #: 117  of 300 sample #: 199 reconstruction error: 0.049290\n",
            "Epoch: 0 batch #: 118  of 300 sample #: 199 reconstruction error: 0.094919\n",
            "Epoch: 0 batch #: 119  of 300 sample #: 199 reconstruction error: 0.109027\n",
            "Epoch: 0 batch #: 120  of 300 sample #: 199 reconstruction error: 0.087981\n",
            "Epoch: 0 batch #: 121  of 300 sample #: 199 reconstruction error: 0.065247\n",
            "Epoch: 0 batch #: 122  of 300 sample #: 199 reconstruction error: 0.103949\n",
            "Epoch: 0 batch #: 123  of 300 sample #: 199 reconstruction error: 0.075562\n",
            "Epoch: 0 batch #: 124  of 300 sample #: 199 reconstruction error: 0.062364\n",
            "Epoch: 0 batch #: 125  of 300 sample #: 199 reconstruction error: 0.050528\n",
            "Epoch: 0 batch #: 126  of 300 sample #: 199 reconstruction error: 0.100128\n",
            "Epoch: 0 batch #: 127  of 300 sample #: 199 reconstruction error: 0.093071\n",
            "Epoch: 0 batch #: 128  of 300 sample #: 199 reconstruction error: 0.067611\n",
            "Epoch: 0 batch #: 129  of 300 sample #: 199 reconstruction error: 0.052531\n",
            "Epoch: 0 batch #: 130  of 300 sample #: 199 reconstruction error: 0.079005\n",
            "Epoch: 0 batch #: 131  of 300 sample #: 199 reconstruction error: 0.067419\n",
            "Epoch: 0 batch #: 132  of 300 sample #: 199 reconstruction error: 0.054829\n",
            "Epoch: 0 batch #: 133  of 300 sample #: 199 reconstruction error: 0.071306\n",
            "Epoch: 0 batch #: 134  of 300 sample #: 199 reconstruction error: 0.112714\n",
            "Epoch: 0 batch #: 135  of 300 sample #: 199 reconstruction error: 0.095344\n",
            "Epoch: 0 batch #: 136  of 300 sample #: 199 reconstruction error: 0.099498\n",
            "Epoch: 0 batch #: 137  of 300 sample #: 199 reconstruction error: 0.073898\n",
            "Epoch: 0 batch #: 138  of 300 sample #: 199 reconstruction error: 0.071362\n",
            "Epoch: 0 batch #: 139  of 300 sample #: 199 reconstruction error: 0.096654\n",
            "Epoch: 0 batch #: 140  of 300 sample #: 199 reconstruction error: 0.090362\n",
            "Epoch: 0 batch #: 141  of 300 sample #: 199 reconstruction error: 0.079659\n",
            "Epoch: 0 batch #: 142  of 300 sample #: 199 reconstruction error: 0.065353\n",
            "Epoch: 0 batch #: 143  of 300 sample #: 199 reconstruction error: 0.058252\n",
            "Epoch: 0 batch #: 144  of 300 sample #: 199 reconstruction error: 0.063461\n",
            "Epoch: 0 batch #: 145  of 300 sample #: 199 reconstruction error: 0.095142\n",
            "Epoch: 0 batch #: 146  of 300 sample #: 199 reconstruction error: 0.104530\n",
            "Epoch: 0 batch #: 147  of 300 sample #: 199 reconstruction error: 0.056165\n",
            "Epoch: 0 batch #: 148  of 300 sample #: 199 reconstruction error: 0.053871\n",
            "Epoch: 0 batch #: 149  of 300 sample #: 199 reconstruction error: 0.039595\n",
            "Epoch: 0 batch #: 150  of 300 sample #: 199 reconstruction error: 0.052423\n",
            "Epoch: 0 batch #: 151  of 300 sample #: 199 reconstruction error: 0.117091\n",
            "Epoch: 0 batch #: 152  of 300 sample #: 199 reconstruction error: 0.093758\n",
            "Epoch: 0 batch #: 153  of 300 sample #: 199 reconstruction error: 0.059142\n",
            "Epoch: 0 batch #: 154  of 300 sample #: 199 reconstruction error: 0.089248\n",
            "Epoch: 0 batch #: 155  of 300 sample #: 199 reconstruction error: 0.055795\n",
            "Epoch: 0 batch #: 156  of 300 sample #: 199 reconstruction error: 0.078283\n",
            "Epoch: 0 batch #: 157  of 300 sample #: 199 reconstruction error: 0.107044\n",
            "Epoch: 0 batch #: 158  of 300 sample #: 199 reconstruction error: 0.064967\n",
            "Epoch: 0 batch #: 159  of 300 sample #: 199 reconstruction error: 0.058961\n",
            "Epoch: 0 batch #: 160  of 300 sample #: 199 reconstruction error: 0.081477\n",
            "Epoch: 0 batch #: 161  of 300 sample #: 199 reconstruction error: 0.090708\n",
            "Epoch: 0 batch #: 162  of 300 sample #: 199 reconstruction error: 0.111037\n",
            "Epoch: 0 batch #: 163  of 300 sample #: 199 reconstruction error: 0.048580\n",
            "Epoch: 0 batch #: 164  of 300 sample #: 199 reconstruction error: 0.068792\n",
            "Epoch: 0 batch #: 165  of 300 sample #: 199 reconstruction error: 0.081360\n",
            "Epoch: 0 batch #: 166  of 300 sample #: 199 reconstruction error: 0.060385\n",
            "Epoch: 0 batch #: 167  of 300 sample #: 199 reconstruction error: 0.085329\n",
            "Epoch: 0 batch #: 168  of 300 sample #: 199 reconstruction error: 0.052463\n",
            "Epoch: 0 batch #: 169  of 300 sample #: 199 reconstruction error: 0.039977\n",
            "Epoch: 0 batch #: 170  of 300 sample #: 199 reconstruction error: 0.062235\n",
            "Epoch: 0 batch #: 171  of 300 sample #: 199 reconstruction error: 0.029315\n",
            "Epoch: 0 batch #: 172  of 300 sample #: 199 reconstruction error: 0.047301\n",
            "Epoch: 0 batch #: 173  of 300 sample #: 199 reconstruction error: 0.068877\n",
            "Epoch: 0 batch #: 174  of 300 sample #: 199 reconstruction error: 0.097064\n",
            "Epoch: 0 batch #: 175  of 300 sample #: 199 reconstruction error: 0.061369\n",
            "Epoch: 0 batch #: 176  of 300 sample #: 199 reconstruction error: 0.038884\n",
            "Epoch: 0 batch #: 177  of 300 sample #: 199 reconstruction error: 0.042560\n",
            "Epoch: 0 batch #: 178  of 300 sample #: 199 reconstruction error: 0.101669\n",
            "Epoch: 0 batch #: 179  of 300 sample #: 199 reconstruction error: 0.079186\n",
            "Epoch: 0 batch #: 180  of 300 sample #: 199 reconstruction error: 0.080905\n",
            "Epoch: 0 batch #: 181  of 300 sample #: 199 reconstruction error: 0.090110\n",
            "Epoch: 0 batch #: 182  of 300 sample #: 199 reconstruction error: 0.074841\n",
            "Epoch: 0 batch #: 183  of 300 sample #: 199 reconstruction error: 0.104732\n",
            "Epoch: 0 batch #: 184  of 300 sample #: 199 reconstruction error: 0.077439\n",
            "Epoch: 0 batch #: 185  of 300 sample #: 199 reconstruction error: 0.078205\n",
            "Epoch: 0 batch #: 186  of 300 sample #: 199 reconstruction error: 0.092180\n",
            "Epoch: 0 batch #: 187  of 300 sample #: 199 reconstruction error: 0.054187\n",
            "Epoch: 0 batch #: 188  of 300 sample #: 199 reconstruction error: 0.104807\n",
            "Epoch: 0 batch #: 189  of 300 sample #: 199 reconstruction error: 0.078437\n",
            "Epoch: 0 batch #: 190  of 300 sample #: 199 reconstruction error: 0.060202\n",
            "Epoch: 0 batch #: 191  of 300 sample #: 199 reconstruction error: 0.102637\n",
            "Epoch: 0 batch #: 192  of 300 sample #: 199 reconstruction error: 0.141948\n",
            "Epoch: 0 batch #: 193  of 300 sample #: 199 reconstruction error: 0.089158\n",
            "Epoch: 0 batch #: 194  of 300 sample #: 199 reconstruction error: 0.093800\n",
            "Epoch: 0 batch #: 195  of 300 sample #: 199 reconstruction error: 0.045568\n",
            "Epoch: 0 batch #: 196  of 300 sample #: 199 reconstruction error: 0.047328\n",
            "Epoch: 0 batch #: 197  of 300 sample #: 199 reconstruction error: 0.051694\n",
            "Epoch: 0 batch #: 198  of 300 sample #: 199 reconstruction error: 0.087458\n",
            "Epoch: 0 batch #: 199  of 300 sample #: 199 reconstruction error: 0.080379\n",
            "Epoch: 0 batch #: 200  of 300 sample #: 199 reconstruction error: 0.090556\n",
            "Epoch: 0 batch #: 201  of 300 sample #: 199 reconstruction error: 0.098616\n",
            "Epoch: 0 batch #: 202  of 300 sample #: 199 reconstruction error: 0.030629\n",
            "Epoch: 0 batch #: 203  of 300 sample #: 199 reconstruction error: 0.075826\n",
            "Epoch: 0 batch #: 204  of 300 sample #: 199 reconstruction error: 0.059693\n",
            "Epoch: 0 batch #: 205  of 300 sample #: 199 reconstruction error: 0.025882\n",
            "Epoch: 0 batch #: 206  of 300 sample #: 199 reconstruction error: 0.079849\n",
            "Epoch: 0 batch #: 207  of 300 sample #: 199 reconstruction error: 0.090006\n",
            "Epoch: 0 batch #: 208  of 300 sample #: 199 reconstruction error: 0.047397\n",
            "Epoch: 0 batch #: 209  of 300 sample #: 199 reconstruction error: 0.030426\n",
            "Epoch: 0 batch #: 210  of 300 sample #: 199 reconstruction error: 0.106710\n",
            "Epoch: 0 batch #: 211  of 300 sample #: 199 reconstruction error: 0.097476\n",
            "Epoch: 0 batch #: 212  of 300 sample #: 199 reconstruction error: 0.080465\n",
            "Epoch: 0 batch #: 213  of 300 sample #: 199 reconstruction error: 0.087237\n",
            "Epoch: 0 batch #: 214  of 300 sample #: 199 reconstruction error: 0.102434\n",
            "Epoch: 0 batch #: 215  of 300 sample #: 199 reconstruction error: 0.033009\n",
            "Epoch: 0 batch #: 216  of 300 sample #: 199 reconstruction error: 0.097596\n",
            "Epoch: 0 batch #: 217  of 300 sample #: 199 reconstruction error: 0.074969\n",
            "Epoch: 0 batch #: 218  of 300 sample #: 199 reconstruction error: 0.063179\n",
            "Epoch: 0 batch #: 219  of 300 sample #: 199 reconstruction error: 0.084081\n",
            "Epoch: 0 batch #: 220  of 300 sample #: 199 reconstruction error: 0.053133\n",
            "Epoch: 0 batch #: 221  of 300 sample #: 199 reconstruction error: 0.084632\n",
            "Epoch: 0 batch #: 222  of 300 sample #: 199 reconstruction error: 0.102132\n",
            "Epoch: 0 batch #: 223  of 300 sample #: 199 reconstruction error: 0.062169\n",
            "Epoch: 0 batch #: 224  of 300 sample #: 199 reconstruction error: 0.068468\n",
            "Epoch: 0 batch #: 225  of 300 sample #: 199 reconstruction error: 0.063420\n",
            "Epoch: 0 batch #: 226  of 300 sample #: 199 reconstruction error: 0.128723\n",
            "Epoch: 0 batch #: 227  of 300 sample #: 199 reconstruction error: 0.090937\n",
            "Epoch: 0 batch #: 228  of 300 sample #: 199 reconstruction error: 0.065335\n",
            "Epoch: 0 batch #: 229  of 300 sample #: 199 reconstruction error: 0.093667\n",
            "Epoch: 0 batch #: 230  of 300 sample #: 199 reconstruction error: 0.039240\n",
            "Epoch: 0 batch #: 231  of 300 sample #: 199 reconstruction error: 0.024344\n",
            "Epoch: 0 batch #: 232  of 300 sample #: 199 reconstruction error: 0.074701\n",
            "Epoch: 0 batch #: 233  of 300 sample #: 199 reconstruction error: 0.089163\n",
            "Epoch: 0 batch #: 234  of 300 sample #: 199 reconstruction error: 0.074341\n",
            "Epoch: 0 batch #: 235  of 300 sample #: 199 reconstruction error: 0.068299\n",
            "Epoch: 0 batch #: 236  of 300 sample #: 199 reconstruction error: 0.101012\n",
            "Epoch: 0 batch #: 237  of 300 sample #: 199 reconstruction error: 0.066520\n",
            "Epoch: 0 batch #: 238  of 300 sample #: 199 reconstruction error: 0.125680\n",
            "Epoch: 0 batch #: 239  of 300 sample #: 199 reconstruction error: 0.031081\n",
            "Epoch: 0 batch #: 240  of 300 sample #: 199 reconstruction error: 0.108486\n",
            "Epoch: 0 batch #: 241  of 300 sample #: 199 reconstruction error: 0.088998\n",
            "Epoch: 0 batch #: 242  of 300 sample #: 199 reconstruction error: 0.061841\n",
            "Epoch: 0 batch #: 243  of 300 sample #: 199 reconstruction error: 0.096591\n",
            "Epoch: 0 batch #: 244  of 300 sample #: 199 reconstruction error: 0.070219\n",
            "Epoch: 0 batch #: 245  of 300 sample #: 199 reconstruction error: 0.061423\n",
            "Epoch: 0 batch #: 246  of 300 sample #: 199 reconstruction error: 0.081547\n",
            "Epoch: 0 batch #: 247  of 300 sample #: 199 reconstruction error: 0.038757\n",
            "Epoch: 0 batch #: 248  of 300 sample #: 199 reconstruction error: 0.080272\n",
            "Epoch: 0 batch #: 249  of 300 sample #: 199 reconstruction error: 0.054204\n",
            "Epoch: 0 batch #: 250  of 300 sample #: 199 reconstruction error: 0.078163\n",
            "Epoch: 0 batch #: 251  of 300 sample #: 199 reconstruction error: 0.052348\n",
            "Epoch: 0 batch #: 252  of 300 sample #: 199 reconstruction error: 0.068381\n",
            "Epoch: 0 batch #: 253  of 300 sample #: 199 reconstruction error: 0.062153\n",
            "Epoch: 0 batch #: 254  of 300 sample #: 199 reconstruction error: 0.034145\n",
            "Epoch: 0 batch #: 255  of 300 sample #: 199 reconstruction error: 0.047719\n",
            "Epoch: 0 batch #: 256  of 300 sample #: 199 reconstruction error: 0.078770\n",
            "Epoch: 0 batch #: 257  of 300 sample #: 199 reconstruction error: 0.090173\n",
            "Epoch: 0 batch #: 258  of 300 sample #: 199 reconstruction error: 0.093661\n",
            "Epoch: 0 batch #: 259  of 300 sample #: 199 reconstruction error: 0.072497\n",
            "Epoch: 0 batch #: 260  of 300 sample #: 199 reconstruction error: 0.097388\n",
            "Epoch: 0 batch #: 261  of 300 sample #: 199 reconstruction error: 0.037348\n",
            "Epoch: 0 batch #: 262  of 300 sample #: 199 reconstruction error: 0.052778\n",
            "Epoch: 0 batch #: 263  of 300 sample #: 199 reconstruction error: 0.103392\n",
            "Epoch: 0 batch #: 264  of 300 sample #: 199 reconstruction error: 0.072394\n",
            "Epoch: 0 batch #: 265  of 300 sample #: 199 reconstruction error: 0.061310\n",
            "Epoch: 0 batch #: 266  of 300 sample #: 199 reconstruction error: 0.029456\n",
            "Epoch: 0 batch #: 267  of 300 sample #: 199 reconstruction error: 0.049839\n",
            "Epoch: 0 batch #: 268  of 300 sample #: 199 reconstruction error: 0.019378\n",
            "Epoch: 0 batch #: 269  of 300 sample #: 199 reconstruction error: 0.070010\n",
            "Epoch: 0 batch #: 270  of 300 sample #: 199 reconstruction error: 0.080731\n",
            "Epoch: 0 batch #: 271  of 300 sample #: 199 reconstruction error: 0.048865\n",
            "Epoch: 0 batch #: 272  of 300 sample #: 199 reconstruction error: 0.062336\n",
            "Epoch: 0 batch #: 273  of 300 sample #: 199 reconstruction error: 0.041002\n",
            "Epoch: 0 batch #: 274  of 300 sample #: 199 reconstruction error: 0.040466\n",
            "Epoch: 0 batch #: 275  of 300 sample #: 199 reconstruction error: 0.079158\n",
            "Epoch: 0 batch #: 276  of 300 sample #: 199 reconstruction error: 0.086982\n",
            "Epoch: 0 batch #: 277  of 300 sample #: 199 reconstruction error: 0.069763\n",
            "Epoch: 0 batch #: 278  of 300 sample #: 199 reconstruction error: 0.061476\n",
            "Epoch: 0 batch #: 279  of 300 sample #: 199 reconstruction error: 0.050375\n",
            "Epoch: 0 batch #: 280  of 300 sample #: 199 reconstruction error: 0.085122\n",
            "Epoch: 0 batch #: 281  of 300 sample #: 199 reconstruction error: 0.078781\n",
            "Epoch: 0 batch #: 282  of 300 sample #: 199 reconstruction error: 0.102825\n",
            "Epoch: 0 batch #: 283  of 300 sample #: 199 reconstruction error: 0.041209\n",
            "Epoch: 0 batch #: 284  of 300 sample #: 199 reconstruction error: 0.054814\n",
            "Epoch: 0 batch #: 285  of 300 sample #: 199 reconstruction error: 0.067566\n",
            "Epoch: 0 batch #: 286  of 300 sample #: 199 reconstruction error: 0.085555\n",
            "Epoch: 0 batch #: 287  of 300 sample #: 199 reconstruction error: 0.064412\n",
            "Epoch: 0 batch #: 288  of 300 sample #: 199 reconstruction error: 0.020880\n",
            "Epoch: 0 batch #: 289  of 300 sample #: 199 reconstruction error: 0.095766\n",
            "Epoch: 0 batch #: 290  of 300 sample #: 199 reconstruction error: 0.091476\n",
            "Epoch: 0 batch #: 291  of 300 sample #: 199 reconstruction error: 0.115971\n",
            "Epoch: 0 batch #: 292  of 300 sample #: 199 reconstruction error: 0.062524\n",
            "Epoch: 0 batch #: 293  of 300 sample #: 199 reconstruction error: 0.057676\n",
            "Epoch: 0 batch #: 294  of 300 sample #: 199 reconstruction error: 0.090334\n",
            "Epoch: 0 batch #: 295  of 300 sample #: 199 reconstruction error: 0.062147\n",
            "Epoch: 0 batch #: 296  of 300 sample #: 199 reconstruction error: 0.026303\n",
            "Epoch: 0 batch #: 297  of 300 sample #: 199 reconstruction error: 0.092572\n",
            "Epoch: 0 batch #: 298  of 300 sample #: 199 reconstruction error: 0.057409\n",
            "Epoch: 0 batch #: 299  of 300 sample #: 199 reconstruction error: 0.046509\n",
            "Epoch: 0 batch #: 300  of 300 sample #: 199 reconstruction error: 0.075817\n"
          ]
        }
      ],
      "source": [
        "#Parameters\n",
        "alpha = 0.01\n",
        "epochs = 1\n",
        "batchsize = 200\n",
        "weights = []\n",
        "errors = []\n",
        "batch_number = 0\n",
        "K = 1\n",
        "\n",
        "#creating datasets\n",
        "train_ds = \\\n",
        "    tf.data.Dataset.from_tensor_slices((trX, trY)).batch(batchsize)\n",
        "\n",
        "for epoch in range(epochs):\n",
        "    for batch_x, batch_y in train_ds:\n",
        "        batch_number += 1\n",
        "        for i_sample in range(batchsize):           \n",
        "            for k in range(K):\n",
        "                v0_state = batch_x[i_sample]\n",
        "                h0_state = hidden_layer(v0_state, W, hb)\n",
        "                v1_state = reconstructed_output(h0_state, W, vb)\n",
        "                h1_state = hidden_layer(v1_state, W, hb)\n",
        "\n",
        "                delta_W = tf.matmul(tf.transpose([v0_state]), h0_state) - tf.matmul(tf.transpose([v1_state]), h1_state)\n",
        "                W = W + alpha * delta_W\n",
        "\n",
        "                vb = vb + alpha * tf.reduce_mean(v0_state - v1_state, 0)\n",
        "                hb = hb + alpha * tf.reduce_mean(h0_state - h1_state, 0) \n",
        "\n",
        "                v0_state = v1_state\n",
        "\n",
        "            if i_sample == batchsize-1:\n",
        "                err = error(batch_x[i_sample], v1_state)\n",
        "                errors.append(err)\n",
        "                weights.append(W)\n",
        "                print ( 'Epoch: %d' % epoch, \n",
        "                       \"batch #: %i \" % batch_number, \"of %i\" % int(60e3/batchsize), \n",
        "                       \"sample #: %i\" % i_sample,\n",
        "                       'reconstruction error: %f' % err)\n",
        "\n"
      ]
    },
    {
      "cell_type": "markdown",
      "metadata": {
        "id": "nq2BoutrcNlT"
      },
      "source": [
        "Let's take a look at the errors at the end of each batch:\n"
      ]
    },
    {
      "cell_type": "code",
      "execution_count": 16,
      "metadata": {
        "colab": {
          "base_uri": "https://localhost:8080/",
          "height": 279
        },
        "id": "qyNaBLCpcNlT",
        "outputId": "6cf722e6-4feb-4719-9fa2-f778ed166093"
      },
      "outputs": [
        {
          "output_type": "display_data",
          "data": {
            "text/plain": [
              "<Figure size 432x288 with 1 Axes>"
            ],
            "image/png": "[encoded data removed]"
          },
          "metadata": {
            "needs_background": "light"
          }
        }
      ],
      "source": [
        "plt.plot(errors)\n",
        "plt.xlabel(\"Batch Number\")\n",
        "plt.ylabel(\"Error\")\n",
        "plt.show()"
      ]
    },
    {
      "cell_type": "markdown",
      "metadata": {
        "id": "_w2uNqtmcNlU"
      },
      "source": [
        "What is the final weight matrix $W$ after training?\n"
      ]
    },
    {
      "cell_type": "code",
      "execution_count": 21,
      "metadata": {
        "colab": {
          "base_uri": "https://localhost:8080/"
        },
        "id": "GTTRRmixcNlU",
        "outputId": "b2914965-bb97-4621-8ea8-d9c61c7dd329"
      },
      "outputs": [
        {
          "output_type": "stream",
          "name": "stdout",
          "text": [
            "[[-0.22000003 -0.34999993 -0.43999985 ... -0.34999993 -0.18\n",
            "  -0.20000002]\n",
            " [-0.26000002 -0.36999992 -0.5399998  ... -0.40999988 -0.26000002\n",
            "  -0.21000002]\n",
            " [-0.26000002 -0.41999987 -0.41999987 ... -0.40999988 -0.22000003\n",
            "  -0.20000002]\n",
            " ...\n",
            " [-0.26000002 -0.3799999  -0.40999988 ... -0.3999999  -0.24000004\n",
            "  -0.25000003]\n",
            " [-0.22000003 -0.4799998  -0.5099998  ... -0.42999986 -0.29\n",
            "  -0.26000002]\n",
            " [-0.29       -0.3799999  -0.46999982 ... -0.45999983 -0.22000003\n",
            "  -0.29      ]]\n"
          ]
        }
      ],
      "source": [
        "print(W.numpy()) # a weight matrix of shape (50,784)"
      ]
    },
    {
      "cell_type": "markdown",
      "metadata": {
        "id": "Xq2xuToWcNlU"
      },
      "source": [
        "<a id=\"ref5\"></a>\n",
        "\n",
        "<h3>Learned features</h3> \n"
      ]
    },
    {
      "cell_type": "markdown",
      "metadata": {
        "id": "UcOW_YJNcNlU"
      },
      "source": [
        "We can take each hidden unit and visualize the connections between that hidden unit and each element in the input vector. In our case, we have 50 hidden units. Lets visualize those.\n"
      ]
    },
    {
      "cell_type": "markdown",
      "metadata": {
        "id": "AZm_M5sZcNlU"
      },
      "source": [
        "Let's plot the current weights: <b>tile_raster_images</b> helps in generating an easy to grasp image from a set of samples or weights. It transforms the <b>uw</b> (with one flattened image per row of size 784), into an array (of size $28\\times28$) in which images are reshaped and laid out like tiles on a floor.\n"
      ]
    },
    {
      "cell_type": "code",
      "execution_count": 22,
      "metadata": {
        "colab": {
          "base_uri": "https://localhost:8080/",
          "height": 551
        },
        "id": "7MGFD5o4cNlU",
        "outputId": "af1d6143-2fff-4ed3-9a01-92c0b58ec56f"
      },
      "outputs": [
        {
          "output_type": "display_data",
          "data": {
            "text/plain": [
              "<Figure size 1296x1296 with 1 Axes>"
            ],
            "image/png": "[encoded data removed]"
          },
          "metadata": {
            "needs_background": "light"
          }
        }
      ],
      "source": [
        "tile_raster_images(X=W.numpy().T, img_shape=(28, 28), tile_shape=(5, 10), tile_spacing=(1, 1))\n",
        "import matplotlib.pyplot as plt\n",
        "from PIL import Image\n",
        "%matplotlib inline\n",
        "image = Image.fromarray(tile_raster_images(X=W.numpy().T, img_shape=(28, 28) ,tile_shape=(5, 10), tile_spacing=(1, 1)))\n",
        "### Plot image\n",
        "plt.rcParams['figure.figsize'] = (18.0, 18.0)\n",
        "imgplot = plt.imshow(image)\n",
        "imgplot.set_cmap('gray')  "
      ]
    },
    {
      "cell_type": "markdown",
      "metadata": {
        "id": "8_8VFldKcNlU"
      },
      "source": [
        "Each tile in the above visualization corresponds to a vector of connections between a hidden unit and visible layer's units.\n"
      ]
    },
    {
      "cell_type": "markdown",
      "metadata": {
        "id": "mXnB-k74cNlU"
      },
      "source": [
        "Let's look at one of the learned weights corresponding to one of hidden units for example. In this particular square, the gray color represents weight = 0, and the whiter it is, the more positive the weights are (closer to 1). Conversely, the darker pixels are, the more negative the weights. The positive pixels will increase the probability of activation in hidden units (after multiplying by input/visible pixels), and negative pixels will decrease the probability of a unit hidden to be 1 (activated). So, why is this important?  So we can see that this specific square (hidden unit) can detect a feature (e.g. a \"/\" shape) and if it exists in the input.\n"
      ]
    },
    {
      "cell_type": "code",
      "execution_count": 23,
      "metadata": {
        "colab": {
          "base_uri": "https://localhost:8080/",
          "height": 265
        },
        "id": "iysVvAjccNlU",
        "outputId": "4900b43d-e87a-488c-e7fd-2d45589e732b"
      },
      "outputs": [
        {
          "output_type": "display_data",
          "data": {
            "text/plain": [
              "<Figure size 288x288 with 1 Axes>"
            ],
            "image/png": "[encoded data removed]"
          },
          "metadata": {
            "needs_background": "light"
          }
        }
      ],
      "source": [
        "from PIL import Image\n",
        "image = Image.fromarray(tile_raster_images(X =W.numpy().T[10:11], img_shape=(28, 28),tile_shape=(1, 1), tile_spacing=(1, 1)))\n",
        "### Plot image\n",
        "plt.rcParams['figure.figsize'] = (4.0, 4.0)\n",
        "imgplot = plt.imshow(image)\n",
        "imgplot.set_cmap('gray')  "
      ]
    },
    {
      "cell_type": "markdown",
      "metadata": {
        "id": "W1xJKMLMcNlV"
      },
      "source": [
        "Let's look at the reconstruction of an image now. Imagine that we have a destructed image of figure 3. Lets see if our trained network can fix it:\n",
        "\n",
        "First we plot the image:\n"
      ]
    },
    {
      "cell_type": "code",
      "execution_count": 17,
      "metadata": {
        "colab": {
          "base_uri": "https://localhost:8080/",
          "height": 652
        },
        "id": "BBAqFpUucNlV",
        "outputId": "75e5e271-521c-4a72-daea-e233818f183b"
      },
      "outputs": [
        {
          "output_type": "stream",
          "name": "stdout",
          "text": [
            "--2022-07-29 01:28:38--  https://ibm.box.com/shared/static/vvm1b63uvuxq88vbw9znpwu5ol380mco.jpg\n",
            "Resolving ibm.box.com (ibm.box.com)... 107.152.29.197\n",
            "Connecting to ibm.box.com (ibm.box.com)|107.152.29.197|:443... connected.\n",
            "HTTP request sent, awaiting response... 301 Moved Permanently\n",
            "Location: /public/static/vvm1b63uvuxq88vbw9znpwu5ol380mco.jpg [following]\n",
            "--2022-07-29 01:28:38--  https://ibm.box.com/public/static/vvm1b63uvuxq88vbw9znpwu5ol380mco.jpg\n",
            "Reusing existing connection to ibm.box.com:443.\n",
            "HTTP request sent, awaiting response... 301 Moved Permanently\n",
            "Location: https://ibm.ent.box.com/public/static/vvm1b63uvuxq88vbw9znpwu5ol380mco.jpg [following]\n",
            "--2022-07-29 01:28:39--  https://ibm.ent.box.com/public/static/vvm1b63uvuxq88vbw9znpwu5ol380mco.jpg\n",
            "Resolving ibm.ent.box.com (ibm.ent.box.com)... 74.112.186.144\n",
            "Connecting to ibm.ent.box.com (ibm.ent.box.com)|74.112.186.144|:443... connected.\n",
            "HTTP request sent, awaiting response... 302 Found\n",
            "Location: https://dl2.boxcloud.com/d/1/b1!icaYwDiOUkRO_jpsF1QiOTM5VxqRAJc1KONINJQJ1fJDMBkBcuabTnYWGaAQykS8V0cEUNjwSoPrYcMFns4xt4nuDh0xeWVvzMtXEbfYEwDQWuTOKPt64nyYcVY9vrd8L_Icr3ZqsCUHCKacSGFNqY_v-217RiBRpvH7z8-Ho-7uIT3kcxIjO5nzxwyeu2fzTSjbtZBKExZhinx2CkVug_UBdDYJG2ow9FL-21WSV_hGwodtSKJR1G5vrHRZgO3cEHgZiNAmLByyP6Cx7QZILDq1pFo-PjXPpsAwc36cmYdo1zKMEnZena5-7TQbRjWdNYVFlGAxLN4LCrCk8M2JB-Ljv1ODHAyT0qCl2-AKrEaDWUZ4XWS9mpVrbWOq4BnAiCh4kzXCQLIwIN-VvEm8b-EuLI2mCJBoJxsFjaXXF0NUiXVwdJc8Ydk995HKLvm4APT3GNKQ50SS1YGHdMbF4FCoc6ICzoJmsklMzQi_57xli28W63TOgmeex3RgKkmt3U_a2nbW1AlqP56zr8_znAC7wpY62N66-cnjpIAtqx0iKjhR96IZneuoxloYBi9hYDLmdfR_13od2G9EMDZPQ-QBTWZef8g4j8nqTARnKvrpVa-nR-kOLTc_y-5DZ-2rO0SriY6bayqIYoeuiqLkE2KpHxQWIzL2-NKX-_xG7xDXGvRMThuMMexX0fq8FXlfxXBYvxvJbpmMSbxc5bSAuKIEAUekt6rOPO1Y8OHE1MDoq_DWNFCdjFJEhgaNXgSpxb7Mv7X6bieFfyjRWZl7NewXh8KQRBfh8ETREHTgjM7x8o7mJQ8ZhdEizFQhQbtq5K67jGaWvKeAvZPZqpZWRe7slMthfhf_nI-WA2boxh6nY7PhGGpfyASf-73Xi6oCwwn3M0ZoOXYXa_4EOx0kMneMEcJbW4sD2C1LmSdVR8VE9Lg0u2kS9IWNNx3bnhp2FVaioFvG8egdxppoOsym31S8mZJFeRMpZmoHTl0f80kHb2Fxw_zFfnOc5t3m6aRUVG0eyVoD_sNFl7DjoIS6Dj0AUonWJEyZWcTrxw-Bvf20rp78cEVuI-U3qMKhSfv1fDFnHITOZICq7cEz0I2FMqp5RqgPz38sFabDO81ErGCDlaQoHiP9DCXnz8tNKIcCCKJ0V6LHcu84NfgR2E3D4IuxhqeTUCia6i9PwbxlKW5JrM16zm6CyBWxVuK-joeGTx4F23alrNfAjhW_n_BXKXkSp9WLxtymOSwcmxBiXc96K1EMuCFX74IET5r7yjP4OBXQID0pZOmSSanvrnV-7VsNQjQfH-HX1XQHPrWy3PUTQizJ_5TvP1S8VPJluAVzlzK37tD6IxT2r_J9ulImNkhKkgX_RuTwPF0-OMYjM3qLZ4IyhZTgiAG5m87lEosxG-OOiHjL_Pnn1u-b4tg88vg./download [following]\n",
            "--2022-07-29 01:28:39--  https://dl2.boxcloud.com/d/1/b1!icaYwDiOUkRO_jpsF1QiOTM5VxqRAJc1KONINJQJ1fJDMBkBcuabTnYWGaAQykS8V0cEUNjwSoPrYcMFns4xt4nuDh0xeWVvzMtXEbfYEwDQWuTOKPt64nyYcVY9vrd8L_Icr3ZqsCUHCKacSGFNqY_v-217RiBRpvH7z8-Ho-7uIT3kcxIjO5nzxwyeu2fzTSjbtZBKExZhinx2CkVug_UBdDYJG2ow9FL-21WSV_hGwodtSKJR1G5vrHRZgO3cEHgZiNAmLByyP6Cx7QZILDq1pFo-PjXPpsAwc36cmYdo1zKMEnZena5-7TQbRjWdNYVFlGAxLN4LCrCk8M2JB-Ljv1ODHAyT0qCl2-AKrEaDWUZ4XWS9mpVrbWOq4BnAiCh4kzXCQLIwIN-VvEm8b-EuLI2mCJBoJxsFjaXXF0NUiXVwdJc8Ydk995HKLvm4APT3GNKQ50SS1YGHdMbF4FCoc6ICzoJmsklMzQi_57xli28W63TOgmeex3RgKkmt3U_a2nbW1AlqP56zr8_znAC7wpY62N66-cnjpIAtqx0iKjhR96IZneuoxloYBi9hYDLmdfR_13od2G9EMDZPQ-QBTWZef8g4j8nqTARnKvrpVa-nR-kOLTc_y-5DZ-2rO0SriY6bayqIYoeuiqLkE2KpHxQWIzL2-NKX-_xG7xDXGvRMThuMMexX0fq8FXlfxXBYvxvJbpmMSbxc5bSAuKIEAUekt6rOPO1Y8OHE1MDoq_DWNFCdjFJEhgaNXgSpxb7Mv7X6bieFfyjRWZl7NewXh8KQRBfh8ETREHTgjM7x8o7mJQ8ZhdEizFQhQbtq5K67jGaWvKeAvZPZqpZWRe7slMthfhf_nI-WA2boxh6nY7PhGGpfyASf-73Xi6oCwwn3M0ZoOXYXa_4EOx0kMneMEcJbW4sD2C1LmSdVR8VE9Lg0u2kS9IWNNx3bnhp2FVaioFvG8egdxppoOsym31S8mZJFeRMpZmoHTl0f80kHb2Fxw_zFfnOc5t3m6aRUVG0eyVoD_sNFl7DjoIS6Dj0AUonWJEyZWcTrxw-Bvf20rp78cEVuI-U3qMKhSfv1fDFnHITOZICq7cEz0I2FMqp5RqgPz38sFabDO81ErGCDlaQoHiP9DCXnz8tNKIcCCKJ0V6LHcu84NfgR2E3D4IuxhqeTUCia6i9PwbxlKW5JrM16zm6CyBWxVuK-joeGTx4F23alrNfAjhW_n_BXKXkSp9WLxtymOSwcmxBiXc96K1EMuCFX74IET5r7yjP4OBXQID0pZOmSSanvrnV-7VsNQjQfH-HX1XQHPrWy3PUTQizJ_5TvP1S8VPJluAVzlzK37tD6IxT2r_J9ulImNkhKkgX_RuTwPF0-OMYjM3qLZ4IyhZTgiAG5m87lEosxG-OOiHjL_Pnn1u-b4tg88vg./download\n",
            "Resolving dl2.boxcloud.com (dl2.boxcloud.com)... 74.112.186.128\n",
            "Connecting to dl2.boxcloud.com (dl2.boxcloud.com)|74.112.186.128|:443... connected.\n",
            "HTTP request sent, awaiting response... 200 OK\n",
            "Length: 24383 (24K) [image/jpeg]\n",
            "Saving to: ‘destructed3.jpg’\n",
            "\n",
            "destructed3.jpg     100%[===================>]  23.81K  --.-KB/s    in 0.009s  \n",
            "\n",
            "2022-07-29 01:28:40 (2.60 MB/s) - ‘destructed3.jpg’ saved [24383/24383]\n",
            "\n"
          ]
        },
        {
          "output_type": "execute_result",
          "data": {
            "text/plain": [
              "<PIL.JpegImagePlugin.JpegImageFile image mode=RGB size=181x181 at 0x7F27CEC24410>"
            ],
            "image/png": "[encoded data removed]"
          },
          "metadata": {},
          "execution_count": 17
        }
      ],
      "source": [
        "!wget -O destructed3.jpg  https://ibm.box.com/shared/static/vvm1b63uvuxq88vbw9znpwu5ol380mco.jpg\n",
        "from PIL import Image\n",
        "img = Image.open('destructed3.jpg')\n",
        "img"
      ]
    },
    {
      "cell_type": "markdown",
      "metadata": {
        "id": "b3rnML7fcNlV"
      },
      "source": [
        "Now let's pass this image through the neural net:\n"
      ]
    },
    {
      "cell_type": "code",
      "execution_count": 18,
      "metadata": {
        "id": "IbpcJgKrcNlV"
      },
      "outputs": [],
      "source": [
        "# convert the image to a 1d numpy array\n",
        "sample_case = np.array(img.convert('I').resize((28,28))).ravel().reshape((1, -1))/255.0\n",
        "\n",
        "sample_case = tf.cast(sample_case, dtype=tf.float32)"
      ]
    },
    {
      "cell_type": "markdown",
      "metadata": {
        "id": "gLQpl-62cNlV"
      },
      "source": [
        "Feed the sample case into the network and reconstruct the output:\n"
      ]
    },
    {
      "cell_type": "code",
      "execution_count": 19,
      "metadata": {
        "colab": {
          "base_uri": "https://localhost:8080/"
        },
        "id": "kU3SrqJCcNlV",
        "outputId": "38f47979-b7c8-44ce-9680-d233339c5399"
      },
      "outputs": [
        {
          "output_type": "stream",
          "name": "stdout",
          "text": [
            "Probability nodes in hidden layer: tf.Tensor(\n",
            "[[1.36033795e-12 8.58528912e-01 1.27404928e-04 6.44021275e-05\n",
            "  1.06910116e-15 9.76588999e-05 9.99938130e-01 1.85891853e-08\n",
            "  5.21367019e-06 8.48047193e-07 9.99548495e-01 9.46945906e-01\n",
            "  2.54601655e-08 1.00000000e+00 3.96227241e-02 8.24971064e-11\n",
            "  9.98864174e-01 1.94655468e-12 2.70782584e-06 3.78760845e-09\n",
            "  5.39445281e-02 9.45875704e-01 1.17907064e-07 2.97522433e-06\n",
            "  1.79254764e-10 9.97873068e-01 1.00000000e+00 9.98225451e-01\n",
            "  4.65135742e-11 2.70707495e-15 9.97151077e-01 6.45299679e-06\n",
            "  1.00000000e+00 9.99143720e-01 1.54266058e-10 1.31666793e-08\n",
            "  7.19483360e-05 9.99332428e-01 9.98469234e-01 9.99917507e-01\n",
            "  1.00000000e+00 5.46465755e-11 9.99235630e-01 9.99999762e-01\n",
            "  9.96544957e-01 6.18884485e-07 2.48247385e-03 5.37177324e-02\n",
            "  1.85293673e-11 2.39146361e-03]], shape=(1, 50), dtype=float32)\n",
            "activated nodes in hidden layer: tf.Tensor(\n",
            "[[0. 1. 0. 0. 0. 0. 1. 0. 0. 0. 1. 1. 0. 1. 0. 0. 1. 0. 0. 0. 0. 1. 0. 0.\n",
            "  0. 1. 1. 1. 0. 0. 1. 0. 1. 1. 0. 0. 0. 1. 1. 1. 1. 0. 1. 1. 1. 0. 0. 0.\n",
            "  0. 0.]], shape=(1, 50), dtype=float32)\n",
            "tf.Tensor(\n",
            "[[7.06440551e-05 1.21225567e-04 8.20766581e-05 9.25411587e-05\n",
            "  1.38074160e-04 9.07087669e-05 6.58680365e-05 1.36733055e-04\n",
            "  7.27954030e-05 7.50124018e-05 7.13539921e-05 7.80737173e-05\n",
            "  8.74394900e-05 8.12982471e-05 6.14655946e-05 7.15052884e-05\n",
            "  1.08598040e-04 1.05388506e-04 1.06447602e-04 9.53594281e-05\n",
            "  6.71986927e-05 7.06440551e-05 7.88583857e-05 5.33915954e-05\n",
            "  6.71986927e-05 1.10791807e-04 6.32853189e-05 7.80736373e-05\n",
            "  7.20711250e-05 1.11905312e-04 1.38014555e-04 9.44105705e-05\n",
            "  1.33335590e-04 5.64668117e-05 7.86453165e-05 1.16545358e-04\n",
            "  7.98480032e-05 9.99267722e-05 9.20129678e-05 1.49786472e-04\n",
            "  1.41829252e-04 1.95950270e-04 1.22348341e-04 2.57343054e-04\n",
            "  4.36693430e-04 2.42799520e-04 1.98006630e-04 1.64538622e-04\n",
            "  2.12460756e-04 7.11779649e-05 9.16095887e-05 9.17174621e-05\n",
            "  8.98061771e-05 1.20019329e-04 1.01256170e-04 7.06440551e-05\n",
            "  5.78384170e-05 5.44702525e-05 5.15602842e-05 1.48475170e-04\n",
            "  1.09551911e-04 8.23087539e-05 1.08930792e-04 1.24305487e-04\n",
            "  7.27158185e-05 9.12692340e-05 5.30745529e-05 5.24210118e-05\n",
            "  4.73470573e-05 7.03129626e-05 1.87128782e-04 2.24620104e-04\n",
            "  1.00951773e-04 8.13183360e-05 4.87450270e-05 2.79485666e-05\n",
            "  8.09961275e-05 1.36554241e-04 2.63094902e-04 7.40915493e-05\n",
            "  1.28686428e-04 6.50927104e-05 7.35270951e-05 6.39213613e-05\n",
            "  7.13540576e-05 9.07086796e-05 8.01993592e-05 8.37742118e-05\n",
            "  7.06551727e-05 1.50889158e-04 1.51544809e-04 7.46752194e-05\n",
            "  3.44416439e-05 3.24398352e-05 1.44725309e-05 3.93883965e-05\n",
            "  6.11682481e-05 1.10927773e-04 1.61170959e-04 4.37468290e-04\n",
            "  1.30861998e-04 1.64330006e-04 3.04520130e-04 1.78694725e-04\n",
            "  2.09033489e-04 1.19677577e-04 2.30193138e-04 2.33948231e-04\n",
            "  1.79231167e-04 1.37180090e-04 5.93852674e-05 6.99410521e-05\n",
            "  7.20710595e-05 1.01343503e-04 8.88464565e-05 9.46963264e-05\n",
            "  1.55627728e-04 2.41339207e-04 2.18659639e-04 8.37549596e-05\n",
            "  6.34180542e-05 4.63571268e-05 9.63469502e-05 2.61068344e-04\n",
            "  3.43024731e-04 3.11082602e-03 4.68122959e-03 6.18296862e-03\n",
            "  7.85449147e-03 3.62277031e-03 6.71297312e-03 3.88264656e-03\n",
            "  4.46385145e-03 3.58599424e-03 4.06694412e-03 2.75543332e-03\n",
            "  1.34095550e-03 3.78519297e-04 1.08866821e-04 6.65509142e-05\n",
            "  1.03301631e-04 8.89125658e-05 1.01248253e-04 1.23403326e-04\n",
            "  2.52842903e-04 1.97559595e-04 3.05622816e-04 5.16265631e-04\n",
            "  6.02692366e-04 1.19161606e-03 5.33807278e-03 8.98909569e-03\n",
            "  6.53221011e-02 2.68181831e-01 3.98349106e-01 4.54882652e-01\n",
            "  5.69806457e-01 4.71237183e-01 2.96047837e-01 2.12591052e-01\n",
            "  1.13179713e-01 5.17874956e-02 2.24899948e-02 6.99442625e-03\n",
            "  1.93569064e-03 8.40455294e-04 3.22699547e-04 5.61291017e-05\n",
            "  1.03301631e-04 9.98758915e-05 1.09723915e-04 2.77966261e-04\n",
            "  8.27163458e-04 1.11147761e-03 7.96705484e-04 1.07428432e-03\n",
            "  3.91474366e-03 1.02293789e-02 6.37758076e-02 2.39311010e-01\n",
            "  8.09863687e-01 9.52209413e-01 9.64641273e-01 9.61809874e-01\n",
            "  9.31058764e-01 8.93092275e-01 8.62963617e-01 7.92939186e-01\n",
            "  5.78606725e-01 2.41603762e-01 9.14459825e-02 2.64981091e-02\n",
            "  3.53848934e-03 1.55940652e-03 4.23610210e-04 1.18416028e-04\n",
            "  9.40890532e-05 1.03200502e-04 2.01493502e-04 9.41187143e-04\n",
            "  2.53418088e-03 2.09319592e-03 2.51540542e-03 5.50323725e-03\n",
            "  1.44602656e-02 7.91438818e-02 4.06420588e-01 8.53890777e-01\n",
            "  9.67836022e-01 9.82478499e-01 9.61489081e-01 9.44519401e-01\n",
            "  9.01177704e-01 6.91703022e-01 7.45055437e-01 8.27166080e-01\n",
            "  8.66914153e-01 4.13707793e-01 6.90429807e-02 2.38800943e-02\n",
            "  3.47349048e-03 5.99533319e-04 7.08222389e-04 1.08982123e-04\n",
            "  7.91775965e-05 2.30491161e-04 3.09586525e-04 5.19484282e-04\n",
            "  2.55110860e-03 2.55164504e-03 3.10653448e-03 6.97931647e-03\n",
            "  1.68169439e-02 2.21941441e-01 7.14442492e-01 9.51514781e-01\n",
            "  9.60035205e-01 8.98746073e-01 5.12807250e-01 4.19516683e-01\n",
            "  3.00732613e-01 2.50948131e-01 3.65935236e-01 6.67854786e-01\n",
            "  7.41809726e-01 3.30491573e-01 7.24169016e-02 9.09158587e-03\n",
            "  1.39993429e-03 8.56488943e-04 9.15348530e-04 8.93707038e-05\n",
            "  1.14224269e-04 1.65760517e-04 3.66300344e-04 4.70250845e-04\n",
            "  9.88632441e-04 8.84115696e-04 2.53498554e-03 7.47185946e-03\n",
            "  2.57110596e-02 1.29627585e-01 8.37453127e-01 8.23568702e-01\n",
            "  5.42623460e-01 1.46927804e-01 4.01595533e-02 3.36809158e-02\n",
            "  3.40170264e-02 1.45872712e-01 4.17544127e-01 5.67705393e-01\n",
            "  4.20944482e-01 3.58296275e-01 7.91723430e-02 6.00534678e-03\n",
            "  3.27855349e-03 5.66303730e-04 3.69846821e-04 8.44206297e-05\n",
            "  7.61625124e-05 1.38640404e-04 2.60591507e-04 5.22643328e-04\n",
            "  3.92645597e-04 8.78036022e-04 1.72847509e-03 2.76014209e-03\n",
            "  2.27288604e-02 1.06599033e-01 5.56812763e-01 2.06961572e-01\n",
            "  4.66558635e-02 2.33882070e-02 4.14324105e-02 8.44947994e-02\n",
            "  2.12735295e-01 5.00118196e-01 7.90729702e-01 7.46019959e-01\n",
            "  4.08544421e-01 2.09876448e-01 2.92325616e-02 6.20403886e-03\n",
            "  3.83025408e-03 5.27083874e-04 3.78012657e-04 5.31118712e-05\n",
            "  1.04483341e-04 1.16030118e-04 3.19808722e-04 2.30789185e-04\n",
            "  4.70757484e-04 1.07133389e-03 1.50191784e-03 2.97403336e-03\n",
            "  1.74626112e-02 7.63710737e-02 9.62011516e-02 1.14617616e-01\n",
            "  4.86347377e-02 8.34155381e-02 7.48435855e-02 2.50309587e-01\n",
            "  5.59841514e-01 8.58340263e-01 8.89338851e-01 6.35771155e-01\n",
            "  2.80595362e-01 5.26938736e-02 1.06882453e-02 2.50902772e-03\n",
            "  1.39164925e-03 4.81754541e-04 2.34961510e-04 1.38580799e-04\n",
            "  7.99105474e-05 1.96039677e-04 2.82824039e-04 2.43604183e-04\n",
            "  3.92168760e-04 1.05047226e-03 1.89363956e-03 6.07755780e-03\n",
            "  1.36021674e-02 6.73208237e-02 1.56773537e-01 1.37592673e-01\n",
            "  4.64861959e-01 4.64888304e-01 7.14155495e-01 8.31629276e-01\n",
            "  9.19287562e-01 9.06007767e-01 7.76343167e-01 3.15797746e-01\n",
            "  6.09673560e-02 5.84241748e-03 2.54788995e-03 1.97553635e-03\n",
            "  7.22348690e-04 2.61217356e-04 1.25944614e-04 6.41398510e-05\n",
            "  1.00630823e-04 8.79520812e-05 2.05487013e-04 2.01284885e-04\n",
            "  5.85287809e-04 2.15205550e-03 2.19795108e-03 3.72931361e-03\n",
            "  1.60388052e-02 6.31416440e-02 2.01882511e-01 5.01830161e-01\n",
            "  7.68769741e-01 8.95147562e-01 9.37407732e-01 9.45272148e-01\n",
            "  9.68237281e-01 9.05622840e-01 6.82936728e-01 3.34183872e-01\n",
            "  3.79866064e-02 4.27427888e-03 1.58303976e-03 9.22143459e-04\n",
            "  2.93672085e-04 2.47061253e-04 1.34110451e-04 1.21377918e-04\n",
            "  9.03891632e-05 8.20187488e-05 2.33292580e-04 3.37809324e-04\n",
            "  7.59720802e-04 1.47885084e-03 2.02235579e-03 3.98609042e-03\n",
            "  2.04201341e-02 4.32808101e-02 2.95550466e-01 7.24190056e-01\n",
            "  7.90515602e-01 9.21705604e-01 9.43991601e-01 9.35072124e-01\n",
            "  9.19343889e-01 8.75821471e-01 7.14480937e-01 1.50237709e-01\n",
            "  2.00560987e-02 3.61096859e-03 2.47126818e-03 1.43244863e-03\n",
            "  7.14451075e-04 2.00808048e-04 1.11835325e-04 5.84541049e-05\n",
            "  7.92149076e-05 1.00162149e-04 2.08675861e-04 4.26054001e-04\n",
            "  6.80088997e-04 4.15605307e-03 3.42926383e-03 2.79286504e-03\n",
            "  2.56047845e-02 1.02004111e-01 1.80271894e-01 5.27342141e-01\n",
            "  4.42767680e-01 4.70213681e-01 3.50109309e-01 4.62561876e-01\n",
            "  4.94421095e-01 8.57480168e-01 7.79381871e-01 2.33973205e-01\n",
            "  1.81148946e-02 1.98939443e-03 2.21058726e-03 1.24347210e-03\n",
            "  2.26140022e-04 1.32679939e-04 1.49369240e-04 7.76645320e-05\n",
            "  8.85298796e-05 4.70469276e-05 1.72078609e-04 1.09034777e-03\n",
            "  3.11765075e-03 6.35260344e-03 6.38312101e-03 5.00240922e-03\n",
            "  3.93806994e-02 6.37819171e-02 1.17804497e-01 3.20857167e-01\n",
            "  1.25031263e-01 7.81656802e-02 3.08438540e-02 5.85662723e-02\n",
            "  2.63591111e-01 7.45073438e-01 7.76464939e-01 1.83178544e-01\n",
            "  1.28341019e-02 3.95610929e-03 3.47211957e-03 1.07866526e-03\n",
            "  1.95145607e-04 1.48683786e-04 2.55435705e-04 8.63865134e-05\n",
            "  1.09689390e-04 6.37436679e-05 3.94493341e-04 3.29431891e-03\n",
            "  8.99899006e-03 1.65691972e-02 1.87706947e-02 2.28559673e-02\n",
            "  7.49650598e-03 1.59842670e-02 2.96855271e-02 5.41898608e-02\n",
            "  3.55097055e-02 1.91771090e-02 1.86714530e-02 5.29550612e-02\n",
            "  2.17331469e-01 7.64858544e-01 7.42334902e-01 2.30628192e-01\n",
            "  3.12938690e-02 9.51993465e-03 4.69160080e-03 1.69190764e-03\n",
            "  4.80502844e-04 1.94638968e-04 2.09808350e-04 1.30981207e-04\n",
            "  6.90418237e-05 1.00535952e-04 7.19159842e-04 5.74722886e-03\n",
            "  2.48836279e-02 2.96662748e-02 8.16834271e-02 2.60233283e-02\n",
            "  2.58811414e-02 1.54056251e-02 4.44326401e-02 9.94008780e-03\n",
            "  9.38943028e-03 1.15545690e-02 1.51998699e-02 1.05101228e-01\n",
            "  5.64516008e-01 6.52790308e-01 7.68196702e-01 1.79447651e-01\n",
            "  2.21588910e-02 1.00637078e-02 2.23386288e-03 8.05258751e-04\n",
            "  4.91857529e-04 2.36064196e-04 2.85208225e-04 1.18429802e-04\n",
            "  5.70948432e-05 6.62384409e-05 1.18497014e-03 2.18978822e-02\n",
            "  7.85513520e-02 7.37988055e-02 1.99635625e-01 1.07879847e-01\n",
            "  1.04455590e-01 9.09398794e-02 3.41103673e-02 3.35603952e-02\n",
            "  1.16577744e-02 1.96386576e-02 1.02891356e-01 4.21457350e-01\n",
            "  7.91951060e-01 8.51246357e-01 6.40078545e-01 5.97104728e-02\n",
            "  1.61441267e-02 1.52337551e-03 6.11722469e-04 4.92244959e-04\n",
            "  5.25623560e-04 3.76790762e-04 2.22593546e-04 1.13518829e-04\n",
            "  7.20710595e-05 1.05923144e-04 1.60634518e-03 2.94327140e-02\n",
            "  1.32781059e-01 3.16773474e-01 3.85992616e-01 4.78880554e-01\n",
            "  3.28303814e-01 2.22609520e-01 1.22641116e-01 3.73983383e-02\n",
            "  3.58083248e-02 7.61742890e-02 3.69761109e-01 8.15448523e-01\n",
            "  8.44776690e-01 6.14876032e-01 2.06139296e-01 1.65226161e-02\n",
            "  2.31382251e-03 4.08291817e-04 5.29646873e-04 5.22285700e-04\n",
            "  9.56147909e-04 3.61323357e-04 3.61025333e-04 5.12719635e-05\n",
            "  5.52273450e-05 7.68285536e-05 1.74558163e-03 3.34938467e-02\n",
            "  1.69720381e-01 4.35902596e-01 5.41463614e-01 6.95998430e-01\n",
            "  6.80537403e-01 2.46594667e-01 1.23981416e-01 7.05116987e-02\n",
            "  2.29370564e-01 2.83730924e-01 6.36832356e-01 7.34197855e-01\n",
            "  5.35161912e-01 1.95898086e-01 2.63475776e-02 1.89220905e-03\n",
            "  4.15027142e-04 3.22699547e-04 1.79201365e-04 3.55720520e-04\n",
            "  3.66091728e-04 3.92377377e-04 6.08134942e-05 6.70881054e-05\n",
            "  5.74563855e-05 1.07466905e-04 9.70870256e-04 2.40915716e-02\n",
            "  7.87013769e-02 1.60550177e-01 6.14099443e-01 9.04417992e-01\n",
            "  8.56106043e-01 7.37131536e-01 3.32482725e-01 4.20009851e-01\n",
            "  2.91105151e-01 5.59687793e-01 5.72980583e-01 5.50167024e-01\n",
            "  1.57801628e-01 1.39088929e-02 2.90569663e-03 5.36024570e-04\n",
            "  2.43127346e-04 2.86161900e-04 1.34825706e-04 3.65346670e-04\n",
            "  2.33411789e-04 3.04311514e-04 1.05190396e-04 1.04745828e-04\n",
            "  7.20711250e-05 9.16204226e-05 2.31117010e-04 4.02736664e-03\n",
            "  3.44499946e-02 3.09398353e-01 4.80014294e-01 8.63104939e-01\n",
            "  8.84820640e-01 9.14178491e-01 9.08774972e-01 8.51850390e-01\n",
            "  6.19403958e-01 6.74674869e-01 4.90109503e-01 1.07166469e-01\n",
            "  2.59374082e-02 2.26247311e-03 9.79423523e-04 3.83704901e-04\n",
            "  3.04400921e-04 3.43769789e-04 2.16901302e-04 2.53319740e-04\n",
            "  2.91615725e-04 1.03927523e-04 1.10483925e-04 1.03301631e-04\n",
            "  8.45762406e-05 7.13540576e-05 1.75088644e-04 4.25398350e-04\n",
            "  8.21506977e-03 4.76261973e-02 2.19191700e-01 5.22614062e-01\n",
            "  7.22811162e-01 7.91235328e-01 6.36545062e-01 5.20685434e-01\n",
            "  4.12905216e-01 3.63405526e-01 6.56218529e-02 1.87997520e-02\n",
            "  4.34166193e-03 2.02727318e-03 3.64959240e-04 2.89827585e-04\n",
            "  6.08026981e-04 1.60485506e-04 1.43259764e-04 2.52187252e-04\n",
            "  9.12511314e-05 1.18997683e-04 1.08185799e-04 1.18825090e-04\n",
            "  9.07087669e-05 7.13540576e-05 6.54638061e-05 1.08067106e-04\n",
            "  4.26828861e-04 1.05738640e-03 3.64264846e-03 1.07470751e-02\n",
            "  1.26425624e-02 3.65938246e-02 2.27108896e-02 3.50890458e-02\n",
            "  6.76042736e-02 2.71766186e-02 5.45495749e-03 3.38938832e-03\n",
            "  3.54474783e-03 4.23958898e-03 5.72443008e-04 2.96026468e-04\n",
            "  1.08752363e-04 1.06139647e-04 1.15155497e-04 1.60604715e-04\n",
            "  1.14731491e-04 1.47223473e-04 4.50799744e-05 1.03301631e-04\n",
            "  6.85562263e-05 1.22443933e-04 4.73541004e-05 6.05849564e-05\n",
            "  1.49041414e-04 2.54333019e-04 3.65048647e-04 2.26527452e-04\n",
            "  9.08626171e-05 2.23904848e-04 3.92556190e-04 6.01321459e-04\n",
            "  6.43700361e-04 4.12851572e-04 2.14606524e-04 3.52621078e-04\n",
            "  3.87847424e-04 1.21764693e-04 1.33544207e-04 8.33219601e-05\n",
            "  1.56134367e-04 1.01770042e-04 9.21284372e-05 9.01660969e-05\n",
            "  5.37488013e-05 5.64779621e-05 6.32853189e-05 9.25411587e-05\n",
            "  6.20322171e-05 8.71519442e-05 7.35270951e-05 7.96508684e-05\n",
            "  8.08373152e-05 1.65104866e-04 1.16600277e-04 8.35708051e-05\n",
            "  1.80721283e-04 2.73853540e-04 4.42266464e-04 4.51236963e-04\n",
            "  4.24057245e-04 1.77979469e-04 2.20119953e-04 2.04354525e-04\n",
            "  2.34276056e-04 2.37494707e-04 2.19434500e-04 1.14417024e-04\n",
            "  8.25739407e-05 1.46508217e-04 7.42252887e-05 5.55051847e-05\n",
            "  1.05388404e-04 6.92451795e-05 6.01987886e-05 6.01988468e-05]], shape=(1, 784), dtype=float32)\n"
          ]
        }
      ],
      "source": [
        "hh0_p = tf.nn.sigmoid(tf.matmul(sample_case, W) + hb)\n",
        "hh0_s = tf.round(hh0_p)\n",
        "\n",
        "print(\"Probability nodes in hidden layer:\" ,hh0_p)\n",
        "print(\"activated nodes in hidden layer:\" ,hh0_s)\n",
        "\n",
        "# reconstruct\n",
        "vv1_p = tf.nn.sigmoid(tf.matmul(hh0_s, tf.transpose(W)) + vb)\n",
        "\n",
        "print(vv1_p)\n",
        "#rec_prob = sess.run(vv1_p, feed_dict={ hh0_s: hh0_s_val, W: prv_w, vb: prv_vb})"
      ]
    },
    {
      "cell_type": "markdown",
      "metadata": {
        "id": "mGQWlrkvcNlV"
      },
      "source": [
        "Here we plot the reconstructed image:\n"
      ]
    },
    {
      "cell_type": "code",
      "execution_count": 20,
      "metadata": {
        "colab": {
          "base_uri": "https://localhost:8080/",
          "height": 265
        },
        "id": "AYXR9aulcNlV",
        "outputId": "e0bbb35f-540a-486b-8aa2-4f1347d9f706"
      },
      "outputs": [
        {
          "output_type": "display_data",
          "data": {
            "text/plain": [
              "<Figure size 288x288 with 1 Axes>"
            ],
            "image/png": "[encoded data removed]"
          },
          "metadata": {
            "needs_background": "light"
          }
        }
      ],
      "source": [
        "img = Image.fromarray(tile_raster_images(X=vv1_p.numpy(), img_shape=(28, 28),tile_shape=(1, 1), tile_spacing=(1, 1)))\n",
        "plt.rcParams['figure.figsize'] = (4.0, 4.0)\n",
        "imgplot = plt.imshow(img)\n",
        "imgplot.set_cmap('gray') "
      ]
    },
    {
      "cell_type": "markdown",
      "metadata": {
        "id": "Yv8DoYrncNlV"
      },
      "source": [
        "<hr>\n",
        "\n",
        "## Want to learn more?\n",
        "\n",
        "Also, you can use **Watson Studio** to run these notebooks faster with bigger datasets.**Watson Studio** is IBM’s leading cloud solution for data scientists, built by data scientists. With Jupyter notebooks, RStudio, Apache Spark and popular libraries pre-packaged in the cloud, **Watson Studio** enables data scientists to collaborate on their projects without having to install anything. Join the fast-growing community of **Watson Studio** users today with a free account at [Watson Studio](https://cocl.us/ML0120EN_DSX).This is the end of this lesson. Thank you for reading this notebook, and good luck on your studies.\n"
      ]
    },
    {
      "cell_type": "markdown",
      "metadata": {
        "id": "wbMAePlVcNlW"
      },
      "source": [
        "### Thanks for completing this lesson!\n",
        "\n",
        "Notebook created by: <a href = \"https://ca.linkedin.com/in/saeedaghabozorgi?utm_medium=Exinfluencer&utm_source=Exinfluencer&utm_content=000026UJ&utm_term=10006555&utm_id=NA-SkillsNetwork-Channel-SkillsNetworkCoursesIBMDeveloperSkillsNetworkDL0120ENSkillsNetwork20629446-2022-01-01\">Saeed Aghabozorgi</a>\n",
        "\n",
        "Updated to TF 2.X by  <a href=\"https://ca.linkedin.com/in/nilmeier?utm_medium=Exinfluencer&utm_source=Exinfluencer&utm_content=000026UJ&utm_term=10006555&utm_id=NA-SkillsNetwork-Channel-SkillsNetworkCoursesIBMDeveloperSkillsNetworkDL0120ENSkillsNetwork20629446-2022-01-01\"> Jerome Nilmeier</a><br />\n"
      ]
    },
    {
      "cell_type": "markdown",
      "metadata": {
        "id": "6h8RosFPcNlW"
      },
      "source": [
        "### References:\n",
        "\n",
        "[https://en.wikipedia.org/wiki/Restricted_Boltzmann_machine](https://en.wikipedia.org/wiki/Restricted_Boltzmann_machine?utm_medium=Exinfluencer&utm_source=Exinfluencer&utm_content=000026UJ&utm_term=10006555&utm_id=NA-SkillsNetwork-Channel-SkillsNetworkCoursesIBMDeveloperSkillsNetworkDL0120ENSkillsNetwork20629446-2022-01-01)\\\n",
        "[http://deeplearning.net/tutorial/rbm.html](http://deeplearning.net/tutorial/rbm.html?utm_medium=Exinfluencer&utm_source=Exinfluencer&utm_content=000026UJ&utm_term=10006555&utm_id=NA-SkillsNetwork-Channel-SkillsNetworkCoursesIBMDeveloperSkillsNetworkDL0120ENSkillsNetwork20629446-2022-01-01)\\\n",
        "[http://www.cs.utoronto.ca/\\~hinton/absps/netflixICML.pdf](http://www.cs.utoronto.ca/\\~hinton/absps/netflixICML.pdf?utm_medium=Exinfluencer&utm_source=Exinfluencer&utm_content=000026UJ&utm_term=10006555&utm_id=NA-SkillsNetwork-Channel-SkillsNetworkCoursesIBMDeveloperSkillsNetworkDL0120ENSkillsNetwork20629446-2022-01-01)<br>\n",
        "<http://imonad.com/rbm/restricted-boltzmann-machine/>\n"
      ]
    },
    {
      "cell_type": "markdown",
      "metadata": {
        "id": "vHRNCHR0cNlW"
      },
      "source": [
        "<hr>\n",
        "\n",
        "Copyright © 2018 [Cognitive Class](https://cocl.us/DX0108EN_CC). This notebook and its source code are released under the terms of the [MIT License](https://bigdatauniversity.com/mit-license/?utm_medium=Exinfluencer&utm_source=Exinfluencer&utm_content=000026UJ&utm_term=10006555&utm_id=NA-SkillsNetwork-Channel-SkillsNetworkCoursesIBMDeveloperSkillsNetworkDL0120ENSkillsNetwork20629446-2022-01-01).\n"
      ]
    }
  ],
  "metadata": {
    "kernelspec": {
      "display_name": "Python",
      "language": "python",
      "name": "conda-env-python-py"
    },
    "language_info": {
      "codemirror_mode": {
        "name": "ipython",
        "version": 3
      },
      "file_extension": ".py",
      "mimetype": "text/x-python",
      "name": "python",
      "nbconvert_exporter": "python",
      "pygments_lexer": "ipython3",
      "version": "3.7.12"
    },
    "colab": {
      "name": "ML0120EN-4.1-Review-RBMMNIST.ipynb",
      "provenance": []
    },
    "gpuClass": "standard"
  },
  "nbformat": 4,
  "nbformat_minor": 0
}