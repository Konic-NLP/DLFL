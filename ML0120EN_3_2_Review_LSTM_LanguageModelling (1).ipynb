{
  "cells": [
    {
      "cell_type": "markdown",
      "metadata": {
        "id": "IOetAXt-cNNr"
      },
      "source": [
        "<a href=\"https://www.skills.network/?utm_medium=Exinfluencer&utm_source=Exinfluencer&utm_content=000026UJ&utm_term=10006555&utm_id=NA-SkillsNetwork-Channel-SkillsNetworkCoursesIBMDeveloperSkillsNetworkDL0120ENSkillsNetwork20629446-2022-01-01\"><img src=\"https://cf-courses-data.s3.us.cloud-object-storage.appdomain.cloud/IBM-DL0120ENedX/labs/Template%20for%20Instructional%20Hands-on%20Labs/images/IDSNlogo.png\" width=\"400px\" align=\"center\"></a>\n",
        "\n",
        "<h1 align=\"center\"><font size=\"5\">RECURRENT NETWORKS and LSTM IN DEEP LEARNING</font></h1>\n"
      ]
    },
    {
      "cell_type": "markdown",
      "metadata": {
        "id": "S_1zxxmpcNNt"
      },
      "source": [
        "Estimated time needed: **30** minutes\n"
      ]
    },
    {
      "cell_type": "markdown",
      "metadata": {
        "id": "13OAfJEscNNt"
      },
      "source": [
        "<h2>Applying Recurrent Neural Networks/LSTM for Language Modeling</h2>\n",
        "Hello and welcome to this part. In this notebook, we will go over the topic of Language Modelling, and create a Recurrent Neural Network model based on the Long Short-Term Memory unit to train and benchmark on the Penn Treebank dataset. By the end of this notebook, you should be able to understand how TensorFlow builds and executes a RNN model for Language Modelling.\n"
      ]
    },
    {
      "cell_type": "markdown",
      "metadata": {
        "id": "ooYfYPsdcNNt"
      },
      "source": [
        "<h2>The Objective</h2>\n",
        "By now, you should have an understanding of how Recurrent Networks work -- a specialized model to process sequential data by keeping track of the \"state\" or context. In this notebook, we go over a TensorFlow code snippet for creating a model focused on <b>Language Modelling</b> -- a very relevant task that is the cornerstone of many different linguistic problems such as <b>Speech Recognition, Machine Translation and Image Captioning</b>. For this, we will be using the Penn Treebank dataset, which is an often-used dataset for benchmarking Language Modelling models.\n"
      ]
    },
    {
      "cell_type": "markdown",
      "metadata": {
        "id": "LLkGbspRcNNu"
      },
      "source": [
        "<h2>Table of Contents</h2>\n",
        "<ol>\n",
        "    <li><a href=\"https://#language_modelling\">What exactly is Language Modelling?</a></li>\n",
        "    <li><a href=\"https://#treebank_dataset\">The Penn Treebank dataset</a></li>\n",
        "    <li><a href=\"https://#word_embedding\">Word Embedding</a></li>\n",
        "    <li><a href=\"https://#building_lstm_model\">Building the LSTM model for Language Modeling</a></li>\n",
        "    <li><a href=\"https://#ltsm\">LTSM</a></li>\n",
        "</ol>\n",
        "<p></p>\n",
        "</div>\n",
        "<br>\n"
      ]
    },
    {
      "cell_type": "markdown",
      "metadata": {
        "button": false,
        "deletable": true,
        "new_sheet": false,
        "run_control": {
          "read_only": false
        },
        "id": "Yqd-j9c-cNNu"
      },
      "source": [
        "***\n"
      ]
    },
    {
      "cell_type": "markdown",
      "metadata": {
        "id": "KXpNQqagcNNu"
      },
      "source": [
        "<a id=\"language_modelling\"></a>\n",
        "\n",
        "<h2>What exactly is Language Modelling?</h2>\n",
        "Language Modelling, to put it simply, <b>is the task of assigning probabilities to sequences of words</b>. This means that, given a context of one or a sequence of words in the language the model was trained on, the model should provide the next most probable words or sequence of words that follows from the given sequence of words the sentence. Language Modelling is one of the most important tasks in Natural Language Processing.\n",
        "\n",
        "<img src=\"https://ibm.box.com/shared/static/1d1i5gub6wljby2vani2vzxp0xsph702.png\" width=\"1080\">\n",
        "<center><i>Example of a sentence being predicted</i></center>\n",
        "<br><br>\n",
        "In this example, one can see the predictions for the next word of a sentence, given the context \"This is an\". As you can see, this boils down to a sequential data analysis task -- you are given a word or a sequence of words (the input data), and, given the context (the state), you need to find out what is the next word (the prediction). This kind of analysis is very important for language-related tasks such as <b>Speech Recognition, Machine Translation, Image Captioning, Text Correction</b> and many other very relevant problems. \n",
        "\n",
        "<img src=\"https://ibm.box.com/shared/static/az39idf9ipfdpc5ugifpgxnydelhyf3i.png\" width=\"1080\">\n",
        "<center><i>The above example is a schema of an RNN in execution</i></center>\n",
        "<br><br>\n",
        "As the above image shows, Recurrent Network models fit this problem like a glove. Alongside LSTM and its capacity to maintain the model's state for over one thousand time steps, we have all the tools we need to undertake this problem. The goal for this notebook is to create a model that can reach <b>low levels of perplexity</b> on our desired dataset.\n",
        "\n",
        "For Language Modelling problems, <b>perplexity</b> is the way to gauge efficiency. Perplexity is simply a measure of how well a probabilistic model is able to predict its sample. A higher-level way to explain this would be saying that <b>low perplexity means a higher degree of trust in the predictions the model makes</b>. Therefore, the lower perplexity is, the better.\n"
      ]
    },
    {
      "cell_type": "markdown",
      "metadata": {
        "id": "Gdtuzu5HcNNv"
      },
      "source": [
        "<a id=\"treebank_dataset\"></a>\n",
        "\n",
        "<h2>The Penn Treebank dataset</h2>\n",
        "Historically, datasets big enough for Natural Language Processing are hard to come by. This is in part due to the necessity of the sentences to be broken down and tagged with a certain degree of correctness -- or else the models trained on it won't be able to be correct at all. This means that we need a <b>large amount of data, annotated by or at least corrected by humans</b>. This is, of course, not an easy task at all.\n",
        "\n",
        "The Penn Treebank, or PTB for short, is a dataset maintained by the University of Pennsylvania. It is <i>huge</i> -- there are over <b>four million and eight hundred thousand</b> annotated words in it, all corrected by humans. It is composed of many different sources, from abstracts of Department of Energy papers to texts from the Library of America. Since it is verifiably correct and of such a huge size, the Penn Treebank is commonly used as a benchmark dataset for Language Modelling.\n",
        "\n",
        "The dataset is divided in different kinds of annotations, such as Piece-of-Speech, Syntactic and Semantic skeletons. For this example, we will simply use a sample of clean, non-annotated words (with the exception of one tag --<code>\\<unk></code>\n",
        ", which is used for rare words such as uncommon proper nouns) for our model. This means that we just want to predict what the next words would be, not what they mean in context or their classes on a given sentence.\n",
        "\n",
        "<center>Example of text from the dataset we are going to use, <b>ptb.train</b></center>\n",
        "<br><br>\n",
        "\n",
        "<div class=\"alert alert-block alert-info\" style=\"margin-top: 20px\">\n",
        "    <center>the percentage of lung cancer deaths among the workers at the west <code>&lt;unk&gt;</code> mass. paper factory appears to be the highest for any asbestos workers studied in western industrialized countries he said \n",
        " the plant which is owned by <code>&lt;unk&gt;</code> & <code>&lt;unk&gt;</code> co. was under contract with <code>&lt;unk&gt;</code> to make the cigarette filters \n",
        " the finding probably will support those who argue that the U.S. should regulate the class of asbestos including <code>&lt;unk&gt;</code> more <code>&lt;unk&gt;</code> than the common kind of asbestos <code>&lt;unk&gt;</code> found in most schools and other buildings dr. <code>&lt;unk&gt;</code> said</center>\n",
        "</div>\n"
      ]
    },
    {
      "cell_type": "markdown",
      "metadata": {
        "button": false,
        "deletable": true,
        "new_sheet": false,
        "run_control": {
          "read_only": false
        },
        "id": "rmJwDoDqcNNv"
      },
      "source": [
        "<a id=\"word_embedding\"></a>\n",
        "\n",
        "<h2>Word Embeddings</h2><br/>\n",
        "\n",
        "For better processing, in this example, we will make use of <a href=\"https://www.tensorflow.org/tutorials/word2vec/?utm_medium=Exinfluencer&utm_source=Exinfluencer&utm_content=000026UJ&utm_term=10006555&utm_id=NA-SkillsNetwork-Channel-SkillsNetworkCoursesIBMDeveloperSkillsNetworkDL0120ENSkillsNetwork20629446-2022-01-01\"><b>word embeddings</b></a>, which is <b>a way of representing sentence structures or words as n-dimensional vectors (where n is a reasonably high number, such as 200 or 500) of real numbers</b>. Basically, we will assign each word a randomly-initialized vector, and input those into the network to be processed. After a number of iterations, these vectors are expected to assume values that help the network to correctly predict what it needs to -- in our case, the probable next word in the sentence. This is shown to be a very effective task in Natural Language Processing, and is a commonplace practice. <br><br> <font size=\"4\"><strong>\n",
        "$$Vec(\"Example\") = \\[0.02, 0.00, 0.00, 0.92, 0.30, \\ldots]$$ </strong></font> <br>\n",
        "Word Embedding tends to group up similarly used words <i>reasonably</i> close together in the vectorial space. For example, if we use T-SNE (a dimensional reduction visualization algorithm) to flatten the dimensions of our vectors into a 2-dimensional space and plot these words in a 2-dimensional space, we might see something like this:\n",
        "\n",
        "<img src=\"https://ibm.box.com/shared/static/bqhc5dg879gcoabzhxra1w8rkg3od1cu.png\" width=\"800\">\n",
        "<center><i>T-SNE Mockup with clusters marked for easier visualization</i></center>\n",
        "<br><br>\n",
        "As you can see, words that are frequently used together, in place of each other, or in the same places as them tend to be grouped together -- being closer together the higher they are correlated. For example, \"None\" is pretty semantically close to \"Zero\", while a phrase that uses \"Italy\", you could probably also fit \"Germany\" in it, with little damage to the sentence structure. The vectorial \"closeness\" for similar words like this is a great indicator of a well-built model.\n",
        "\n",
        "<hr>\n"
      ]
    },
    {
      "cell_type": "markdown",
      "metadata": {
        "button": false,
        "deletable": true,
        "new_sheet": false,
        "run_control": {
          "read_only": false
        },
        "id": "uxpFszkZcNNw"
      },
      "source": [
        "We need to import the necessary modules for our code. We need <b><code>numpy</code></b> and <b><code>tensorflow</code></b>, obviously. Additionally, we can import directly the <b><code>tensorflow\\.models.rnn</code></b> model, which includes the function for building RNNs, and <b><code>tensorflow\\.models.rnn.ptb.reader</code></b> which is the helper module for getting the input data from the dataset we just downloaded.\n",
        "\n",
        "If you want to learn more take a look at <https://github.com/tensorflow/models/blob/master/tutorials/rnn/ptb/reader.py>\n"
      ]
    },
    {
      "cell_type": "code",
      "execution_count": 1,
      "metadata": {
        "tags": [],
        "colab": {
          "base_uri": "https://localhost:8080/",
          "height": 1000
        },
        "id": "17fyx0oAcNNw",
        "outputId": "8961c77d-ae44-440b-8b2d-9418913c1f9b"
      },
      "outputs": [
        {
          "output_type": "stream",
          "name": "stdout",
          "text": [
            "Looking in indexes: https://pypi.org/simple, https://us-python.pkg.dev/colab-wheels/public/simple/\n",
            "Collecting tensorflow==2.2.0\n",
            "  Downloading tensorflow-2.2.0-cp37-cp37m-manylinux2010_x86_64.whl (516.2 MB)\n",
            "\u001b[K     |████████████████████████████████| 516.2 MB 3.9 kB/s \n",
            "\u001b[?25hRequirement already satisfied: protobuf>=3.8.0 in /usr/local/lib/python3.7/dist-packages (from tensorflow==2.2.0) (3.17.3)\n",
            "Requirement already satisfied: six>=1.12.0 in /usr/local/lib/python3.7/dist-packages (from tensorflow==2.2.0) (1.15.0)\n",
            "Requirement already satisfied: wheel>=0.26 in /usr/local/lib/python3.7/dist-packages (from tensorflow==2.2.0) (0.37.1)\n",
            "Collecting tensorboard<2.3.0,>=2.2.0\n",
            "  Downloading tensorboard-2.2.2-py3-none-any.whl (3.0 MB)\n",
            "\u001b[K     |████████████████████████████████| 3.0 MB 44.1 MB/s \n",
            "\u001b[?25hRequirement already satisfied: absl-py>=0.7.0 in /usr/local/lib/python3.7/dist-packages (from tensorflow==2.2.0) (1.2.0)\n",
            "Requirement already satisfied: opt-einsum>=2.3.2 in /usr/local/lib/python3.7/dist-packages (from tensorflow==2.2.0) (3.3.0)\n",
            "Requirement already satisfied: keras-preprocessing>=1.1.0 in /usr/local/lib/python3.7/dist-packages (from tensorflow==2.2.0) (1.1.2)\n",
            "Requirement already satisfied: numpy<2.0,>=1.16.0 in /usr/local/lib/python3.7/dist-packages (from tensorflow==2.2.0) (1.21.6)\n",
            "Collecting gast==0.3.3\n",
            "  Downloading gast-0.3.3-py2.py3-none-any.whl (9.7 kB)\n",
            "Requirement already satisfied: termcolor>=1.1.0 in /usr/local/lib/python3.7/dist-packages (from tensorflow==2.2.0) (1.1.0)\n",
            "Collecting h5py<2.11.0,>=2.10.0\n",
            "  Downloading h5py-2.10.0-cp37-cp37m-manylinux1_x86_64.whl (2.9 MB)\n",
            "\u001b[K     |████████████████████████████████| 2.9 MB 38.5 MB/s \n",
            "\u001b[?25hRequirement already satisfied: google-pasta>=0.1.8 in /usr/local/lib/python3.7/dist-packages (from tensorflow==2.2.0) (0.2.0)\n",
            "Requirement already satisfied: astunparse==1.6.3 in /usr/local/lib/python3.7/dist-packages (from tensorflow==2.2.0) (1.6.3)\n",
            "Collecting scipy==1.4.1\n",
            "  Downloading scipy-1.4.1-cp37-cp37m-manylinux1_x86_64.whl (26.1 MB)\n",
            "\u001b[K     |████████████████████████████████| 26.1 MB 1.2 MB/s \n",
            "\u001b[?25hCollecting tensorflow-estimator<2.3.0,>=2.2.0\n",
            "  Downloading tensorflow_estimator-2.2.0-py2.py3-none-any.whl (454 kB)\n",
            "\u001b[K     |████████████████████████████████| 454 kB 66.4 MB/s \n",
            "\u001b[?25hRequirement already satisfied: wrapt>=1.11.1 in /usr/local/lib/python3.7/dist-packages (from tensorflow==2.2.0) (1.14.1)\n",
            "Requirement already satisfied: grpcio>=1.8.6 in /usr/local/lib/python3.7/dist-packages (from tensorflow==2.2.0) (1.47.0)\n",
            "Requirement already satisfied: google-auth<2,>=1.6.3 in /usr/local/lib/python3.7/dist-packages (from tensorboard<2.3.0,>=2.2.0->tensorflow==2.2.0) (1.35.0)\n",
            "Requirement already satisfied: setuptools>=41.0.0 in /usr/local/lib/python3.7/dist-packages (from tensorboard<2.3.0,>=2.2.0->tensorflow==2.2.0) (57.4.0)\n",
            "Requirement already satisfied: requests<3,>=2.21.0 in /usr/local/lib/python3.7/dist-packages (from tensorboard<2.3.0,>=2.2.0->tensorflow==2.2.0) (2.23.0)\n",
            "Requirement already satisfied: tensorboard-plugin-wit>=1.6.0 in /usr/local/lib/python3.7/dist-packages (from tensorboard<2.3.0,>=2.2.0->tensorflow==2.2.0) (1.8.1)\n",
            "Requirement already satisfied: markdown>=2.6.8 in /usr/local/lib/python3.7/dist-packages (from tensorboard<2.3.0,>=2.2.0->tensorflow==2.2.0) (3.4.1)\n",
            "Requirement already satisfied: google-auth-oauthlib<0.5,>=0.4.1 in /usr/local/lib/python3.7/dist-packages (from tensorboard<2.3.0,>=2.2.0->tensorflow==2.2.0) (0.4.6)\n",
            "Requirement already satisfied: werkzeug>=0.11.15 in /usr/local/lib/python3.7/dist-packages (from tensorboard<2.3.0,>=2.2.0->tensorflow==2.2.0) (1.0.1)\n",
            "Requirement already satisfied: cachetools<5.0,>=2.0.0 in /usr/local/lib/python3.7/dist-packages (from google-auth<2,>=1.6.3->tensorboard<2.3.0,>=2.2.0->tensorflow==2.2.0) (4.2.4)\n",
            "Requirement already satisfied: rsa<5,>=3.1.4 in /usr/local/lib/python3.7/dist-packages (from google-auth<2,>=1.6.3->tensorboard<2.3.0,>=2.2.0->tensorflow==2.2.0) (4.9)\n",
            "Requirement already satisfied: pyasn1-modules>=0.2.1 in /usr/local/lib/python3.7/dist-packages (from google-auth<2,>=1.6.3->tensorboard<2.3.0,>=2.2.0->tensorflow==2.2.0) (0.2.8)\n",
            "Requirement already satisfied: requests-oauthlib>=0.7.0 in /usr/local/lib/python3.7/dist-packages (from google-auth-oauthlib<0.5,>=0.4.1->tensorboard<2.3.0,>=2.2.0->tensorflow==2.2.0) (1.3.1)\n",
            "Requirement already satisfied: importlib-metadata>=4.4 in /usr/local/lib/python3.7/dist-packages (from markdown>=2.6.8->tensorboard<2.3.0,>=2.2.0->tensorflow==2.2.0) (4.12.0)\n",
            "Requirement already satisfied: zipp>=0.5 in /usr/local/lib/python3.7/dist-packages (from importlib-metadata>=4.4->markdown>=2.6.8->tensorboard<2.3.0,>=2.2.0->tensorflow==2.2.0) (3.8.1)\n",
            "Requirement already satisfied: typing-extensions>=3.6.4 in /usr/local/lib/python3.7/dist-packages (from importlib-metadata>=4.4->markdown>=2.6.8->tensorboard<2.3.0,>=2.2.0->tensorflow==2.2.0) (4.1.1)\n",
            "Requirement already satisfied: pyasn1<0.5.0,>=0.4.6 in /usr/local/lib/python3.7/dist-packages (from pyasn1-modules>=0.2.1->google-auth<2,>=1.6.3->tensorboard<2.3.0,>=2.2.0->tensorflow==2.2.0) (0.4.8)\n",
            "Requirement already satisfied: certifi>=2017.4.17 in /usr/local/lib/python3.7/dist-packages (from requests<3,>=2.21.0->tensorboard<2.3.0,>=2.2.0->tensorflow==2.2.0) (2022.6.15)\n",
            "Requirement already satisfied: idna<3,>=2.5 in /usr/local/lib/python3.7/dist-packages (from requests<3,>=2.21.0->tensorboard<2.3.0,>=2.2.0->tensorflow==2.2.0) (2.10)\n",
            "Requirement already satisfied: chardet<4,>=3.0.2 in /usr/local/lib/python3.7/dist-packages (from requests<3,>=2.21.0->tensorboard<2.3.0,>=2.2.0->tensorflow==2.2.0) (3.0.4)\n",
            "Requirement already satisfied: urllib3!=1.25.0,!=1.25.1,<1.26,>=1.21.1 in /usr/local/lib/python3.7/dist-packages (from requests<3,>=2.21.0->tensorboard<2.3.0,>=2.2.0->tensorflow==2.2.0) (1.24.3)\n",
            "Requirement already satisfied: oauthlib>=3.0.0 in /usr/local/lib/python3.7/dist-packages (from requests-oauthlib>=0.7.0->google-auth-oauthlib<0.5,>=0.4.1->tensorboard<2.3.0,>=2.2.0->tensorflow==2.2.0) (3.2.0)\n",
            "Installing collected packages: tensorflow-estimator, tensorboard, scipy, h5py, gast, tensorflow\n",
            "  Attempting uninstall: tensorflow-estimator\n",
            "    Found existing installation: tensorflow-estimator 2.8.0\n",
            "    Uninstalling tensorflow-estimator-2.8.0:\n",
            "      Successfully uninstalled tensorflow-estimator-2.8.0\n",
            "  Attempting uninstall: tensorboard\n",
            "    Found existing installation: tensorboard 2.8.0\n",
            "    Uninstalling tensorboard-2.8.0:\n",
            "      Successfully uninstalled tensorboard-2.8.0\n",
            "  Attempting uninstall: scipy\n",
            "    Found existing installation: scipy 1.7.3\n",
            "    Uninstalling scipy-1.7.3:\n",
            "      Successfully uninstalled scipy-1.7.3\n",
            "  Attempting uninstall: h5py\n",
            "    Found existing installation: h5py 3.1.0\n",
            "    Uninstalling h5py-3.1.0:\n",
            "      Successfully uninstalled h5py-3.1.0\n",
            "  Attempting uninstall: gast\n",
            "    Found existing installation: gast 0.5.3\n",
            "    Uninstalling gast-0.5.3:\n",
            "      Successfully uninstalled gast-0.5.3\n",
            "  Attempting uninstall: tensorflow\n",
            "    Found existing installation: tensorflow 2.8.2+zzzcolab20220719082949\n",
            "    Uninstalling tensorflow-2.8.2+zzzcolab20220719082949:\n",
            "      Successfully uninstalled tensorflow-2.8.2+zzzcolab20220719082949\n",
            "\u001b[31mERROR: pip's dependency resolver does not currently take into account all the packages that are installed. This behaviour is the source of the following dependency conflicts.\n",
            "pymc3 3.11.5 requires scipy<1.8.0,>=1.7.3, but you have scipy 1.4.1 which is incompatible.\n",
            "jaxlib 0.3.14+cuda11.cudnn805 requires scipy>=1.5, but you have scipy 1.4.1 which is incompatible.\n",
            "jax 0.3.14 requires scipy>=1.5, but you have scipy 1.4.1 which is incompatible.\n",
            "albumentations 0.1.12 requires imgaug<0.2.7,>=0.2.5, but you have imgaug 0.2.9 which is incompatible.\u001b[0m\n",
            "Successfully installed gast-0.3.3 h5py-2.10.0 scipy-1.4.1 tensorboard-2.2.2 tensorflow-2.2.0 tensorflow-estimator-2.2.0\n",
            "Looking in indexes: https://pypi.org/simple, https://us-python.pkg.dev/colab-wheels/public/simple/\n",
            "Collecting numpy==1.21.4\n",
            "  Downloading numpy-1.21.4-cp37-cp37m-manylinux_2_12_x86_64.manylinux2010_x86_64.whl (15.7 MB)\n",
            "\u001b[K     |████████████████████████████████| 15.7 MB 4.7 MB/s \n",
            "\u001b[?25hInstalling collected packages: numpy\n",
            "  Attempting uninstall: numpy\n",
            "    Found existing installation: numpy 1.21.6\n",
            "    Uninstalling numpy-1.21.6:\n",
            "      Successfully uninstalled numpy-1.21.6\n",
            "\u001b[31mERROR: pip's dependency resolver does not currently take into account all the packages that are installed. This behaviour is the source of the following dependency conflicts.\n",
            "pymc3 3.11.5 requires scipy<1.8.0,>=1.7.3, but you have scipy 1.4.1 which is incompatible.\n",
            "jaxlib 0.3.14+cuda11.cudnn805 requires scipy>=1.5, but you have scipy 1.4.1 which is incompatible.\n",
            "jax 0.3.14 requires scipy>=1.5, but you have scipy 1.4.1 which is incompatible.\n",
            "datascience 0.10.6 requires folium==0.2.1, but you have folium 0.8.3 which is incompatible.\n",
            "albumentations 0.1.12 requires imgaug<0.2.7,>=0.2.5, but you have imgaug 0.2.9 which is incompatible.\u001b[0m\n",
            "Successfully installed numpy-1.21.4\n"
          ]
        },
        {
          "output_type": "display_data",
          "data": {
            "application/vnd.colab-display-data+json": {
              "pip_warning": {
                "packages": [
                  "numpy"
                ]
              }
            }
          },
          "metadata": {}
        }
      ],
      "source": [
        "!pip install tensorflow==2.2.0\n",
        "!pip install numpy==1.21.4\n"
      ]
    },
    {
      "cell_type": "code",
      "execution_count": 2,
      "metadata": {
        "id": "txIxgtdccNNx"
      },
      "outputs": [],
      "source": [
        "import time\n",
        "import numpy as np\n",
        "import tensorflow as tf\n"
      ]
    },
    {
      "cell_type": "markdown",
      "metadata": {
        "id": "T4isyV2RcNNy"
      },
      "source": [
        "IMPORTANT! => Please restart the kernel by clicking on \"Kernel\"->\"Restart and Clear Outout\" and wait until all output disapears. Then your changes are beeing picked up\n"
      ]
    },
    {
      "cell_type": "code",
      "execution_count": 3,
      "metadata": {
        "button": false,
        "deletable": true,
        "new_sheet": false,
        "run_control": {
          "read_only": false
        },
        "tags": [],
        "colab": {
          "base_uri": "https://localhost:8080/"
        },
        "id": "A0kb_wB5cNNy",
        "outputId": "b990dbde-842c-4a8f-a08f-48a5d7f531b2"
      },
      "outputs": [
        {
          "output_type": "stream",
          "name": "stdout",
          "text": [
            "--2022-07-29 00:49:11--  https://cf-courses-data.s3.us.cloud-object-storage.appdomain.cloud/IBMDeveloperSkillsNetwork-DL0120EN-SkillsNetwork/labs/Week3/data/ptb/reader.py\n",
            "Resolving cf-courses-data.s3.us.cloud-object-storage.appdomain.cloud (cf-courses-data.s3.us.cloud-object-storage.appdomain.cloud)... 198.23.119.245\n",
            "Connecting to cf-courses-data.s3.us.cloud-object-storage.appdomain.cloud (cf-courses-data.s3.us.cloud-object-storage.appdomain.cloud)|198.23.119.245|:443... connected.\n",
            "HTTP request sent, awaiting response... 404 Not Found\n",
            "2022-07-29 00:49:11 ERROR 404: Not Found.\n",
            "\n"
          ]
        }
      ],
      "source": [
        "!mkdir data\n",
        "!mkdir data/ptb\n",
        "!wget https://cf-courses-data.s3.us.cloud-object-storage.appdomain.cloud/IBMDeveloperSkillsNetwork-DL0120EN-SkillsNetwork/labs/Week3/data/ptb/reader.py\n",
        "\n",
        "\n"
      ]
    },
    {
      "cell_type": "code",
      "execution_count": 13,
      "metadata": {
        "tags": [],
        "id": "sGkz_9hTcNNy"
      },
      "outputs": [],
      "source": [
        "import sys\n",
        "sys.path.append('data/ptb')\n",
        "sys.path.append('./reader.py')\n",
        "\n",
        "# from reader import reader"
      ]
    },
    {
      "cell_type": "code",
      "source": [
        "import reader"
      ],
      "metadata": {
        "id": "vOsV4oKNKcY_"
      },
      "execution_count": 15,
      "outputs": []
    },
    {
      "cell_type": "markdown",
      "metadata": {
        "button": false,
        "deletable": true,
        "new_sheet": false,
        "run_control": {
          "read_only": false
        },
        "id": "PYuKi5kEcNNy"
      },
      "source": [
        "<a id=\"building_lstm_model\"></a>\n",
        "\n",
        "<h2>Building the LSTM model for Language Modeling</h2>\n",
        "Now that we know exactly what we are doing, we can start building our model using TensorFlow. The very first thing we need to do is download and extract the <code>simple-examples</code> dataset, which can be done by executing the code cell below.\n"
      ]
    },
    {
      "cell_type": "code",
      "execution_count": 8,
      "metadata": {
        "button": false,
        "deletable": true,
        "new_sheet": false,
        "run_control": {
          "read_only": false
        },
        "tags": [],
        "colab": {
          "base_uri": "https://localhost:8080/"
        },
        "id": "A519aF0EcNNz",
        "outputId": "1dd72656-fd6a-4716-b52b-3d76d5348a43"
      },
      "outputs": [
        {
          "output_type": "stream",
          "name": "stdout",
          "text": [
            "--2022-07-29 00:49:44--  http://www.fit.vutbr.cz/~imikolov/rnnlm/simple-examples.tgz\n",
            "Resolving www.fit.vutbr.cz (www.fit.vutbr.cz)... 147.229.9.23, 2001:67c:1220:809::93e5:917\n",
            "Connecting to www.fit.vutbr.cz (www.fit.vutbr.cz)|147.229.9.23|:80... connected.\n",
            "HTTP request sent, awaiting response... 200 OK\n",
            "Length: 34869662 (33M) [application/x-gtar]\n",
            "Saving to: ‘simple-examples.tgz’\n",
            "\n",
            "simple-examples.tgz 100%[===================>]  33.25M  1.42MB/s    in 21s     \n",
            "\n",
            "2022-07-29 00:50:07 (1.56 MB/s) - ‘simple-examples.tgz’ saved [34869662/34869662]\n",
            "\n"
          ]
        }
      ],
      "source": [
        "!wget http://www.fit.vutbr.cz/~imikolov/rnnlm/simple-examples.tgz \n",
        "!tar xzf simple-examples.tgz -C data/"
      ]
    },
    {
      "cell_type": "markdown",
      "metadata": {
        "button": false,
        "deletable": true,
        "new_sheet": false,
        "run_control": {
          "read_only": false
        },
        "id": "ptL-W1IQcNNz"
      },
      "source": [
        "Additionally, for the sake of making it easy to play around with the model's hyperparameters, we can declare them beforehand. Feel free to change these -- you will see a difference in performance each time you change those!\n"
      ]
    },
    {
      "cell_type": "code",
      "execution_count": 9,
      "metadata": {
        "button": false,
        "deletable": true,
        "new_sheet": false,
        "run_control": {
          "read_only": false
        },
        "id": "gYhVwHXYcNNz"
      },
      "outputs": [],
      "source": [
        "#Initial weight scale\n",
        "init_scale = 0.1\n",
        "#Initial learning rate\n",
        "learning_rate = 1.0\n",
        "#Maximum permissible norm for the gradient (For gradient clipping -- another measure against Exploding Gradients)\n",
        "max_grad_norm = 5\n",
        "#The number of layers in our model\n",
        "num_layers = 2\n",
        "#The total number of recurrence steps, also known as the number of layers when our RNN is \"unfolded\"\n",
        "num_steps = 20\n",
        "#The number of processing units (neurons) in the hidden layers\n",
        "hidden_size_l1 = 256\n",
        "hidden_size_l2 = 128\n",
        "#The maximum number of epochs trained with the initial learning rate\n",
        "max_epoch_decay_lr = 4\n",
        "#The total number of epochs in training\n",
        "max_epoch = 15\n",
        "#The probability for keeping data in the Dropout Layer (This is an optimization, but is outside our scope for this notebook!)\n",
        "#At 1, we ignore the Dropout Layer wrapping.\n",
        "keep_prob = 1\n",
        "#The decay for the learning rate\n",
        "decay = 0.5\n",
        "#The size for each batch of data\n",
        "batch_size = 30\n",
        "#The size of our vocabulary\n",
        "vocab_size = 10000\n",
        "embeding_vector_size= 200\n",
        "#Training flag to separate training from testing\n",
        "is_training = 1\n",
        "#Data directory for our dataset\n",
        "data_dir = \"data/simple-examples/data/\""
      ]
    },
    {
      "cell_type": "markdown",
      "metadata": {
        "button": false,
        "new_sheet": false,
        "run_control": {
          "read_only": false
        },
        "id": "xMFhUY81cNNz"
      },
      "source": [
        "Some clarifications for LSTM architecture based on the arguments:\n",
        "\n",
        "Network structure:\n",
        "\n",
        "<ul>\n",
        "    <li>In this network, the number of LSTM cells are 2. To give the model more expressive power, we can add multiple layers of LSTMs to process the data. The output of the first layer will become the input of the second and so on.\n",
        "    </li>\n",
        "    <li>The recurrence steps is 20, that is, when our RNN is \"Unfolded\", the recurrence step is 20.</li>   \n",
        "    <li>the structure is like:\n",
        "        <ul>\n",
        "            <li>200 input units -> [200x200] Weight -> 200 Hidden units (first layer) -> [200x200] Weight matrix  -> 200 Hidden units (second layer) ->  [200] weight Matrix -> 200 unit output</li>\n",
        "        </ul>\n",
        "    </li>\n",
        "</ul>\n",
        "<br>\n",
        "\n",
        "Input layer:\n",
        "\n",
        "<ul>\n",
        "    <li>The network has 200 input units.</li>\n",
        "    <li>Suppose each word is represented by an embedding vector of dimensionality e=200. The input layer of each cell will have 200 linear units. These e=200 linear units are connected to each of the h=200 LSTM units in the hidden layer (assuming there is only one hidden layer, though our case has 2 layers).\n",
        "    </li>\n",
        "    <li>The input shape is [batch_size, num_steps], that is [30x20]. It will turn into [30x20x200] after embedding, and then 20x[30x200]\n",
        "    </li>\n",
        "</ul>\n",
        "<br>\n",
        "\n",
        "Hidden layer:\n",
        "\n",
        "<ul>\n",
        "    <li>Each LSTM has 200 hidden units which is equivalent to the dimensionality of the embedding words and output.</li>\n",
        "</ul>\n",
        "<br>\n"
      ]
    },
    {
      "cell_type": "markdown",
      "metadata": {
        "button": false,
        "deletable": true,
        "new_sheet": false,
        "run_control": {
          "read_only": false
        },
        "id": "Fn4GoBXxcNNz"
      },
      "source": [
        "There is a lot to be done and a ton of information to process at the same time, so go over this code slowly. It may seem complex at first, but if you try to apply what you just learned about language modelling to the code you see, you should be able to understand it.\n",
        "\n",
        "This code is adapted from the <a href=\"https://github.com/tensorflow/models?utm_medium=Exinfluencer&utm_source=Exinfluencer&utm_content=000026UJ&utm_term=10006555&utm_id=NA-SkillsNetwork-Channel-SkillsNetworkCoursesIBMDeveloperSkillsNetworkDL0120ENSkillsNetwork20629446-2022-01-01\">PTBModel</a> example bundled with the TensorFlow source code.\n",
        "\n",
        "<h3>Training data</h3>\n",
        "The story starts from data:\n",
        "<ul>\n",
        "    <li>Train data is a list of words, of size 929589, represented by numbers, e.g. [9971, 9972, 9974, 9975,...]</li>\n",
        "    <li>We read data as mini-batch of size b=30. Assume the size of each sentence is 20 words (num_steps = 20). Then it will take $$floor(\\frac{N}{b \\times h})+1=1548$$ iterations for the learner to go through all sentences once. Where N is the size of the list of words, b is batch size, and h is size of each sentence. So, the number of iterators is 1548\n",
        "    </li>\n",
        "    <li>Each batch data is read from train dataset of size 600, and shape of [30x20]</li>\n",
        "</ul>\n"
      ]
    },
    {
      "cell_type": "code",
      "execution_count": 16,
      "metadata": {
        "button": false,
        "deletable": true,
        "new_sheet": false,
        "run_control": {
          "read_only": false
        },
        "id": "YwsghAvlcNN0"
      },
      "outputs": [],
      "source": [
        "# Reads the data and separates it into training data, validation data and testing data\n",
        "# print(dir(reader).reader())\n",
        "import os\n",
        "os.chdir('/content/')\n",
        "\n",
        "raw_data = reader.ptb_raw_data(data_dir)\n",
        "train_data, valid_data, test_data, vocab, word_to_id = raw_data"
      ]
    },
    {
      "cell_type": "code",
      "execution_count": 7,
      "metadata": {
        "id": "fizqa-NIcNN0",
        "outputId": "72eb1c8c-ff87-4686-e36e-55cae50ad64b",
        "colab": {
          "base_uri": "https://localhost:8080/"
        }
      },
      "outputs": [
        {
          "output_type": "execute_result",
          "data": {
            "text/plain": [
              "929589"
            ]
          },
          "metadata": {},
          "execution_count": 7
        }
      ],
      "source": [
        "len(train_data)"
      ]
    },
    {
      "cell_type": "code",
      "execution_count": 17,
      "metadata": {
        "tags": [],
        "id": "UBWAXh0zcNN0",
        "outputId": "7dfebf62-5c38-465a-8a9d-9c4ec2d2bd34",
        "colab": {
          "base_uri": "https://localhost:8080/"
        }
      },
      "outputs": [
        {
          "output_type": "stream",
          "name": "stdout",
          "text": [
            "['aer', 'banknote', 'berlitz', 'calloway', 'centrust', 'cluett', 'fromstein', 'gitano', 'guterman', 'hydro-quebec', 'ipo', 'kia', 'memotec', 'mlx', 'nahb', 'punts', 'rake', 'regatta', 'rubens', 'sim', 'snack-food', 'ssangyong', 'swapo', 'wachter', '<eos>', 'pierre', '<unk>', 'N', 'years', 'old', 'will', 'join', 'the', 'board', 'as', 'a', 'nonexecutive', 'director', 'nov.', 'N', '<eos>', 'mr.', '<unk>', 'is', 'chairman', 'of', '<unk>', 'n.v.', 'the', 'dutch', 'publishing', 'group', '<eos>', 'rudolph', '<unk>', 'N', 'years', 'old', 'and', 'former', 'chairman', 'of', 'consolidated', 'gold', 'fields', 'plc', 'was', 'named', 'a', 'nonexecutive', 'director', 'of', 'this', 'british', 'industrial', 'conglomerate', '<eos>', 'a', 'form', 'of', 'asbestos', 'once', 'used', 'to', 'make', 'kent', 'cigarette', 'filters', 'has', 'caused', 'a', 'high', 'percentage', 'of', 'cancer', 'deaths', 'among', 'a', 'group', 'of']\n"
          ]
        }
      ],
      "source": [
        "def id_to_word(id_list):\n",
        "    line = []\n",
        "    for w in id_list:\n",
        "        for word, wid in word_to_id.items():\n",
        "            if wid == w:\n",
        "                line.append(word)\n",
        "    return line            \n",
        "                \n",
        "\n",
        "print(id_to_word(train_data[0:100]))"
      ]
    },
    {
      "cell_type": "markdown",
      "metadata": {
        "button": false,
        "deletable": true,
        "new_sheet": false,
        "run_control": {
          "read_only": false
        },
        "id": "mQPSArI7cNN0"
      },
      "source": [
        "Lets just read one mini-batch now and feed our network:\n"
      ]
    },
    {
      "cell_type": "code",
      "execution_count": 18,
      "metadata": {
        "button": false,
        "deletable": true,
        "new_sheet": false,
        "run_control": {
          "read_only": false
        },
        "id": "GvKTQhHNcNN0"
      },
      "outputs": [],
      "source": [
        "itera = reader.ptb_iterator(train_data, batch_size, num_steps)\n",
        "first_touple = itera.__next__()\n",
        "_input_data = first_touple[0]\n",
        "_targets = first_touple[1]"
      ]
    },
    {
      "cell_type": "code",
      "execution_count": 19,
      "metadata": {
        "button": false,
        "deletable": true,
        "new_sheet": false,
        "run_control": {
          "read_only": false
        },
        "id": "GClQsfymcNN0",
        "outputId": "463063bd-2cbc-4d69-d2b3-1d8d702c4786",
        "colab": {
          "base_uri": "https://localhost:8080/"
        }
      },
      "outputs": [
        {
          "output_type": "execute_result",
          "data": {
            "text/plain": [
              "(30, 20)"
            ]
          },
          "metadata": {},
          "execution_count": 19
        }
      ],
      "source": [
        "_input_data.shape"
      ]
    },
    {
      "cell_type": "code",
      "execution_count": 20,
      "metadata": {
        "id": "jzW0UuAQcNN1",
        "outputId": "208c9382-d4a5-41ba-f9e7-fe60914c529a",
        "colab": {
          "base_uri": "https://localhost:8080/"
        }
      },
      "outputs": [
        {
          "output_type": "execute_result",
          "data": {
            "text/plain": [
              "(30, 20)"
            ]
          },
          "metadata": {},
          "execution_count": 20
        }
      ],
      "source": [
        "_targets.shape"
      ]
    },
    {
      "cell_type": "markdown",
      "metadata": {
        "button": false,
        "deletable": true,
        "new_sheet": false,
        "run_control": {
          "read_only": false
        },
        "id": "cTjn-Q9ucNN1"
      },
      "source": [
        "Lets look at 3 sentences of our input x:\n"
      ]
    },
    {
      "cell_type": "code",
      "execution_count": 21,
      "metadata": {
        "button": false,
        "deletable": true,
        "new_sheet": false,
        "run_control": {
          "read_only": false
        },
        "id": "NYDbuxL8cNN1",
        "outputId": "c62e4a0a-e7fa-47e8-b2b0-0b64c0136c4f",
        "colab": {
          "base_uri": "https://localhost:8080/"
        }
      },
      "outputs": [
        {
          "output_type": "execute_result",
          "data": {
            "text/plain": [
              "array([[9970, 9971, 9972, 9974, 9975, 9976, 9980, 9981, 9982, 9983, 9984,\n",
              "        9986, 9987, 9988, 9989, 9991, 9992, 9993, 9994, 9995],\n",
              "       [2654,    6,  334, 2886,    4,    1,  233,  711,  834,   11,  130,\n",
              "         123,    7,  514,    2,   63,   10,  514,    8,  605],\n",
              "       [   0, 1071,    4,    0,  185,   24,  368,   20,   31, 3109,  954,\n",
              "          12,    3,   21,    2, 2915,    2,   12,    3,   21]],\n",
              "      dtype=int32)"
            ]
          },
          "metadata": {},
          "execution_count": 21
        }
      ],
      "source": [
        "_input_data[0:3]"
      ]
    },
    {
      "cell_type": "code",
      "execution_count": 22,
      "metadata": {
        "id": "aKzQuYwTcNN1",
        "outputId": "243f9293-fa35-4f0b-a9fd-b3e8458ecc37",
        "colab": {
          "base_uri": "https://localhost:8080/"
        }
      },
      "outputs": [
        {
          "output_type": "stream",
          "name": "stdout",
          "text": [
            "['aer', 'banknote', 'berlitz', 'calloway', 'centrust', 'cluett', 'fromstein', 'gitano', 'guterman', 'hydro-quebec', 'ipo', 'kia', 'memotec', 'mlx', 'nahb', 'punts', 'rake', 'regatta', 'rubens', 'sim']\n"
          ]
        }
      ],
      "source": [
        "print(id_to_word(_input_data[0,:]))"
      ]
    },
    {
      "cell_type": "markdown",
      "metadata": {
        "button": false,
        "deletable": true,
        "new_sheet": false,
        "run_control": {
          "read_only": false
        },
        "id": "Q3tGalQrcNN1"
      },
      "source": [
        "<h3>Embeddings</h3>\n",
        "We have to convert the words in our dataset to vectors of numbers. The traditional approach is to use one-hot encoding method that is usually used for converting categorical values to numerical values. However, One-hot encoded vectors are high-dimensional, sparse and in a big dataset, computationally inefficient. So, we use word2vec approach. It is, in fact, a layer in our LSTM network, where the word IDs will be represented as a dense representation before feeding to the LSTM. \n",
        "\n",
        "The embedded vectors also get updated during the training process of the deep neural network.\n",
        "We create the embeddings for our input data. <b>embedding_vocab</b> is matrix of \\[10000x200] for all 10000 unique words.\n"
      ]
    },
    {
      "cell_type": "markdown",
      "metadata": {
        "button": false,
        "deletable": true,
        "new_sheet": false,
        "run_control": {
          "read_only": false
        },
        "id": "QmM07DRUcNN2"
      },
      "source": [
        "<b>embedding_lookup()</b> finds the embedded values for our batch of 30x20 words. It  goes to each row of <code>input_data</code>, and for each word in the row/sentence, finds the correspond vector in <code>embedding_dic<code>. <br>\n",
        "It creates a \\[30x20x200] tensor, so, the first element of <b>inputs</b> (the first sentence), is a matrix of 20x200, which each row of it, is vector representing a word in the sentence.\n"
      ]
    },
    {
      "cell_type": "code",
      "execution_count": 23,
      "metadata": {
        "id": "716FJ92LcNN2"
      },
      "outputs": [],
      "source": [
        "embedding_layer = tf.keras.layers.Embedding(vocab_size, embeding_vector_size,batch_input_shape=(batch_size, num_steps),trainable=True,name=\"embedding_vocab\")  "
      ]
    },
    {
      "cell_type": "code",
      "execution_count": null,
      "metadata": {
        "id": "PClg_UDlcNN2"
      },
      "outputs": [],
      "source": [
        "# Define where to get the data for our embeddings from\n",
        "inputs = embedding_layer(_input_data)\n",
        "inputs"
      ]
    },
    {
      "cell_type": "markdown",
      "metadata": {
        "id": "1yLP3l6EcNN2"
      },
      "source": [
        "<h3>Constructing Recurrent Neural Networks</h3>\n"
      ]
    },
    {
      "cell_type": "markdown",
      "metadata": {
        "button": false,
        "deletable": true,
        "new_sheet": false,
        "run_control": {
          "read_only": false
        },
        "id": "NMqyXd1dcNN2"
      },
      "source": [
        "In this step, we create the stacked LSTM using <b>tf.keras.layers.StackedRNNCells</b>, which is a 2 layer LSTM network:\n"
      ]
    },
    {
      "cell_type": "code",
      "execution_count": 25,
      "metadata": {
        "id": "edvU1G8gcNN2"
      },
      "outputs": [],
      "source": [
        "lstm_cell_l1 = tf.keras.layers.LSTMCell(hidden_size_l1)\n",
        "lstm_cell_l2 = tf.keras.layers.LSTMCell(hidden_size_l2)"
      ]
    },
    {
      "cell_type": "code",
      "execution_count": 26,
      "metadata": {
        "button": false,
        "deletable": true,
        "new_sheet": false,
        "run_control": {
          "read_only": false
        },
        "id": "nAGwoVZmcNN2"
      },
      "outputs": [],
      "source": [
        "stacked_lstm = tf.keras.layers.StackedRNNCells([lstm_cell_l1, lstm_cell_l2])"
      ]
    },
    {
      "cell_type": "markdown",
      "metadata": {
        "id": "SKbC3pHbcNN3"
      },
      "source": [
        "<b>tf.keras.layers.RNN</b> creates a recurrent neural network using <b>stacked_lstm</b>.\n",
        "\n",
        "The input should be a Tensor of shape: \\[batch_size, max_time, embedding_vector_size], in our case it would be (30, 20, 200)\n"
      ]
    },
    {
      "cell_type": "code",
      "execution_count": 27,
      "metadata": {
        "id": "ixK5UkpccNN3"
      },
      "outputs": [],
      "source": [
        "layer  =  tf.keras.layers.RNN(stacked_lstm,[batch_size, num_steps],return_state=False,stateful=True,trainable=True)"
      ]
    },
    {
      "cell_type": "markdown",
      "metadata": {
        "button": false,
        "deletable": true,
        "new_sheet": false,
        "run_control": {
          "read_only": false
        },
        "id": "iHZedOOQcNN3"
      },
      "source": [
        "Also, we initialize the states of the nework:\n",
        "\n",
        "<h4>_initial_state</h4>\n",
        "\n",
        "For each LSTM, there are 2 state matrices, c_state and m_state.  c_state and m_state represent \"Memory State\" and \"Cell State\". Each hidden layer, has a vector of size 30, which keeps the states. so, for 200 hidden units in each LSTM, we have a matrix of size \\[30x200]\n"
      ]
    },
    {
      "cell_type": "code",
      "execution_count": 28,
      "metadata": {
        "id": "EKGNcVQmcNN3"
      },
      "outputs": [],
      "source": [
        "init_state = tf.Variable(tf.zeros([batch_size,embeding_vector_size]),trainable=False)"
      ]
    },
    {
      "cell_type": "code",
      "execution_count": 29,
      "metadata": {
        "id": "jkiLdBgLcNN3"
      },
      "outputs": [],
      "source": [
        "layer.inital_state = init_state"
      ]
    },
    {
      "cell_type": "code",
      "execution_count": 30,
      "metadata": {
        "id": "W8AjCPRgcNN3",
        "outputId": "77a70b7d-229c-4b34-e1cd-b5b9c19453ba",
        "colab": {
          "base_uri": "https://localhost:8080/"
        }
      },
      "outputs": [
        {
          "output_type": "execute_result",
          "data": {
            "text/plain": [
              "<tf.Variable 'Variable:0' shape=(30, 200) dtype=float32, numpy=\n",
              "array([[0., 0., 0., ..., 0., 0., 0.],\n",
              "       [0., 0., 0., ..., 0., 0., 0.],\n",
              "       [0., 0., 0., ..., 0., 0., 0.],\n",
              "       ...,\n",
              "       [0., 0., 0., ..., 0., 0., 0.],\n",
              "       [0., 0., 0., ..., 0., 0., 0.],\n",
              "       [0., 0., 0., ..., 0., 0., 0.]], dtype=float32)>"
            ]
          },
          "metadata": {},
          "execution_count": 30
        }
      ],
      "source": [
        "layer.inital_state"
      ]
    },
    {
      "cell_type": "markdown",
      "metadata": {
        "id": "b-9jCKg9cNN3"
      },
      "source": [
        "so, lets look at the outputs. The output of the stackedLSTM comes from 128 hidden_layer, and in each time step(=20), one of them get activated. we use the linear activation to map the 128 hidden layer to a \\[30X20 matrix]\n"
      ]
    },
    {
      "cell_type": "code",
      "execution_count": 31,
      "metadata": {
        "id": "YZYVFzELcNN3"
      },
      "outputs": [],
      "source": [
        "outputs = layer(inputs)"
      ]
    },
    {
      "cell_type": "code",
      "execution_count": null,
      "metadata": {
        "id": "H6P7OmNbcNN4"
      },
      "outputs": [],
      "source": [
        "outputs"
      ]
    },
    {
      "cell_type": "markdown",
      "metadata": {
        "button": false,
        "deletable": true,
        "new_sheet": false,
        "run_control": {
          "read_only": false
        },
        "id": "pQ0OgxahcNN4"
      },
      "source": [
        "<h2>Dense layer</h2>\n",
        "We now create densely-connected neural network layer that would reshape the outputs tensor from  [30 x 20 x 128] to [30 x 20 x 10000].\n"
      ]
    },
    {
      "cell_type": "code",
      "execution_count": 33,
      "metadata": {
        "id": "aKd0hOX7cNN4"
      },
      "outputs": [],
      "source": [
        "dense = tf.keras.layers.Dense(vocab_size)"
      ]
    },
    {
      "cell_type": "code",
      "execution_count": 35,
      "metadata": {
        "id": "VXoznsbKcNN4"
      },
      "outputs": [],
      "source": [
        "logits_outputs  = dense(outputs)"
      ]
    },
    {
      "cell_type": "code",
      "execution_count": 36,
      "metadata": {
        "id": "jxdRrPQ2cNN4",
        "outputId": "3442035b-53e2-46c9-cf26-2c700f659cd6",
        "colab": {
          "base_uri": "https://localhost:8080/"
        }
      },
      "outputs": [
        {
          "output_type": "stream",
          "name": "stdout",
          "text": [
            "shape of the output from dense layer:  (30, 20, 10000)\n"
          ]
        }
      ],
      "source": [
        "print(\"shape of the output from dense layer: \", logits_outputs.shape) #(batch_size, sequence_length, vocab_size)"
      ]
    },
    {
      "cell_type": "markdown",
      "metadata": {
        "id": "k2LAhvPBcNN4"
      },
      "source": [
        "<h2>Activation layer</h2>\n",
        "\n",
        "A softmax activation layers is also then applied to derive the probability of the output being in any of the multiclass(10000 in this case) possibilities.\n"
      ]
    },
    {
      "cell_type": "code",
      "execution_count": 37,
      "metadata": {
        "id": "6FWYYUZ9cNN4"
      },
      "outputs": [],
      "source": [
        "activation = tf.keras.layers.Activation('softmax')"
      ]
    },
    {
      "cell_type": "code",
      "execution_count": 38,
      "metadata": {
        "id": "ztPDx4UYcNN4"
      },
      "outputs": [],
      "source": [
        "output_words_prob = activation(logits_outputs)"
      ]
    },
    {
      "cell_type": "code",
      "execution_count": 39,
      "metadata": {
        "id": "c_TOWFdOcNN5",
        "outputId": "41f0fcbd-fe69-4f14-ff5f-252a0a03b145",
        "colab": {
          "base_uri": "https://localhost:8080/"
        }
      },
      "outputs": [
        {
          "output_type": "stream",
          "name": "stdout",
          "text": [
            "shape of the output from the activation layer:  (30, 20, 10000)\n"
          ]
        }
      ],
      "source": [
        "print(\"shape of the output from the activation layer: \", output_words_prob.shape) #(batch_size, sequence_length, vocab_size)"
      ]
    },
    {
      "cell_type": "markdown",
      "metadata": {
        "id": "kWv2qMZncNN5"
      },
      "source": [
        "Lets look at the probability of observing words for t=0 to t=20:\n"
      ]
    },
    {
      "cell_type": "code",
      "execution_count": 40,
      "metadata": {
        "id": "F9rp1-t_cNN5",
        "outputId": "bb54c1b1-93ea-4929-cea8-21c789347e21",
        "colab": {
          "base_uri": "https://localhost:8080/"
        }
      },
      "outputs": [
        {
          "output_type": "stream",
          "name": "stdout",
          "text": [
            "The probability of observing words in t=0 to t=20 tf.Tensor(\n",
            "[[9.99885451e-05 9.99962504e-05 9.99765034e-05 ... 9.99956392e-05\n",
            "  9.99920012e-05 9.99902986e-05]\n",
            " [9.99829354e-05 1.00009274e-04 9.99637414e-05 ... 9.99952026e-05\n",
            "  9.99888143e-05 1.00009056e-04]\n",
            " [9.99868498e-05 1.00044846e-04 9.99436088e-05 ... 1.00009478e-04\n",
            "  9.99835174e-05 1.00010504e-04]\n",
            " ...\n",
            " [1.00020188e-04 1.00032405e-04 1.00019795e-04 ... 1.00076199e-04\n",
            "  9.99455660e-05 1.00004450e-04]\n",
            " [9.99929180e-05 1.00041296e-04 1.00033518e-04 ... 1.00087629e-04\n",
            "  9.99407712e-05 1.00022837e-04]\n",
            " [9.99930053e-05 1.00011828e-04 1.00053876e-04 ... 1.00106583e-04\n",
            "  9.99413678e-05 1.00033139e-04]], shape=(20, 10000), dtype=float32)\n"
          ]
        }
      ],
      "source": [
        "print(\"The probability of observing words in t=0 to t=20\", output_words_prob[0,0:num_steps])"
      ]
    },
    {
      "cell_type": "markdown",
      "metadata": {
        "button": false,
        "deletable": true,
        "new_sheet": false,
        "run_control": {
          "read_only": false
        },
        "id": "-NlnoAjRcNN5"
      },
      "source": [
        "<h3>Prediction</h3>\n",
        "What is the word correspond to the probability output? Lets use the maximum probability:\n"
      ]
    },
    {
      "cell_type": "code",
      "execution_count": 41,
      "metadata": {
        "id": "1Bl8j4GgcNN5",
        "outputId": "442b3e13-8012-40ca-a7a2-3937c6144a45",
        "colab": {
          "base_uri": "https://localhost:8080/"
        }
      },
      "outputs": [
        {
          "output_type": "execute_result",
          "data": {
            "text/plain": [
              "array([3823, 4753, 4753,  331, 5848, 5848, 5848, 5848, 5848, 5848, 7697,\n",
              "       7697, 7697,  420,  420,  420,  420, 4355, 4355, 4355])"
            ]
          },
          "metadata": {},
          "execution_count": 41
        }
      ],
      "source": [
        "np.argmax(output_words_prob[0,0:num_steps], axis=1)"
      ]
    },
    {
      "cell_type": "markdown",
      "source": [
        ""
      ],
      "metadata": {
        "id": "wxNuQ8kqcYbI"
      }
    },
    {
      "cell_type": "markdown",
      "metadata": {
        "button": false,
        "deletable": true,
        "new_sheet": false,
        "run_control": {
          "read_only": false
        },
        "id": "hpgkpBW3cNN5"
      },
      "source": [
        "So, what is the ground truth for the first word of first sentence? You can get it from target tensor, if you want to find the embedding vector:\n"
      ]
    },
    {
      "cell_type": "code",
      "execution_count": 42,
      "metadata": {
        "button": false,
        "deletable": true,
        "new_sheet": false,
        "run_control": {
          "read_only": false
        },
        "id": "mRB475TwcNN6",
        "outputId": "15f17266-aa65-4942-e0db-49e76508241e",
        "colab": {
          "base_uri": "https://localhost:8080/"
        }
      },
      "outputs": [
        {
          "output_type": "execute_result",
          "data": {
            "text/plain": [
              "array([9971, 9972, 9974, 9975, 9976, 9980, 9981, 9982, 9983, 9984, 9986,\n",
              "       9987, 9988, 9989, 9991, 9992, 9993, 9994, 9995, 9996], dtype=int32)"
            ]
          },
          "metadata": {},
          "execution_count": 42
        }
      ],
      "source": [
        "_targets[0]"
      ]
    },
    {
      "cell_type": "markdown",
      "metadata": {
        "button": false,
        "new_sheet": false,
        "run_control": {
          "read_only": false
        },
        "id": "9Vd63sqhcNN6"
      },
      "source": [
        "<h4>Objective function</h4>\n",
        "\n",
        "How similar the predicted words are to the target words?\n",
        "\n",
        "Now we have to define our objective function, to calculate the similarity of predicted values to ground truth, and then, penalize the model with the error. Our objective is to minimize loss function, that is, to minimize the average negative log probability of the target words:\n",
        "\n",
        "$$\\text{loss} = -\\frac{1}{N}\\sum\\_{i=1}^{N} \\ln p\\_{\\text{target}\\_i}$$\n",
        "\n",
        "This function is already implemented and available in TensorFlow through *tf.keras.losses.sparse_categorical_crossentropy*. It calculates the categorical cross-entropy loss for <b>logits</b> and the <b>target</b> sequence.\n",
        "\n",
        "The arguments of this function are:\n",
        "\n",
        "<ul>\n",
        "    <li>logits: List of 2D Tensors of shape [batch_size x num_decoder_symbols].</li>  \n",
        "    <li>targets: List of 1D batch-sized int32 Tensors of the same length as logits.</li>   \n",
        "</ul>\n"
      ]
    },
    {
      "cell_type": "code",
      "execution_count": 43,
      "metadata": {
        "id": "7YTQOoMTcNN6"
      },
      "outputs": [],
      "source": [
        "def crossentropy(y_true, y_pred):\n",
        "    return tf.keras.losses.sparse_categorical_crossentropy(y_true, y_pred)"
      ]
    },
    {
      "cell_type": "code",
      "execution_count": 44,
      "metadata": {
        "id": "QnYGigJpcNN6"
      },
      "outputs": [],
      "source": [
        "loss  = crossentropy(_targets, output_words_prob)"
      ]
    },
    {
      "cell_type": "markdown",
      "metadata": {
        "button": false,
        "new_sheet": false,
        "run_control": {
          "read_only": false
        },
        "id": "9oO1ZXUgcNN6"
      },
      "source": [
        "Lets look at the first 10 values of loss:\n"
      ]
    },
    {
      "cell_type": "code",
      "execution_count": 45,
      "metadata": {
        "id": "iJncaknTcNN6",
        "outputId": "39ca0f75-1f06-49e5-820d-f739ff032d3d",
        "colab": {
          "base_uri": "https://localhost:8080/"
        }
      },
      "outputs": [
        {
          "output_type": "execute_result",
          "data": {
            "text/plain": [
              "<tf.Tensor: shape=(10,), dtype=float32, numpy=\n",
              "array([9.210515, 9.210109, 9.210359, 9.210397, 9.209662, 9.211176,\n",
              "       9.210644, 9.20989 , 9.209743, 9.209697], dtype=float32)>"
            ]
          },
          "metadata": {},
          "execution_count": 45
        }
      ],
      "source": [
        "loss[0,:10]"
      ]
    },
    {
      "cell_type": "markdown",
      "metadata": {
        "id": "ZwL4t6QscNN7"
      },
      "source": [
        "Now, we define cost as average of the losses:\n"
      ]
    },
    {
      "cell_type": "code",
      "execution_count": 46,
      "metadata": {
        "id": "HhYfDpNtcNN9",
        "outputId": "54e40a82-7aa9-42d5-8431-51cd01ae38cf",
        "colab": {
          "base_uri": "https://localhost:8080/"
        }
      },
      "outputs": [
        {
          "output_type": "execute_result",
          "data": {
            "text/plain": [
              "<tf.Tensor: shape=(), dtype=float32, numpy=184.20706>"
            ]
          },
          "metadata": {},
          "execution_count": 46
        }
      ],
      "source": [
        "cost = tf.reduce_sum(loss / batch_size)\n",
        "cost"
      ]
    },
    {
      "cell_type": "markdown",
      "metadata": {
        "button": false,
        "deletable": true,
        "new_sheet": false,
        "run_control": {
          "read_only": false
        },
        "id": "w4SQCpk3cNN-"
      },
      "source": [
        "<h3>Training</h3>\n",
        "\n",
        "To do training for our network, we have to take the following steps:\n",
        "\n",
        "<ol>\n",
        "    <li>Define the optimizer.</li>\n",
        "    <li>Assemble layers to build model.</li>\n",
        "    <li>Calculate the gradients based on the loss function.</li>\n",
        "    <li>Apply the optimizer to the variables/gradients tuple.</li>\n",
        "</ol>\n"
      ]
    },
    {
      "cell_type": "markdown",
      "metadata": {
        "button": false,
        "deletable": true,
        "new_sheet": false,
        "run_control": {
          "read_only": false
        },
        "id": "ca3FTLLxcNN-"
      },
      "source": [
        "<h4>1. Define Optimizer</h4>\n"
      ]
    },
    {
      "cell_type": "code",
      "execution_count": 47,
      "metadata": {
        "id": "C0Z-jM0HcNN-"
      },
      "outputs": [],
      "source": [
        "# Create a variable for the learning rate\n",
        "lr = tf.Variable(0.0, trainable=False)\n",
        "optimizer = tf.keras.optimizers.SGD(lr=lr, clipnorm=max_grad_norm)"
      ]
    },
    {
      "cell_type": "markdown",
      "metadata": {
        "id": "M5P4xfG7cNN-"
      },
      "source": [
        "<h4>2. Assemble layers to build model.</h4>\n"
      ]
    },
    {
      "cell_type": "code",
      "execution_count": 48,
      "metadata": {
        "id": "Wa6sKwJ0cNN-",
        "outputId": "9f9b8132-2ea1-4c52-b179-5a080eec21cc",
        "colab": {
          "base_uri": "https://localhost:8080/"
        }
      },
      "outputs": [
        {
          "output_type": "stream",
          "name": "stdout",
          "text": [
            "Model: \"sequential\"\n",
            "_________________________________________________________________\n",
            "Layer (type)                 Output Shape              Param #   \n",
            "=================================================================\n",
            "embedding_vocab (Embedding)  (30, 20, 200)             2000000   \n",
            "_________________________________________________________________\n",
            "rnn (RNN)                    (30, 20, 128)             671088    \n",
            "_________________________________________________________________\n",
            "dense (Dense)                (30, 20, 10000)           1290000   \n",
            "_________________________________________________________________\n",
            "activation (Activation)      (30, 20, 10000)           0         \n",
            "=================================================================\n",
            "Total params: 3,961,088\n",
            "Trainable params: 3,955,088\n",
            "Non-trainable params: 6,000\n",
            "_________________________________________________________________\n"
          ]
        }
      ],
      "source": [
        "model = tf.keras.Sequential()\n",
        "model.add(embedding_layer)\n",
        "model.add(layer)\n",
        "model.add(dense)\n",
        "model.add(activation)\n",
        "model.compile(loss=crossentropy, optimizer=optimizer)\n",
        "model.summary()"
      ]
    },
    {
      "cell_type": "markdown",
      "metadata": {
        "button": false,
        "new_sheet": false,
        "run_control": {
          "read_only": false
        },
        "id": "j3FgL8AAcNN-"
      },
      "source": [
        "<h4>2. Trainable Variables</h4>\n"
      ]
    },
    {
      "cell_type": "markdown",
      "metadata": {
        "button": false,
        "new_sheet": false,
        "run_control": {
          "read_only": false
        },
        "id": "3KjLvJ0NcNN-"
      },
      "source": [
        "Defining a variable, if you passed <i>trainable=True</i>, the variable constructor automatically adds new variables to the graph collection <b>GraphKeys.TRAINABLE_VARIABLES</b>. Now, using <i>tf.trainable_variables()</i> you can get all variables created with <b>trainable=True</b>.\n"
      ]
    },
    {
      "cell_type": "code",
      "execution_count": 49,
      "metadata": {
        "button": false,
        "new_sheet": false,
        "run_control": {
          "read_only": false
        },
        "id": "Q_Ovrz6JcNN-"
      },
      "outputs": [],
      "source": [
        "# Get all TensorFlow variables marked as \"trainable\" (i.e. all of them except _lr, which we just created)\n",
        "tvars = model.trainable_variables"
      ]
    },
    {
      "cell_type": "markdown",
      "metadata": {
        "button": false,
        "new_sheet": false,
        "run_control": {
          "read_only": false
        },
        "id": "AXhWXsvLcNN_"
      },
      "source": [
        "Note: we can find the name and scope of all variables:\n"
      ]
    },
    {
      "cell_type": "code",
      "execution_count": 50,
      "metadata": {
        "button": false,
        "new_sheet": false,
        "run_control": {
          "read_only": false
        },
        "id": "Jrr0l7i5cNN_",
        "outputId": "47fc3e0e-c7be-49f2-c079-0aa653e1dd4b",
        "colab": {
          "base_uri": "https://localhost:8080/"
        }
      },
      "outputs": [
        {
          "output_type": "execute_result",
          "data": {
            "text/plain": [
              "['embedding_vocab/embeddings:0',\n",
              " 'rnn/stacked_rnn_cells/lstm_cell/kernel:0',\n",
              " 'rnn/stacked_rnn_cells/lstm_cell/recurrent_kernel:0',\n",
              " 'rnn/stacked_rnn_cells/lstm_cell/bias:0',\n",
              " 'rnn/stacked_rnn_cells/lstm_cell_1/kernel:0',\n",
              " 'rnn/stacked_rnn_cells/lstm_cell_1/recurrent_kernel:0',\n",
              " 'rnn/stacked_rnn_cells/lstm_cell_1/bias:0',\n",
              " 'dense/kernel:0',\n",
              " 'dense/bias:0']"
            ]
          },
          "metadata": {},
          "execution_count": 50
        }
      ],
      "source": [
        "[v.name for v in tvars] "
      ]
    },
    {
      "cell_type": "markdown",
      "metadata": {
        "button": false,
        "new_sheet": false,
        "run_control": {
          "read_only": false
        },
        "id": "BFLdINdBcNN_"
      },
      "source": [
        "<h4>3. Calculate the gradients based on the loss function</h4>\n"
      ]
    },
    {
      "cell_type": "markdown",
      "metadata": {
        "button": false,
        "deletable": true,
        "new_sheet": false,
        "run_control": {
          "read_only": false
        },
        "id": "aCobaIXLcNN_"
      },
      "source": [
        "**Gradient**: The gradient of a function is the slope of its derivative (line), or in other words, the rate of change of a function. It's a vector (a direction to move) that points in the direction of greatest increase of the function, and calculated by the <b>derivative</b> operation.\n"
      ]
    },
    {
      "cell_type": "markdown",
      "metadata": {
        "id": "munWWKkqcNN_"
      },
      "source": [
        "First lets recall the gradient function using an toy example:\n",
        "$$ z = \\left(2x^2 + 3xy\\right)$$\n"
      ]
    },
    {
      "cell_type": "code",
      "execution_count": 51,
      "metadata": {
        "id": "rTz1-ceXcNN_"
      },
      "outputs": [],
      "source": [
        "x = tf.constant(1.0)\n",
        "y =  tf.constant(2.0)\n",
        "with tf.GradientTape(persistent=True) as g:\n",
        "    g.watch(x)\n",
        "    g.watch(y)\n",
        "    func_test = 2 * x * x + 3 * x * y"
      ]
    },
    {
      "cell_type": "markdown",
      "metadata": {
        "id": "gdL-tFVNcNN_"
      },
      "source": [
        "The <b>tf.gradients()</b> function allows you to compute the symbolic gradient of one tensor with respect to one or more other tensors—including variables. <b>tf.gradients(func, xs)</b> constructs symbolic partial derivatives of sum of <b>func</b> w\\.r.t. <i>x</i> in <b>xs</b>.\n",
        "\n",
        "Now, lets look at the derivitive w\\.r.t. <b>var_x</b>:\n",
        "$$ \\frac{\\partial :}{\\partial \\:x}\\left(2x^2 + 3xy\\right) = 4x + 3y $$\n"
      ]
    },
    {
      "cell_type": "code",
      "execution_count": 52,
      "metadata": {
        "id": "SIeqQ6uGcNN_",
        "outputId": "8c9f881d-c3d5-4a09-8ad0-4bbdd73b66fb",
        "colab": {
          "base_uri": "https://localhost:8080/"
        }
      },
      "outputs": [
        {
          "output_type": "stream",
          "name": "stdout",
          "text": [
            "tf.Tensor(10.0, shape=(), dtype=float32)\n"
          ]
        }
      ],
      "source": [
        "var_grad = g.gradient(func_test, x) # Will compute to 10.0\n",
        "print(var_grad)"
      ]
    },
    {
      "cell_type": "markdown",
      "metadata": {
        "id": "3ynmUNt7cNOA"
      },
      "source": [
        "the derivative w\\.r.t. <b>var_y</b>:\n",
        "$$ \\frac{\\partial :}{\\partial \\:y}\\left(2x^2 + 3xy\\right) = 3x $$\n"
      ]
    },
    {
      "cell_type": "code",
      "execution_count": 53,
      "metadata": {
        "id": "LhX7-EdncNOA",
        "outputId": "dfa87277-2ce1-44a4-f749-841e71eddc14",
        "colab": {
          "base_uri": "https://localhost:8080/"
        }
      },
      "outputs": [
        {
          "output_type": "stream",
          "name": "stdout",
          "text": [
            "tf.Tensor(3.0, shape=(), dtype=float32)\n"
          ]
        }
      ],
      "source": [
        "var_grad = g.gradient(func_test, y) # Will compute to 3.0\n",
        "print(var_grad)"
      ]
    },
    {
      "cell_type": "markdown",
      "metadata": {
        "id": "pRTIQTPKcNOA"
      },
      "source": [
        "Now, we can look at gradients w\\.r.t all variables:\n"
      ]
    },
    {
      "cell_type": "code",
      "execution_count": 54,
      "metadata": {
        "id": "Y6pphe6OcNOA"
      },
      "outputs": [],
      "source": [
        "with tf.GradientTape() as tape:\n",
        "    # Forward pass.\n",
        "    output_words_prob = model(_input_data)\n",
        "    # Loss value for this batch.\n",
        "    loss  = crossentropy(_targets, output_words_prob)\n",
        "    cost = tf.reduce_sum(loss,axis=0) / batch_size"
      ]
    },
    {
      "cell_type": "code",
      "execution_count": 55,
      "metadata": {
        "id": "TmtcA6cicNOA"
      },
      "outputs": [],
      "source": [
        "# Get gradients of loss wrt the trainable variables.\n",
        "grad_t_list = tape.gradient(cost, tvars)"
      ]
    },
    {
      "cell_type": "code",
      "execution_count": null,
      "metadata": {
        "id": "siI-LjfvcNOA"
      },
      "outputs": [],
      "source": [
        "print(grad_t_list)"
      ]
    },
    {
      "cell_type": "markdown",
      "metadata": {
        "button": false,
        "new_sheet": false,
        "run_control": {
          "read_only": false
        },
        "id": "DFYVvpRZcNOA"
      },
      "source": [
        "now, we have a list of tensors, t-list. We can use it to find clipped tensors. <b>clip_by_global_norm</b> clips values of multiple tensors by the ratio of the sum of their norms.\n",
        "\n",
        "<b>clip_by_global_norm</b> get <i>t-list</i> as input and returns 2 things:\n",
        "\n",
        "<ul>\n",
        "    <li>a list of clipped tensors, so called <i>list_clipped</i></li> \n",
        "    <li>the global norm (global_norm) of all tensors in t_list</li> \n",
        "</ul>\n"
      ]
    },
    {
      "cell_type": "code",
      "execution_count": null,
      "metadata": {
        "id": "qCT2XnHGcNOA"
      },
      "outputs": [],
      "source": [
        "# Define the gradient clipping threshold\n",
        "grads, _ = tf.clip_by_global_norm(grad_t_list, max_grad_norm)\n",
        "grads"
      ]
    },
    {
      "cell_type": "markdown",
      "metadata": {
        "id": "f-mXbeA9cNOB"
      },
      "source": [
        "<h4> 4.Apply the optimizer to the variables/gradients tuple. </h4>\n"
      ]
    },
    {
      "cell_type": "code",
      "execution_count": 58,
      "metadata": {
        "id": "HwDVtPqTcNOB"
      },
      "outputs": [],
      "source": [
        "# Create the training TensorFlow Operation through our optimizer\n",
        "train_op = optimizer.apply_gradients(zip(grads, tvars))"
      ]
    },
    {
      "cell_type": "markdown",
      "metadata": {
        "id": "d7f_VsuqcNOB"
      },
      "source": [
        "<a id=\"ltsm\"></a>\n",
        "\n",
        "<h2>LSTM</h2>\n"
      ]
    },
    {
      "cell_type": "markdown",
      "metadata": {
        "button": false,
        "deletable": true,
        "new_sheet": false,
        "run_control": {
          "read_only": false
        },
        "id": "bYBkq-kRcNOB"
      },
      "source": [
        "We learned how the model is build step by step. Noe, let's then create a Class that represents our model. This class needs a few things:\n",
        "\n",
        "<ul>\n",
        "    <li>We have to create the model in accordance with our defined hyperparameters</li>\n",
        "    <li>We have to create the LSTM cell structure and connect them with our RNN structure</li>\n",
        "    <li>We have to create the word embeddings and point them to the input data</li>\n",
        "    <li>We have to create the input structure for our RNN</li>\n",
        "    <li>We need to create a logistic structure to return the probability of our words</li>\n",
        "    <li>We need to create the loss and cost functions for our optimizer to work, and then create the optimizer</li>\n",
        "    <li>And finally, we need to create a training operation that can be run to actually train our model</li>\n",
        "</ul>\n"
      ]
    },
    {
      "cell_type": "code",
      "execution_count": 59,
      "metadata": {
        "button": false,
        "deletable": true,
        "new_sheet": false,
        "run_control": {
          "read_only": false
        },
        "tags": [],
        "id": "t83yLR0UcNOB"
      },
      "outputs": [],
      "source": [
        "class PTBModel(object):\n",
        "\n",
        "\n",
        "    def __init__(self):\n",
        "        ######################################\n",
        "        # Setting parameters for ease of use #\n",
        "        ######################################\n",
        "        self.batch_size = batch_size\n",
        "        self.num_steps = num_steps\n",
        "        self.hidden_size_l1 = hidden_size_l1\n",
        "        self.hidden_size_l2 = hidden_size_l2\n",
        "        self.vocab_size = vocab_size\n",
        "        self.embeding_vector_size = embeding_vector_size\n",
        "        # Create a variable for the learning rate\n",
        "        self._lr = 1.0\n",
        "        \n",
        "        ###############################################################################\n",
        "        # Initializing the model using keras Sequential API  #\n",
        "        ###############################################################################\n",
        "        \n",
        "        self._model = tf.keras.models.Sequential()\n",
        "        \n",
        "        ####################################################################\n",
        "        # Creating the word embeddings layer and adding it to the sequence #\n",
        "        ####################################################################\n",
        "        with tf.device(\"/cpu:0\"):\n",
        "            # Create the embeddings for our input data. Size is hidden size.\n",
        "            self._embedding_layer = tf.keras.layers.Embedding(self.vocab_size, self.embeding_vector_size,batch_input_shape=(self.batch_size, self.num_steps),trainable=True,name=\"embedding_vocab\")  #[10000x200]\n",
        "            self._model.add(self._embedding_layer)\n",
        "            \n",
        "\n",
        "        ##########################################################################\n",
        "        # Creating the LSTM cell structure and connect it with the RNN structure #\n",
        "        ##########################################################################\n",
        "        # Create the LSTM Cells. \n",
        "        # This creates only the structure for the LSTM and has to be associated with a RNN unit still.\n",
        "        # The argument  of LSTMCell is size of hidden layer, that is, the number of hidden units of the LSTM (inside A). \n",
        "        # LSTM cell processes one word at a time and computes probabilities of the possible continuations of the sentence.\n",
        "        lstm_cell_l1 = tf.keras.layers.LSTMCell(hidden_size_l1)\n",
        "        lstm_cell_l2 = tf.keras.layers.LSTMCell(hidden_size_l2)\n",
        "        \n",
        "\n",
        "        \n",
        "        # By taking in the LSTM cells as parameters, the StackedRNNCells function junctions the LSTM units to the RNN units.\n",
        "        # RNN cell composed sequentially of stacked simple cells.\n",
        "        stacked_lstm = tf.keras.layers.StackedRNNCells([lstm_cell_l1, lstm_cell_l2])\n",
        "\n",
        "\n",
        "        \n",
        "\n",
        "        ############################################\n",
        "        # Creating the input structure for our RNN #\n",
        "        ############################################\n",
        "        # Input structure is 20x[30x200]\n",
        "        # Considering each word is represended by a 200 dimentional vector, and we have 30 batchs, we create 30 word-vectors of size [30xx2000]\n",
        "        # The input structure is fed from the embeddings, which are filled in by the input data\n",
        "        # Feeding a batch of b sentences to a RNN:\n",
        "        # In step 1,  first word of each of the b sentences (in a batch) is input in parallel.  \n",
        "        # In step 2,  second word of each of the b sentences is input in parallel. \n",
        "        # The parallelism is only for efficiency.  \n",
        "        # Each sentence in a batch is handled in parallel, but the network sees one word of a sentence at a time and does the computations accordingly. \n",
        "        # All the computations involving the words of all sentences in a batch at a given time step are done in parallel. \n",
        "\n",
        "        ########################################################################################################\n",
        "        # Instantiating our RNN model and setting stateful to True to feed forward the state to the next layer #\n",
        "        ########################################################################################################\n",
        "        \n",
        "        self._RNNlayer  =  tf.keras.layers.RNN(stacked_lstm,[batch_size, num_steps],return_state=False,stateful=True,trainable=True)\n",
        "        \n",
        "        # Define the initial state, i.e., the model state for the very first data point\n",
        "        # It initialize the state of the LSTM memory. The memory state of the network is initialized with a vector of zeros and gets updated after reading each word.\n",
        "        self._initial_state = tf.Variable(tf.zeros([batch_size,embeding_vector_size]),trainable=False)\n",
        "        self._RNNlayer.inital_state = self._initial_state\n",
        "    \n",
        "        ############################################\n",
        "        # Adding RNN layer to keras sequential API #\n",
        "        ############################################        \n",
        "        self._model.add(self._RNNlayer)\n",
        "        \n",
        "        #self._model.add(tf.keras.layers.LSTM(hidden_size_l1,return_sequences=True,stateful=True))\n",
        "        #self._model.add(tf.keras.layers.LSTM(hidden_size_l2,return_sequences=True))\n",
        "        \n",
        "        \n",
        "        ####################################################################################################\n",
        "        # Instantiating a Dense layer that connects the output to the vocab_size  and adding layer to model#\n",
        "        ####################################################################################################\n",
        "        self._dense = tf.keras.layers.Dense(self.vocab_size)\n",
        "        self._model.add(self._dense)\n",
        " \n",
        "        \n",
        "        ####################################################################################################\n",
        "        # Adding softmax activation layer and deriving probability to each class and adding layer to model #\n",
        "        ####################################################################################################\n",
        "        self._activation = tf.keras.layers.Activation('softmax')\n",
        "        self._model.add(self._activation)\n",
        "\n",
        "        ##########################################################\n",
        "        # Instantiating the stochastic gradient decent optimizer #\n",
        "        ########################################################## \n",
        "        self._optimizer = tf.keras.optimizers.SGD(lr=self._lr, clipnorm=max_grad_norm)\n",
        "        \n",
        "        \n",
        "        ##############################################################################\n",
        "        # Compiling and summarizing the model stacked using the keras sequential API #\n",
        "        ##############################################################################\n",
        "        self._model.compile(loss=self.crossentropy, optimizer=self._optimizer)\n",
        "        self._model.summary()\n",
        "\n",
        "\n",
        "    def crossentropy(self,y_true, y_pred):\n",
        "        return tf.keras.losses.sparse_categorical_crossentropy(y_true, y_pred)\n",
        "\n",
        "    def train_batch(self,_input_data,_targets):\n",
        "        #################################################\n",
        "        # Creating the Training Operation for our Model #\n",
        "        #################################################\n",
        "        # Create a variable for the learning rate\n",
        "        self._lr = tf.Variable(0.0, trainable=False)\n",
        "        # Get all TensorFlow variables marked as \"trainable\" (i.e. all of them except _lr, which we just created)\n",
        "        tvars = self._model.trainable_variables\n",
        "        # Define the gradient clipping threshold\n",
        "        with tf.GradientTape() as tape:\n",
        "            # Forward pass.\n",
        "            output_words_prob = self._model(_input_data)\n",
        "            # Loss value for this batch.\n",
        "            loss  = self.crossentropy(_targets, output_words_prob)\n",
        "            # average across batch and reduce sum\n",
        "            cost = tf.reduce_sum(loss/ self.batch_size)\n",
        "        # Get gradients of loss wrt the trainable variables.\n",
        "        grad_t_list = tape.gradient(cost, tvars)\n",
        "        # Define the gradient clipping threshold\n",
        "        grads, _ = tf.clip_by_global_norm(grad_t_list, max_grad_norm)\n",
        "        # Create the training TensorFlow Operation through our optimizer\n",
        "        train_op = self._optimizer.apply_gradients(zip(grads, tvars))\n",
        "        return cost\n",
        "        \n",
        "    def test_batch(self,_input_data,_targets):\n",
        "        #################################################\n",
        "        # Creating the Testing Operation for our Model #\n",
        "        #################################################\n",
        "        output_words_prob = self._model(_input_data)\n",
        "        loss  = self.crossentropy(_targets, output_words_prob)\n",
        "        # average across batch and reduce sum\n",
        "        cost = tf.reduce_sum(loss/ self.batch_size)\n",
        "\n",
        "        return cost\n",
        "    @classmethod\n",
        "    def instance(cls) : \n",
        "        return PTBModel()"
      ]
    },
    {
      "cell_type": "markdown",
      "metadata": {
        "button": false,
        "deletable": true,
        "new_sheet": false,
        "run_control": {
          "read_only": false
        },
        "id": "AtUUTMvycNOC"
      },
      "source": [
        "With that, the actual structure of our Recurrent Neural Network with Long Short-Term Memory is finished. What remains for us to do is to actually create the methods to run through time -- that is, the <code>run_epoch</code> method to be run at each epoch and a <code>main</code> script which ties all of this together.\n",
        "\n",
        "What our <code>run_epoch</code> method should do is take our input data and feed it to the relevant operations. This will return at the very least the current result for the cost function.\n"
      ]
    },
    {
      "cell_type": "code",
      "execution_count": 60,
      "metadata": {
        "button": false,
        "deletable": true,
        "new_sheet": false,
        "run_control": {
          "read_only": false
        },
        "id": "EdCWu1GicNOC"
      },
      "outputs": [],
      "source": [
        "\n",
        "########################################################################################################################\n",
        "# run_one_epoch takes as parameters  the model instance, the data to be fed, training or testing mode and verbose info #\n",
        "########################################################################################################################\n",
        "def run_one_epoch(m, data,is_training=True,verbose=False):\n",
        "\n",
        "    #Define the epoch size based on the length of the data, batch size and the number of steps\n",
        "    epoch_size = ((len(data) // m.batch_size) - 1) // m.num_steps\n",
        "    start_time = time.time()\n",
        "    costs = 0.\n",
        "    iters = 0\n",
        "    \n",
        "    m._model.reset_states()\n",
        "    \n",
        "    #For each step and data point\n",
        "    for step, (x, y) in enumerate(reader.ptb_iterator(data, m.batch_size, m.num_steps)):\n",
        "        \n",
        "        #Evaluate and return cost, state by running cost, final_state and the function passed as parameter\n",
        "        #y = tf.keras.utils.to_categorical(y, num_classes=vocab_size)\n",
        "        if is_training : \n",
        "            loss=  m.train_batch(x, y)\n",
        "        else :\n",
        "            loss = m.test_batch(x, y)\n",
        "                                   \n",
        "\n",
        "        #Add returned cost to costs (which keeps track of the total costs for this epoch)\n",
        "        costs += loss\n",
        "        \n",
        "        #Add number of steps to iteration counter\n",
        "        iters += m.num_steps\n",
        "\n",
        "        if verbose and step % (epoch_size // 10) == 10:\n",
        "            print(\"Itr %d of %d, perplexity: %.3f speed: %.0f wps\" % (step , epoch_size, np.exp(costs / iters), iters * m.batch_size / (time.time() - start_time)))\n",
        "        \n",
        "\n",
        "\n",
        "    # Returns the Perplexity rating for us to keep track of how the model is evolving\n",
        "    return np.exp(costs / iters)\n"
      ]
    },
    {
      "cell_type": "markdown",
      "metadata": {
        "button": false,
        "deletable": true,
        "new_sheet": false,
        "run_control": {
          "read_only": false
        },
        "id": "xgu-JEFPcNOC"
      },
      "source": [
        "Now, we create the <code>main</code> method to tie everything together. The code here reads the data from the directory, using the <code>reader</code> helper module, and then trains and evaluates the model on both a testing and a validating subset of data.\n"
      ]
    },
    {
      "cell_type": "code",
      "execution_count": 61,
      "metadata": {
        "button": false,
        "deletable": true,
        "new_sheet": false,
        "run_control": {
          "read_only": false
        },
        "tags": [],
        "id": "dWFEg5rdcNOC"
      },
      "outputs": [],
      "source": [
        "# Reads the data and separates it into training data, validation data and testing data\n",
        "raw_data = reader.ptb_raw_data(data_dir)\n",
        "train_data, valid_data, test_data, _, _ = raw_data"
      ]
    },
    {
      "cell_type": "code",
      "execution_count": 62,
      "metadata": {
        "tags": [],
        "id": "ngZcWm4VcNOC",
        "outputId": "c7dd1284-803b-4b0e-a075-05b4c653d6bf",
        "colab": {
          "base_uri": "https://localhost:8080/"
        }
      },
      "outputs": [
        {
          "output_type": "stream",
          "name": "stdout",
          "text": [
            "Model: \"sequential_1\"\n",
            "_________________________________________________________________\n",
            "Layer (type)                 Output Shape              Param #   \n",
            "=================================================================\n",
            "embedding_vocab (Embedding)  (30, 20, 200)             2000000   \n",
            "_________________________________________________________________\n",
            "rnn_1 (RNN)                  (30, 20, 128)             671088    \n",
            "_________________________________________________________________\n",
            "dense_1 (Dense)              (30, 20, 10000)           1290000   \n",
            "_________________________________________________________________\n",
            "activation_1 (Activation)    (30, 20, 10000)           0         \n",
            "=================================================================\n",
            "Total params: 3,961,088\n",
            "Trainable params: 3,955,088\n",
            "Non-trainable params: 6,000\n",
            "_________________________________________________________________\n",
            "Epoch 1 : Learning rate: 1.000\n",
            "Itr 10 of 1549, perplexity: 4740.449 speed: 7193 wps\n",
            "Itr 164 of 1549, perplexity: 1099.828 speed: 7885 wps\n",
            "Itr 318 of 1549, perplexity: 850.500 speed: 7876 wps\n",
            "Itr 472 of 1549, perplexity: 701.484 speed: 7907 wps\n",
            "Itr 626 of 1549, perplexity: 594.574 speed: 7827 wps\n",
            "Itr 780 of 1549, perplexity: 526.414 speed: 7841 wps\n",
            "Itr 934 of 1549, perplexity: 474.139 speed: 7850 wps\n",
            "Itr 1088 of 1549, perplexity: 435.683 speed: 7869 wps\n",
            "Itr 1242 of 1549, perplexity: 405.922 speed: 7887 wps\n",
            "Itr 1396 of 1549, perplexity: 378.545 speed: 7898 wps\n",
            "Epoch 1 : Train Perplexity: 357.047\n",
            "Epoch 1 : Valid Perplexity: 214.182\n",
            "Epoch 2 : Learning rate: 1.000\n",
            "Itr 10 of 1549, perplexity: 238.866 speed: 7470 wps\n",
            "Itr 164 of 1549, perplexity: 212.774 speed: 7886 wps\n",
            "Itr 318 of 1549, perplexity: 204.447 speed: 7904 wps\n",
            "Itr 472 of 1549, perplexity: 196.232 speed: 7697 wps\n",
            "Itr 626 of 1549, perplexity: 187.387 speed: 7797 wps\n",
            "Itr 780 of 1549, perplexity: 183.531 speed: 7822 wps\n",
            "Itr 934 of 1549, perplexity: 179.496 speed: 7836 wps\n",
            "Itr 1088 of 1549, perplexity: 176.160 speed: 7854 wps\n",
            "Itr 1242 of 1549, perplexity: 173.782 speed: 7861 wps\n",
            "Itr 1396 of 1549, perplexity: 169.672 speed: 7879 wps\n",
            "Epoch 2 : Train Perplexity: 166.879\n",
            "Epoch 2 : Valid Perplexity: 165.530\n",
            "Epoch 3 : Learning rate: 1.000\n",
            "Itr 10 of 1549, perplexity: 165.481 speed: 7514 wps\n",
            "Itr 164 of 1549, perplexity: 149.756 speed: 8011 wps\n",
            "Itr 318 of 1549, perplexity: 145.997 speed: 7968 wps\n",
            "Itr 472 of 1549, perplexity: 141.445 speed: 7951 wps\n",
            "Itr 626 of 1549, perplexity: 136.265 speed: 7928 wps\n",
            "Itr 780 of 1549, perplexity: 134.920 speed: 7926 wps\n",
            "Itr 934 of 1549, perplexity: 133.145 speed: 7924 wps\n",
            "Itr 1088 of 1549, perplexity: 131.575 speed: 7928 wps\n",
            "Itr 1242 of 1549, perplexity: 130.625 speed: 7942 wps\n",
            "Itr 1396 of 1549, perplexity: 128.248 speed: 7946 wps\n",
            "Epoch 3 : Train Perplexity: 126.966\n",
            "Epoch 3 : Valid Perplexity: 146.471\n",
            "Epoch 4 : Learning rate: 1.000\n",
            "Itr 10 of 1549, perplexity: 133.325 speed: 7612 wps\n",
            "Itr 164 of 1549, perplexity: 121.673 speed: 8021 wps\n",
            "Itr 318 of 1549, perplexity: 119.490 speed: 8034 wps\n",
            "Itr 472 of 1549, perplexity: 116.025 speed: 8037 wps\n",
            "Itr 626 of 1549, perplexity: 112.102 speed: 8043 wps\n",
            "Itr 780 of 1549, perplexity: 111.580 speed: 8034 wps\n",
            "Itr 934 of 1549, perplexity: 110.474 speed: 8042 wps\n",
            "Itr 1088 of 1549, perplexity: 109.481 speed: 8041 wps\n",
            "Itr 1242 of 1549, perplexity: 109.042 speed: 8040 wps\n",
            "Itr 1396 of 1549, perplexity: 107.360 speed: 8042 wps\n",
            "Epoch 4 : Train Perplexity: 106.579\n",
            "Epoch 4 : Valid Perplexity: 138.335\n",
            "Epoch 5 : Learning rate: 1.000\n",
            "Itr 10 of 1549, perplexity: 113.943 speed: 7502 wps\n",
            "Itr 164 of 1549, perplexity: 105.238 speed: 8006 wps\n",
            "Itr 318 of 1549, perplexity: 103.758 speed: 8041 wps\n",
            "Itr 472 of 1549, perplexity: 100.768 speed: 8057 wps\n",
            "Itr 626 of 1549, perplexity: 97.604 speed: 8073 wps\n",
            "Itr 780 of 1549, perplexity: 97.476 speed: 8054 wps\n",
            "Itr 934 of 1549, perplexity: 96.756 speed: 8047 wps\n",
            "Itr 1088 of 1549, perplexity: 96.097 speed: 8063 wps\n",
            "Itr 1242 of 1549, perplexity: 95.883 speed: 8062 wps\n",
            "Itr 1396 of 1549, perplexity: 94.573 speed: 8062 wps\n",
            "Epoch 5 : Train Perplexity: 94.066\n",
            "Epoch 5 : Valid Perplexity: 133.527\n",
            "Epoch 6 : Learning rate: 0.500\n",
            "Itr 10 of 1549, perplexity: 100.992 speed: 7571 wps\n",
            "Itr 164 of 1549, perplexity: 91.271 speed: 7967 wps\n",
            "Itr 318 of 1549, perplexity: 88.950 speed: 7995 wps\n",
            "Itr 472 of 1549, perplexity: 85.428 speed: 8022 wps\n",
            "Itr 626 of 1549, perplexity: 81.887 speed: 8045 wps\n",
            "Itr 780 of 1549, perplexity: 81.203 speed: 8045 wps\n",
            "Itr 934 of 1549, perplexity: 80.039 speed: 8054 wps\n",
            "Itr 1088 of 1549, perplexity: 78.913 speed: 8048 wps\n",
            "Itr 1242 of 1549, perplexity: 78.135 speed: 8054 wps\n",
            "Itr 1396 of 1549, perplexity: 76.470 speed: 8042 wps\n",
            "Epoch 6 : Train Perplexity: 75.499\n",
            "Epoch 6 : Valid Perplexity: 124.134\n",
            "Epoch 7 : Learning rate: 0.250\n",
            "Itr 10 of 1549, perplexity: 84.352 speed: 7652 wps\n",
            "Itr 164 of 1549, perplexity: 78.586 speed: 8044 wps\n",
            "Itr 318 of 1549, perplexity: 76.828 speed: 8091 wps\n",
            "Itr 472 of 1549, perplexity: 73.709 speed: 8092 wps\n",
            "Itr 626 of 1549, perplexity: 70.548 speed: 8099 wps\n",
            "Itr 780 of 1549, perplexity: 69.898 speed: 8075 wps\n",
            "Itr 934 of 1549, perplexity: 68.812 speed: 8069 wps\n",
            "Itr 1088 of 1549, perplexity: 67.696 speed: 8084 wps\n",
            "Itr 1242 of 1549, perplexity: 66.850 speed: 8083 wps\n",
            "Itr 1396 of 1549, perplexity: 65.252 speed: 8090 wps\n",
            "Epoch 7 : Train Perplexity: 64.254\n",
            "Epoch 7 : Valid Perplexity: 122.066\n",
            "Epoch 8 : Learning rate: 0.125\n",
            "Itr 10 of 1549, perplexity: 76.101 speed: 7555 wps\n",
            "Itr 164 of 1549, perplexity: 71.356 speed: 8042 wps\n",
            "Itr 318 of 1549, perplexity: 69.916 speed: 8034 wps\n",
            "Itr 472 of 1549, perplexity: 67.080 speed: 8058 wps\n",
            "Itr 626 of 1549, perplexity: 64.165 speed: 8047 wps\n",
            "Itr 780 of 1549, perplexity: 63.561 speed: 8031 wps\n",
            "Itr 934 of 1549, perplexity: 62.566 speed: 8046 wps\n",
            "Itr 1088 of 1549, perplexity: 61.520 speed: 8056 wps\n",
            "Itr 1242 of 1549, perplexity: 60.693 speed: 8061 wps\n",
            "Itr 1396 of 1549, perplexity: 59.182 speed: 8071 wps\n",
            "Epoch 8 : Train Perplexity: 58.220\n",
            "Epoch 8 : Valid Perplexity: 121.465\n",
            "Epoch 9 : Learning rate: 0.062\n",
            "Itr 10 of 1549, perplexity: 71.849 speed: 7727 wps\n",
            "Itr 164 of 1549, perplexity: 67.647 speed: 8075 wps\n",
            "Itr 318 of 1549, perplexity: 66.336 speed: 8131 wps\n",
            "Itr 472 of 1549, perplexity: 63.649 speed: 8136 wps\n",
            "Itr 626 of 1549, perplexity: 60.853 speed: 8141 wps\n",
            "Itr 780 of 1549, perplexity: 60.287 speed: 8131 wps\n",
            "Itr 934 of 1549, perplexity: 59.341 speed: 8130 wps\n",
            "Itr 1088 of 1549, perplexity: 58.328 speed: 8124 wps\n",
            "Itr 1242 of 1549, perplexity: 57.519 speed: 8127 wps\n",
            "Itr 1396 of 1549, perplexity: 56.057 speed: 8132 wps\n",
            "Epoch 9 : Train Perplexity: 55.115\n",
            "Epoch 9 : Valid Perplexity: 121.220\n",
            "Epoch 10 : Learning rate: 0.031\n",
            "Itr 10 of 1549, perplexity: 69.828 speed: 7659 wps\n",
            "Itr 164 of 1549, perplexity: 65.671 speed: 8084 wps\n",
            "Itr 318 of 1549, perplexity: 64.427 speed: 8076 wps\n",
            "Itr 472 of 1549, perplexity: 61.822 speed: 8113 wps\n",
            "Itr 626 of 1549, perplexity: 59.085 speed: 8123 wps\n",
            "Itr 780 of 1549, perplexity: 58.538 speed: 8150 wps\n",
            "Itr 934 of 1549, perplexity: 57.625 speed: 8144 wps\n",
            "Itr 1088 of 1549, perplexity: 56.624 speed: 8152 wps\n",
            "Itr 1242 of 1549, perplexity: 55.822 speed: 8152 wps\n",
            "Itr 1396 of 1549, perplexity: 54.389 speed: 8132 wps\n",
            "Epoch 10 : Train Perplexity: 53.458\n",
            "Epoch 10 : Valid Perplexity: 121.118\n",
            "Epoch 11 : Learning rate: 0.016\n",
            "Itr 10 of 1549, perplexity: 68.685 speed: 7556 wps\n",
            "Itr 164 of 1549, perplexity: 64.561 speed: 8009 wps\n",
            "Itr 318 of 1549, perplexity: 63.350 speed: 8095 wps\n",
            "Itr 472 of 1549, perplexity: 60.804 speed: 8114 wps\n",
            "Itr 626 of 1549, perplexity: 58.109 speed: 8132 wps\n",
            "Itr 780 of 1549, perplexity: 57.574 speed: 8133 wps\n",
            "Itr 934 of 1549, perplexity: 56.683 speed: 8130 wps\n",
            "Itr 1088 of 1549, perplexity: 55.686 speed: 8132 wps\n",
            "Itr 1242 of 1549, perplexity: 54.890 speed: 8130 wps\n",
            "Itr 1396 of 1549, perplexity: 53.473 speed: 8143 wps\n",
            "Epoch 11 : Train Perplexity: 52.551\n",
            "Epoch 11 : Valid Perplexity: 121.058\n",
            "Epoch 12 : Learning rate: 0.008\n",
            "Itr 10 of 1549, perplexity: 67.975 speed: 7649 wps\n",
            "Itr 164 of 1549, perplexity: 63.941 speed: 8147 wps\n",
            "Itr 318 of 1549, perplexity: 62.760 speed: 8131 wps\n",
            "Itr 472 of 1549, perplexity: 60.245 speed: 8137 wps\n",
            "Itr 626 of 1549, perplexity: 57.576 speed: 8143 wps\n",
            "Itr 780 of 1549, perplexity: 57.048 speed: 8166 wps\n",
            "Itr 934 of 1549, perplexity: 56.168 speed: 8169 wps\n",
            "Itr 1088 of 1549, perplexity: 55.176 speed: 8180 wps\n",
            "Itr 1242 of 1549, perplexity: 54.384 speed: 8170 wps\n",
            "Itr 1396 of 1549, perplexity: 52.977 speed: 8166 wps\n",
            "Epoch 12 : Train Perplexity: 52.057\n",
            "Epoch 12 : Valid Perplexity: 120.958\n",
            "Epoch 13 : Learning rate: 0.004\n",
            "Itr 10 of 1549, perplexity: 67.578 speed: 7644 wps\n",
            "Itr 164 of 1549, perplexity: 63.603 speed: 8098 wps\n",
            "Itr 318 of 1549, perplexity: 62.450 speed: 8156 wps\n",
            "Itr 472 of 1549, perplexity: 59.954 speed: 8171 wps\n",
            "Itr 626 of 1549, perplexity: 57.293 speed: 8176 wps\n",
            "Itr 780 of 1549, perplexity: 56.767 speed: 8169 wps\n",
            "Itr 934 of 1549, perplexity: 55.892 speed: 8152 wps\n",
            "Itr 1088 of 1549, perplexity: 54.905 speed: 8144 wps\n",
            "Itr 1242 of 1549, perplexity: 54.114 speed: 8150 wps\n",
            "Itr 1396 of 1549, perplexity: 52.714 speed: 8162 wps\n",
            "Epoch 13 : Train Perplexity: 51.794\n",
            "Epoch 13 : Valid Perplexity: 120.776\n",
            "Epoch 14 : Learning rate: 0.002\n",
            "Itr 10 of 1549, perplexity: 67.358 speed: 7626 wps\n",
            "Itr 164 of 1549, perplexity: 63.403 speed: 8225 wps\n",
            "Itr 318 of 1549, perplexity: 62.272 speed: 8218 wps\n",
            "Itr 472 of 1549, perplexity: 59.792 speed: 8175 wps\n",
            "Itr 626 of 1549, perplexity: 57.137 speed: 8195 wps\n",
            "Itr 780 of 1549, perplexity: 56.613 speed: 8194 wps\n",
            "Itr 934 of 1549, perplexity: 55.743 speed: 8206 wps\n",
            "Itr 1088 of 1549, perplexity: 54.758 speed: 8204 wps\n",
            "Itr 1242 of 1549, perplexity: 53.968 speed: 8214 wps\n",
            "Itr 1396 of 1549, perplexity: 52.572 speed: 8205 wps\n",
            "Epoch 14 : Train Perplexity: 51.653\n",
            "Epoch 14 : Valid Perplexity: 120.627\n",
            "Epoch 15 : Learning rate: 0.001\n",
            "Itr 10 of 1549, perplexity: 67.245 speed: 7771 wps\n",
            "Itr 164 of 1549, perplexity: 63.286 speed: 8173 wps\n",
            "Itr 318 of 1549, perplexity: 62.167 speed: 8223 wps\n",
            "Itr 472 of 1549, perplexity: 59.698 speed: 8213 wps\n",
            "Itr 626 of 1549, perplexity: 57.049 speed: 8206 wps\n",
            "Itr 780 of 1549, perplexity: 56.529 speed: 8217 wps\n",
            "Itr 934 of 1549, perplexity: 55.662 speed: 8207 wps\n",
            "Itr 1088 of 1549, perplexity: 54.678 speed: 8203 wps\n",
            "Itr 1242 of 1549, perplexity: 53.890 speed: 8205 wps\n",
            "Itr 1396 of 1549, perplexity: 52.496 speed: 8214 wps\n",
            "Epoch 15 : Train Perplexity: 51.578\n",
            "Epoch 15 : Valid Perplexity: 120.545\n",
            "Test Perplexity: 114.899\n"
          ]
        }
      ],
      "source": [
        "# Instantiates the PTBModel class\n",
        "m=PTBModel.instance()   \n",
        "K = tf.keras.backend \n",
        "for i in range(max_epoch):\n",
        "    # Define the decay for this epoch\n",
        "    lr_decay = decay ** max(i - max_epoch_decay_lr, 0.0)\n",
        "    dcr = learning_rate * lr_decay\n",
        "    m._lr = dcr\n",
        "    K.set_value(m._model.optimizer.learning_rate,m._lr)\n",
        "    print(\"Epoch %d : Learning rate: %.3f\" % (i + 1, m._model.optimizer.learning_rate))\n",
        "    # Run the loop for this epoch in the training mode\n",
        "    train_perplexity = run_one_epoch(m, train_data,is_training=True,verbose=True)\n",
        "    print(\"Epoch %d : Train Perplexity: %.3f\" % (i + 1, train_perplexity))\n",
        "        \n",
        "    # Run the loop for this epoch in the validation mode\n",
        "    valid_perplexity = run_one_epoch(m, valid_data,is_training=False,verbose=False)\n",
        "    print(\"Epoch %d : Valid Perplexity: %.3f\" % (i + 1, valid_perplexity))\n",
        "    \n",
        "# Run the loop in the testing mode to see how effective was our training\n",
        "test_perplexity = run_one_epoch(m, test_data,is_training=False,verbose=False)\n",
        "print(\"Test Perplexity: %.3f\" % test_perplexity)\n",
        "\n"
      ]
    },
    {
      "cell_type": "markdown",
      "metadata": {
        "button": false,
        "deletable": true,
        "new_sheet": false,
        "run_control": {
          "read_only": false
        },
        "id": "DChJ1bkwcNOC"
      },
      "source": [
        "As you can see, the model's perplexity rating drops very quickly after a few iterations. As was elaborated before, <b>lower Perplexity means that the model is more certain about its prediction</b>. As such, we can be sure that this model is performing well!\n"
      ]
    },
    {
      "cell_type": "markdown",
      "metadata": {
        "button": false,
        "deletable": true,
        "new_sheet": false,
        "run_control": {
          "read_only": false
        },
        "id": "iWgt0QwycNOD"
      },
      "source": [
        "***\n"
      ]
    },
    {
      "cell_type": "markdown",
      "metadata": {
        "button": false,
        "deletable": true,
        "new_sheet": false,
        "run_control": {
          "read_only": false
        },
        "id": "FqBZKNGncNOD"
      },
      "source": [
        "This is the end of the <b>Applying Recurrent Neural Networks to Text Processing</b> notebook. Hopefully you now have a better understanding of Recurrent Neural Networks and how to implement one utilizing TensorFlow. Thank you for reading this notebook, and good luck on your studies.\n"
      ]
    },
    {
      "cell_type": "markdown",
      "metadata": {
        "button": false,
        "deletable": true,
        "new_sheet": false,
        "run_control": {
          "read_only": false
        },
        "id": "HM6pMfGPcNOD"
      },
      "source": [
        "## Want to learn more?\n",
        "\n",
        "Also, you can use **Watson Studio** to run these notebooks faster with bigger datasets.**Watson Studio** is IBM’s leading cloud solution for data scientists, built by data scientists. With Jupyter notebooks, RStudio, Apache Spark and popular libraries pre-packaged in the cloud, **Watson Studio** enables data scientists to collaborate on their projects without having to install anything. Join the fast-growing community of **Watson Studio** users today with a free account at [Watson Studio](https://cocl.us/ML0120EN_DSX).This is the end of this lesson. Thank you for reading this notebook, and good luck on your studies.\n"
      ]
    },
    {
      "cell_type": "markdown",
      "metadata": {
        "button": false,
        "deletable": true,
        "new_sheet": false,
        "run_control": {
          "read_only": false
        },
        "id": "T9abhqGHcNOD"
      },
      "source": [
        "### Thanks for completing this lesson!\n",
        "\n",
        "Notebook created by <a href=\"https://br.linkedin.com/in/walter-gomes-de-amorim-junior-624726121?utm_medium=Exinfluencer&utm_source=Exinfluencer&utm_content=000026UJ&utm_term=10006555&utm_id=NA-SkillsNetwork-Channel-SkillsNetworkCoursesIBMDeveloperSkillsNetworkDL0120ENSkillsNetwork20629446-2022-01-01\">Walter Gomes de Amorim Junior</a>, <a href = \"https://linkedin.com/in/saeedaghabozorgi?utm_medium=Exinfluencer&utm_source=Exinfluencer&utm_content=000026UJ&utm_term=10006555&utm_id=NA-SkillsNetwork-Channel-SkillsNetworkCoursesIBMDeveloperSkillsNetworkDL0120ENSkillsNetwork20629446-2022-01-01\"> Saeed Aghabozorgi </a></h4>\n",
        "\n",
        "Updated to TF 2.X by  <a href=\"https://www.linkedin.com/in/samaya-madhavan?utm_medium=Exinfluencer&utm_source=Exinfluencer&utm_content=000026UJ&utm_term=10006555&utm_id=NA-SkillsNetwork-Channel-SkillsNetworkCoursesIBMDeveloperSkillsNetworkDL0120ENSkillsNetwork20629446-2022-01-01\"> Samaya Madhavan </a>\n"
      ]
    },
    {
      "cell_type": "markdown",
      "metadata": {
        "button": false,
        "deletable": true,
        "new_sheet": false,
        "run_control": {
          "read_only": false
        },
        "id": "_vOQ502CcNOD"
      },
      "source": [
        "<hr>\n",
        "\n",
        "Copyright © 2018 [Cognitive Class](https://cocl.us/DX0108EN_CC). This notebook and its source code are released under the terms of the [MIT License](https://bigdatauniversity.com/mit-license/?utm_medium=Exinfluencer&utm_source=Exinfluencer&utm_content=000026UJ&utm_term=10006555&utm_id=NA-SkillsNetwork-Channel-SkillsNetworkCoursesIBMDeveloperSkillsNetworkDL0120ENSkillsNetwork20629446-2022-01-01).\n"
      ]
    }
  ],
  "metadata": {
    "anaconda-cloud": {},
    "kernelspec": {
      "display_name": "Python",
      "language": "python",
      "name": "conda-env-python-py"
    },
    "language_info": {
      "codemirror_mode": {
        "name": "ipython",
        "version": 3
      },
      "file_extension": ".py",
      "mimetype": "text/x-python",
      "name": "python",
      "nbconvert_exporter": "python",
      "pygments_lexer": "ipython3",
      "version": "3.7.12"
    },
    "colab": {
      "name": "ML0120EN-3.2-Review-LSTM-LanguageModelling.ipynb",
      "provenance": []
    },
    "accelerator": "GPU",
    "gpuClass": "standard"
  },
  "nbformat": 4,
  "nbformat_minor": 0
}